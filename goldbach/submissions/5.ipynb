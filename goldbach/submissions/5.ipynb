{
 "cells": [
  {
   "cell_type": "code",
   "execution_count": null,
   "id": "distributed-fireplace",
   "metadata": {},
   "outputs": [],
   "source": [
    "def check_goldbach_for_num(n, primes_set):\n",
    "    for i in primes_set:\n",
    "        if (n-i)in primes_set:\n",
    "            return (True)\n",
    "\n"
   ]
  },
  {
   "cell_type": "code",
   "execution_count": null,
   "id": "automated-framework",
   "metadata": {},
   "outputs": [],
   "source": [
    "from sympy.ntheory.generate import primerange\n",
    "primes = set(primerange(50,1000))\n",
    "check_goldbach_for_num(116, primes)"
   ]
  }
 ],
 "metadata": {},
 "nbformat": 4,
 "nbformat_minor": 5
}
