{
 "cells": [
  {
   "cell_type": "markdown",
   "metadata": {},
   "source": [
    "# max_div_seq Runner"
   ]
  },
  {
   "cell_type": "code",
   "execution_count": 1,
   "outputs": [],
   "source": [
    "SEMESTER = '2017B'"
   ],
   "metadata": {
    "collapsed": false,
    "pycharm": {
     "name": "#%%\n"
    }
   }
  },
  {
   "cell_type": "code",
   "metadata": {
    "pycharm": {
     "name": "#%%\n"
    }
   },
   "source": [
    "import pybryt\n",
    "import os\n",
    "from shutil import copy, rmtree\n",
    "from tqdm import tqdm"
   ],
   "execution_count": 2,
   "outputs": []
  },
  {
   "cell_type": "code",
   "execution_count": 3,
   "metadata": {},
   "outputs": [],
   "source": [
    "ref = pybryt.ReferenceImplementation.compile(\"max_even_seq.ipynb\")\n",
    "ref.dump(\"max_even_seq-ref.pkl\")\n",
    "ref = pybryt.ReferenceImplementation.load(\"max_even_seq-ref.pkl\")"
   ]
  },
  {
   "cell_type": "code",
   "execution_count": 4,
   "metadata": {},
   "outputs": [],
   "source": [
    "from glob import glob\n",
    "subs = glob(f'subs/{SEMESTER}/*.py')"
   ]
  },
  {
   "cell_type": "code",
   "execution_count": 5,
   "metadata": {
    "pycharm": {
     "name": "#%%\n"
    }
   },
   "outputs": [
    {
     "name": "stderr",
     "output_type": "stream",
     "text": [
      "/Users/razlandau/Documents/Code/python/lib/python3.7/site-packages/IPython/nbformat.py:13: ShimWarning: The `IPython.nbformat` package has been deprecated since IPython 4.0. You should import from nbformat instead.\n",
      "  \"You should import from nbformat instead.\", ShimWarning)\n"
     ]
    }
   ],
   "source": [
    "import IPython.nbformat  as nbf\n",
    "from pathlib import Path\n",
    "\n",
    "notebooks = []\n",
    "\n",
    "for sub in subs:\n",
    "\n",
    "    code = Path(sub).read_text()\n",
    "\n",
    "    cells = []\n",
    "\n",
    "    cell = nbf.v4.new_code_cell(source=code)\n",
    "    cells.append(cell)\n",
    "    cell = nbf.v4.new_code_cell(source=\"max_div_seq(116, 1)\")\n",
    "    cells.append(cell)\n",
    "\n",
    "    nb = nbf.v4.new_notebook(cells = cells)\n",
    "\n",
    "    pre, ext = os.path.splitext(sub)\n",
    "    notebook = pre + '.ipynb'\n",
    "    with open(notebook, 'w') as f:\n",
    "\n",
    "            nbf.write(nb, f, 4)\n",
    "    notebooks.append(notebook)"
   ]
  },
  {
   "cell_type": "code",
   "execution_count": 6,
   "metadata": {},
   "outputs": [
    {
     "name": "stderr",
     "output_type": "stream",
     "text": [
      " 16%|█▌        | 31/198 [01:22<07:01,  2.52s/it]"
     ]
    },
    {
     "name": "stdout",
     "output_type": "stream",
     "text": [
      "SyntaxError in subs/2017B/65.ipynb\n",
      "ValueError in subs/2017B/51.ipynb\n"
     ]
    },
    {
     "name": "stderr",
     "output_type": "stream",
     "text": [
      " 21%|██        | 42/198 [01:46<06:27,  2.48s/it]"
     ]
    },
    {
     "name": "stdout",
     "output_type": "stream",
     "text": [
      "FileNotFoundError in subs/2017B/55.ipynb\n"
     ]
    },
    {
     "name": "stderr",
     "output_type": "stream",
     "text": [
      "100%|██████████| 198/198 [01:49<00:00,  1.81it/s]"
     ]
    },
    {
     "name": "stdout",
     "output_type": "stream",
     "text": [
      "FileNotFoundError in subs/2017B/61.ipynb\n",
      "FileNotFoundError in subs/2017B/30.ipynb\n",
      "FileNotFoundError in subs/2017B/20.ipynb\n",
      "FileNotFoundError in subs/2017B/71.ipynb\n",
      "FileNotFoundError in subs/2017B/82.ipynb\n",
      "FileNotFoundError in subs/2017B/45.ipynb\n",
      "FileNotFoundError in subs/2017B/14.ipynb\n",
      "FileNotFoundError in subs/2017B/149.ipynb\n",
      "FileNotFoundError in subs/2017B/118.ipynb\n",
      "FileNotFoundError in subs/2017B/6.ipynb\n",
      "FileNotFoundError in subs/2017B/99.ipynb\n",
      "FileNotFoundError in subs/2017B/166.ipynb\n",
      "FileNotFoundError in subs/2017B/137.ipynb\n",
      "FileNotFoundError in subs/2017B/195.ipynb\n",
      "FileNotFoundError in subs/2017B/103.ipynb\n",
      "FileNotFoundError in subs/2017B/152.ipynb\n",
      "FileNotFoundError in subs/2017B/142.ipynb\n",
      "FileNotFoundError in subs/2017B/113.ipynb\n",
      "FileNotFoundError in subs/2017B/185.ipynb\n",
      "FileNotFoundError in subs/2017B/127.ipynb\n",
      "FileNotFoundError in subs/2017B/176.ipynb\n",
      "FileNotFoundError in subs/2017B/89.ipynb\n",
      "FileNotFoundError in subs/2017B/2.ipynb\n",
      "FileNotFoundError in subs/2017B/156.ipynb\n",
      "FileNotFoundError in subs/2017B/107.ipynb\n",
      "FileNotFoundError in subs/2017B/133.ipynb\n",
      "FileNotFoundError in subs/2017B/162.ipynb\n",
      "FileNotFoundError in subs/2017B/191.ipynb\n",
      "FileNotFoundError in subs/2017B/181.ipynb\n",
      "FileNotFoundError in subs/2017B/172.ipynb\n",
      "FileNotFoundError in subs/2017B/123.ipynb\n",
      "FileNotFoundError in subs/2017B/117.ipynb\n",
      "FileNotFoundError in subs/2017B/146.ipynb\n",
      "FileNotFoundError in subs/2017B/3.ipynb\n",
      "FileNotFoundError in subs/2017B/157.ipynb\n",
      "FileNotFoundError in subs/2017B/106.ipynb\n",
      "FileNotFoundError in subs/2017B/132.ipynb\n",
      "FileNotFoundError in subs/2017B/163.ipynb\n",
      "FileNotFoundError in subs/2017B/190.ipynb\n",
      "FileNotFoundError in subs/2017B/180.ipynb\n",
      "FileNotFoundError in subs/2017B/173.ipynb\n",
      "FileNotFoundError in subs/2017B/122.ipynb\n",
      "FileNotFoundError in subs/2017B/116.ipynb\n",
      "FileNotFoundError in subs/2017B/147.ipynb\n",
      "FileNotFoundError in subs/2017B/7.ipynb\n",
      "FileNotFoundError in subs/2017B/98.ipynb\n",
      "FileNotFoundError in subs/2017B/167.ipynb\n",
      "FileNotFoundError in subs/2017B/136.ipynb\n",
      "FileNotFoundError in subs/2017B/194.ipynb\n",
      "FileNotFoundError in subs/2017B/102.ipynb\n",
      "FileNotFoundError in subs/2017B/153.ipynb\n",
      "FileNotFoundError in subs/2017B/143.ipynb\n",
      "FileNotFoundError in subs/2017B/112.ipynb\n",
      "FileNotFoundError in subs/2017B/184.ipynb\n",
      "FileNotFoundError in subs/2017B/126.ipynb\n",
      "FileNotFoundError in subs/2017B/177.ipynb\n",
      "FileNotFoundError in subs/2017B/88.ipynb\n",
      "FileNotFoundError in subs/2017B/0.ipynb\n",
      "FileNotFoundError in subs/2017B/58.ipynb\n",
      "FileNotFoundError in subs/2017B/105.ipynb\n",
      "FileNotFoundError in subs/2017B/154.ipynb\n",
      "FileNotFoundError in subs/2017B/193.ipynb\n",
      "FileNotFoundError in subs/2017B/160.ipynb\n",
      "FileNotFoundError in subs/2017B/131.ipynb\n",
      "FileNotFoundError in subs/2017B/121.ipynb\n",
      "FileNotFoundError in subs/2017B/170.ipynb\n",
      "FileNotFoundError in subs/2017B/183.ipynb\n",
      "FileNotFoundError in subs/2017B/144.ipynb\n",
      "FileNotFoundError in subs/2017B/115.ipynb\n",
      "FileNotFoundError in subs/2017B/48.ipynb\n",
      "FileNotFoundError in subs/2017B/19.ipynb\n",
      "FileNotFoundError in subs/2017B/4.ipynb\n",
      "FileNotFoundError in subs/2017B/39.ipynb\n",
      "FileNotFoundError in subs/2017B/68.ipynb\n",
      "FileNotFoundError in subs/2017B/197.ipynb\n",
      "FileNotFoundError in subs/2017B/135.ipynb\n",
      "FileNotFoundError in subs/2017B/164.ipynb\n",
      "FileNotFoundError in subs/2017B/150.ipynb\n",
      "FileNotFoundError in subs/2017B/101.ipynb\n",
      "FileNotFoundError in subs/2017B/111.ipynb\n",
      "FileNotFoundError in subs/2017B/140.ipynb\n",
      "FileNotFoundError in subs/2017B/174.ipynb\n",
      "FileNotFoundError in subs/2017B/125.ipynb\n",
      "FileNotFoundError in subs/2017B/187.ipynb\n",
      "FileNotFoundError in subs/2017B/78.ipynb\n",
      "FileNotFoundError in subs/2017B/29.ipynb\n",
      "FileNotFoundError in subs/2017B/5.ipynb\n",
      "FileNotFoundError in subs/2017B/38.ipynb\n",
      "FileNotFoundError in subs/2017B/69.ipynb\n",
      "FileNotFoundError in subs/2017B/196.ipynb\n",
      "FileNotFoundError in subs/2017B/134.ipynb\n",
      "FileNotFoundError in subs/2017B/165.ipynb\n",
      "FileNotFoundError in subs/2017B/151.ipynb\n",
      "FileNotFoundError in subs/2017B/100.ipynb\n",
      "FileNotFoundError in subs/2017B/110.ipynb\n",
      "FileNotFoundError in subs/2017B/141.ipynb\n",
      "FileNotFoundError in subs/2017B/175.ipynb\n",
      "FileNotFoundError in subs/2017B/124.ipynb\n",
      "FileNotFoundError in subs/2017B/186.ipynb\n",
      "FileNotFoundError in subs/2017B/79.ipynb\n",
      "FileNotFoundError in subs/2017B/28.ipynb\n",
      "FileNotFoundError in subs/2017B/1.ipynb\n",
      "FileNotFoundError in subs/2017B/59.ipynb\n",
      "FileNotFoundError in subs/2017B/104.ipynb\n",
      "FileNotFoundError in subs/2017B/155.ipynb\n",
      "FileNotFoundError in subs/2017B/192.ipynb\n",
      "FileNotFoundError in subs/2017B/161.ipynb\n",
      "FileNotFoundError in subs/2017B/130.ipynb\n",
      "FileNotFoundError in subs/2017B/120.ipynb\n",
      "FileNotFoundError in subs/2017B/171.ipynb\n",
      "FileNotFoundError in subs/2017B/182.ipynb\n",
      "FileNotFoundError in subs/2017B/145.ipynb\n",
      "FileNotFoundError in subs/2017B/114.ipynb\n",
      "FileNotFoundError in subs/2017B/49.ipynb\n",
      "FileNotFoundError in subs/2017B/18.ipynb\n",
      "FileNotFoundError in subs/2017B/66.ipynb\n",
      "FileNotFoundError in subs/2017B/37.ipynb\n",
      "FileNotFoundError in subs/2017B/95.ipynb\n",
      "FileNotFoundError in subs/2017B/52.ipynb\n",
      "FileNotFoundError in subs/2017B/42.ipynb\n",
      "FileNotFoundError in subs/2017B/13.ipynb\n",
      "FileNotFoundError in subs/2017B/85.ipynb\n",
      "FileNotFoundError in subs/2017B/27.ipynb\n",
      "FileNotFoundError in subs/2017B/76.ipynb\n",
      "FileNotFoundError in subs/2017B/189.ipynb\n",
      "FileNotFoundError in subs/2017B/56.ipynb\n",
      "FileNotFoundError in subs/2017B/33.ipynb\n",
      "FileNotFoundError in subs/2017B/62.ipynb\n",
      "FileNotFoundError in subs/2017B/91.ipynb\n",
      "FileNotFoundError in subs/2017B/81.ipynb\n",
      "FileNotFoundError in subs/2017B/72.ipynb\n",
      "FileNotFoundError in subs/2017B/23.ipynb\n",
      "FileNotFoundError in subs/2017B/17.ipynb\n",
      "FileNotFoundError in subs/2017B/46.ipynb\n",
      "FileNotFoundError in subs/2017B/57.ipynb\n",
      "FileNotFoundError in subs/2017B/32.ipynb\n",
      "FileNotFoundError in subs/2017B/63.ipynb\n",
      "FileNotFoundError in subs/2017B/90.ipynb\n",
      "FileNotFoundError in subs/2017B/80.ipynb\n",
      "FileNotFoundError in subs/2017B/73.ipynb\n",
      "FileNotFoundError in subs/2017B/22.ipynb\n",
      "FileNotFoundError in subs/2017B/16.ipynb\n",
      "FileNotFoundError in subs/2017B/47.ipynb\n",
      "FileNotFoundError in subs/2017B/198.ipynb\n",
      "FileNotFoundError in subs/2017B/67.ipynb\n",
      "FileNotFoundError in subs/2017B/36.ipynb\n",
      "FileNotFoundError in subs/2017B/94.ipynb\n",
      "FileNotFoundError in subs/2017B/53.ipynb\n",
      "FileNotFoundError in subs/2017B/43.ipynb\n",
      "FileNotFoundError in subs/2017B/12.ipynb\n",
      "FileNotFoundError in subs/2017B/84.ipynb\n",
      "FileNotFoundError in subs/2017B/26.ipynb\n",
      "FileNotFoundError in subs/2017B/77.ipynb\n",
      "FileNotFoundError in subs/2017B/188.ipynb\n"
     ]
    },
    {
     "name": "stderr",
     "output_type": "stream",
     "text": [
      "\n"
     ]
    }
   ],
   "source": [
    "student_impls = []\n",
    "for sub in tqdm(notebooks):\n",
    "    try:\n",
    "        student_impls.append(pybryt.StudentImplementation(sub))\n",
    "    except Exception as e:\n",
    "        print(f'{type(e).__name__} in {sub}')\n",
    "        student_impls.append(None)"
   ]
  },
  {
   "cell_type": "code",
   "execution_count": 7,
   "metadata": {},
   "outputs": [],
   "source": [
    "results = []\n",
    "for si in student_impls:\n",
    "    if si is None:\n",
    "        results.append(None)\n",
    "    else:\n",
    "        results.append(si.check(ref))"
   ]
  },
  {
   "cell_type": "code",
   "execution_count": 8,
   "metadata": {},
   "outputs": [],
   "source": [
    "path = f'./advices/{SEMESTER}'\n",
    "if os.path.exists(path):\n",
    "    rmtree(path)\n",
    "os.makedirs(path)\n",
    "for sp, res in zip(subs, results):\n",
    "    if res is None:\n",
    "        os.makedirs(f'{path}/Error', exist_ok=True)\n",
    "        copy(sp, f'{path}/Error/')\n",
    "        continue\n",
    "    if res.correct:\n",
    "        os.makedirs(f'{path}/None', exist_ok=True)\n",
    "        copy(sp, f'{path}/None/')\n",
    "        continue\n",
    "    for message in res.messages:\n",
    "        os.makedirs(f'{path}/{message}', exist_ok=True)\n",
    "        copy(sp, f'{path}/{message}/')"
   ]
  }
 ],
 "metadata": {
  "@webio": {
   "lastCommId": null,
   "lastKernelId": null
  },
  "kernelspec": {
   "display_name": "Python 3",
   "language": "python",
   "name": "python3"
  },
  "language_info": {
   "codemirror_mode": {
    "name": "ipython",
    "version": 3
   },
   "file_extension": ".py",
   "mimetype": "text/x-python",
   "name": "python",
   "nbconvert_exporter": "python",
   "pygments_lexer": "ipython3",
   "version": "3.7.3"
  }
 },
 "nbformat": 4,
 "nbformat_minor": 4
}