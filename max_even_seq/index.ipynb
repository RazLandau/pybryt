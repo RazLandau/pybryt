{
 "cells": [
  {
   "cell_type": "markdown",
   "metadata": {},
   "source": [
    "# max_div_seq Runner"
   ]
  },
  {
   "cell_type": "code",
   "execution_count": 17,
   "outputs": [],
   "source": [
    "SEMESTER = '2017B'"
   ],
   "metadata": {
    "collapsed": false,
    "pycharm": {
     "name": "#%%\n"
    }
   }
  },
  {
   "cell_type": "code",
   "metadata": {
    "pycharm": {
     "name": "#%%\n"
    }
   },
   "source": [
    "import pybryt\n",
    "import os\n",
    "from shutil import copy, rmtree\n",
    "from tqdm import tqdm"
   ],
   "execution_count": 18,
   "outputs": []
  },
  {
   "cell_type": "code",
   "execution_count": 19,
   "metadata": {},
   "outputs": [],
   "source": [
    "ref = pybryt.ReferenceImplementation.compile(\"max_even_seq.ipynb\")\n",
    "ref.dump(\"max_even_seq-ref.pkl\")\n",
    "ref = pybryt.ReferenceImplementation.load(\"max_even_seq-ref.pkl\")"
   ]
  },
  {
   "cell_type": "code",
   "execution_count": 20,
   "metadata": {},
   "outputs": [],
   "source": [
    "from glob import glob\n",
    "subs = glob(f'subs/{SEMESTER}/*.py')"
   ]
  },
  {
   "cell_type": "code",
   "execution_count": 21,
   "metadata": {
    "pycharm": {
     "name": "#%%\n"
    }
   },
   "outputs": [],
   "source": [
    "import IPython.nbformat  as nbf\n",
    "from pathlib import Path\n",
    "\n",
    "notebooks = []\n",
    "\n",
    "for sub in subs:\n",
    "\n",
    "    code = Path(sub).read_text()\n",
    "\n",
    "    cells = []\n",
    "\n",
    "    cell = nbf.v4.new_code_cell(source=code)\n",
    "    cells.append(cell)\n",
    "    cell = nbf.v4.new_code_cell(source=\"max_even_seq(222)\")\n",
    "    cells.append(cell)\n",
    "\n",
    "    nb = nbf.v4.new_notebook(cells = cells)\n",
    "\n",
    "    pre, ext = os.path.splitext(sub)\n",
    "    notebook = pre + '.ipynb'\n",
    "    with open(notebook, 'w') as f:\n",
    "\n",
    "            nbf.write(nb, f, 4)\n",
    "    notebooks.append(notebook)"
   ]
  },
  {
   "cell_type": "code",
   "execution_count": null,
   "metadata": {
    "pycharm": {
     "is_executing": true
    }
   },
   "outputs": [
    {
     "name": "stderr",
     "output_type": "stream",
     "text": [
      "  6%|▌         | 11/198 [00:17<04:48,  1.54s/it]"
     ]
    }
   ],
   "source": [
    "student_impls = []\n",
    "for sub in tqdm(notebooks):\n",
    "    try:\n",
    "        student_impls.append(pybryt.StudentImplementation(sub))\n",
    "    except Exception as e:\n",
    "        print(f'{type(e).__name__} in {sub}')\n",
    "        student_impls.append(None)"
   ]
  },
  {
   "cell_type": "code",
   "execution_count": null,
   "metadata": {
    "pycharm": {
     "is_executing": true
    }
   },
   "outputs": [],
   "source": [
    "results = []\n",
    "for si in student_impls:\n",
    "    if si is None:\n",
    "        results.append(None)\n",
    "    else:\n",
    "        results.append(si.check(ref))"
   ]
  },
  {
   "cell_type": "code",
   "execution_count": null,
   "metadata": {
    "pycharm": {
     "is_executing": true
    }
   },
   "outputs": [],
   "source": [
    "path = f'./advices/{SEMESTER}'\n",
    "if os.path.exists(path):\n",
    "    rmtree(path)\n",
    "os.makedirs(path)\n",
    "for sp, res in zip(subs, results):\n",
    "    if res is None:\n",
    "        os.makedirs(f'{path}/Error', exist_ok=True)\n",
    "        copy(sp, f'{path}/Error/')\n",
    "        continue\n",
    "    if res.correct:\n",
    "        os.makedirs(f'{path}/None', exist_ok=True)\n",
    "        copy(sp, f'{path}/None/')\n",
    "        continue\n",
    "    for message in res.messages:\n",
    "        os.makedirs(f'{path}/{message}', exist_ok=True)\n",
    "        copy(sp, f'{path}/{message}/')"
   ]
  }
 ],
 "metadata": {
  "@webio": {
   "lastCommId": null,
   "lastKernelId": null
  },
  "kernelspec": {
   "display_name": "Python 3",
   "language": "python",
   "name": "python3"
  },
  "language_info": {
   "codemirror_mode": {
    "name": "ipython",
    "version": 3
   },
   "file_extension": ".py",
   "mimetype": "text/x-python",
   "name": "python",
   "nbconvert_exporter": "python",
   "pygments_lexer": "ipython3",
   "version": "3.7.3"
  }
 },
 "nbformat": 4,
 "nbformat_minor": 4
}