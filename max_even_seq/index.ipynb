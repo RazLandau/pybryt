{
 "cells": [
  {
   "cell_type": "markdown",
   "metadata": {},
   "source": [
    "# max_div_seq Runner"
   ]
  },
  {
   "cell_type": "code",
   "execution_count": 7,
   "outputs": [],
   "source": [
    "TIME_LIMIT = 10\n",
    "SEMESTER = '2017B'"
   ],
   "metadata": {
    "collapsed": false,
    "pycharm": {
     "name": "#%%\n"
    }
   }
  },
  {
   "cell_type": "code",
   "metadata": {
    "pycharm": {
     "name": "#%%\n"
    }
   },
   "source": [
    "import pybryt\n",
    "import os\n",
    "import signal\n",
    "from contextlib import contextmanager\n",
    "from shutil import copy, rmtree\n",
    "from tqdm import tqdm\n",
    "import IPython.nbformat as nbf\n",
    "from pathlib import Path"
   ],
   "execution_count": 8,
   "outputs": []
  },
  {
   "cell_type": "code",
   "execution_count": 9,
   "metadata": {},
   "outputs": [],
   "source": [
    "ref = pybryt.ReferenceImplementation.compile(\"max_even_seq.ipynb\")\n",
    "ref.dump(\"max_even_seq-ref.pkl\")\n",
    "ref = pybryt.ReferenceImplementation.load(\"max_even_seq-ref.pkl\")"
   ]
  },
  {
   "cell_type": "code",
   "execution_count": 10,
   "metadata": {},
   "outputs": [],
   "source": [
    "from glob import glob\n",
    "subs = glob(f'subs/{SEMESTER}/*.py')"
   ]
  },
  {
   "cell_type": "code",
   "execution_count": 11,
   "metadata": {
    "pycharm": {
     "name": "#%%\n"
    }
   },
   "outputs": [],
   "source": [
    "notebooks = []\n",
    "\n",
    "for sub in subs:\n",
    "\n",
    "    code = Path(sub).read_text()\n",
    "\n",
    "    cells = []\n",
    "\n",
    "    cell = nbf.v4.new_code_cell(source=code)\n",
    "    cells.append(cell)\n",
    "    cell = nbf.v4.new_code_cell(source=\"max_even_seq(222)\")\n",
    "    cells.append(cell)\n",
    "\n",
    "    nb = nbf.v4.new_notebook(cells = cells)\n",
    "\n",
    "    pre, ext = os.path.splitext(sub)\n",
    "    notebook = pre + '.ipynb'\n",
    "    with open(notebook, 'w') as f:\n",
    "\n",
    "            nbf.write(nb, f, 4)\n",
    "    notebooks.append(notebook)"
   ]
  },
  {
   "cell_type": "code",
   "execution_count": 12,
   "metadata": {},
   "outputs": [
    {
     "name": "stderr",
     "output_type": "stream",
     "text": [
      " 10%|█         | 20/198 [00:40<12:32,  4.23s/it]"
     ]
    },
    {
     "name": "stdout",
     "output_type": "stream",
     "text": [
      "TimeoutException in subs/2017B/11.ipynb\n"
     ]
    },
    {
     "name": "stderr",
     "output_type": "stream",
     "text": [
      " 16%|█▌        | 31/198 [01:00<05:19,  1.92s/it]"
     ]
    },
    {
     "name": "stdout",
     "output_type": "stream",
     "text": [
      "SyntaxError in subs/2017B/65.ipynb\n",
      "ValueError in subs/2017B/51.ipynb\n"
     ]
    },
    {
     "name": "stderr",
     "output_type": "stream",
     "text": [
      " 30%|███       | 60/198 [01:56<11:20,  4.93s/it]"
     ]
    },
    {
     "name": "stdout",
     "output_type": "stream",
     "text": [
      "TimeoutException in subs/2017B/152.ipynb\n"
     ]
    },
    {
     "name": "stderr",
     "output_type": "stream",
     "text": [
      " 33%|███▎      | 65/198 [02:04<04:41,  2.11s/it]Task exception was never retrieved\n",
      "future: <Task finished coro=<NotebookClient.async_execute_cell() done, defined at /Users/razlandau/Documents/Code/python/lib/python3.7/site-packages/nbclient/client.py:762> exception=DeadKernelError('Kernel died')>\n",
      "Traceback (most recent call last):\n",
      "  File \"/Users/razlandau/Documents/Code/python/lib/python3.7/site-packages/nbclient/client.py\", line 841, in async_execute_cell\n",
      "    exec_reply = await self.task_poll_for_reply\n",
      "  File \"/Library/Frameworks/Python.framework/Versions/3.7/lib/python3.7/asyncio/futures.py\", line 260, in __await__\n",
      "    yield self  # This tells Task to wait for completion.\n",
      "  File \"/Library/Frameworks/Python.framework/Versions/3.7/lib/python3.7/asyncio/tasks.py\", line 292, in __wakeup\n",
      "    future.result()\n",
      "  File \"/Library/Frameworks/Python.framework/Versions/3.7/lib/python3.7/asyncio/futures.py\", line 173, in result\n",
      "    raise CancelledError\n",
      "concurrent.futures._base.CancelledError\n",
      "\n",
      "During handling of the above exception, another exception occurred:\n",
      "\n",
      "Traceback (most recent call last):\n",
      "  File \"/Library/Frameworks/Python.framework/Versions/3.7/lib/python3.7/asyncio/tasks.py\", line 225, in __step\n",
      "    result = coro.throw(exc)\n",
      "  File \"/Users/razlandau/Documents/Code/python/lib/python3.7/site-packages/nbclient/client.py\", line 845, in async_execute_cell\n",
      "    raise DeadKernelError(\"Kernel died\")\n",
      "nbclient.exceptions.DeadKernelError: Kernel died\n",
      "Task exception was never retrieved\n",
      "future: <Task finished coro=<NotebookClient._async_poll_kernel_alive() done, defined at /Users/razlandau/Documents/Code/python/lib/python3.7/site-packages/nbclient/client.py:664> exception=AssertionError()>\n",
      "Traceback (most recent call last):\n",
      "  File \"/Library/Frameworks/Python.framework/Versions/3.7/lib/python3.7/asyncio/tasks.py\", line 223, in __step\n",
      "    result = coro.send(None)\n",
      "  File \"/Users/razlandau/Documents/Code/python/lib/python3.7/site-packages/nbclient/client.py\", line 668, in _async_poll_kernel_alive\n",
      "    await self._async_check_alive()\n",
      "  File \"/Users/razlandau/Documents/Code/python/lib/python3.7/site-packages/nbclient/client.py\", line 701, in _async_check_alive\n",
      "    assert self.kc is not None\n",
      "AssertionError\n",
      " 57%|█████▋    | 113/198 [03:25<02:32,  1.80s/it]"
     ]
    },
    {
     "name": "stdout",
     "output_type": "stream",
     "text": [
      "TabError in subs/2017B/48.ipynb\n"
     ]
    },
    {
     "name": "stderr",
     "output_type": "stream",
     "text": [
      " 83%|████████▎ | 165/198 [04:46<00:49,  1.49s/it]"
     ]
    },
    {
     "name": "stdout",
     "output_type": "stream",
     "text": [
      "IndentationError in subs/2017B/85.ipynb\n"
     ]
    },
    {
     "name": "stderr",
     "output_type": "stream",
     "text": [
      " 96%|█████████▌| 190/198 [05:27<00:13,  1.64s/it]"
     ]
    },
    {
     "name": "stdout",
     "output_type": "stream",
     "text": [
      "SyntaxError in subs/2017B/94.ipynb\n"
     ]
    },
    {
     "name": "stderr",
     "output_type": "stream",
     "text": [
      " 97%|█████████▋| 193/198 [05:30<00:06,  1.39s/it]"
     ]
    },
    {
     "name": "stdout",
     "output_type": "stream",
     "text": [
      "SyntaxError in subs/2017B/12.ipynb\n"
     ]
    },
    {
     "name": "stderr",
     "output_type": "stream",
     "text": [
      "100%|██████████| 198/198 [05:37<00:00,  1.70s/it]\n"
     ]
    }
   ],
   "source": [
    "class TimeoutException(Exception): pass\n",
    "\n",
    "@contextmanager\n",
    "def time_limit(seconds):\n",
    "    def signal_handler(_, __):\n",
    "        raise TimeoutException(\"Timed out!\")\n",
    "    signal.signal(signal.SIGALRM, signal_handler)\n",
    "    signal.alarm(seconds)\n",
    "    try:\n",
    "        yield\n",
    "    finally:\n",
    "        signal.alarm(0)\n",
    "\n",
    "student_impls = []\n",
    "for sub in tqdm(notebooks):\n",
    "    try:\n",
    "        with time_limit(TIME_LIMIT):\n",
    "            student_impls.append(pybryt.StudentImplementation(sub))\n",
    "    except Exception as e:\n",
    "        print(f'{type(e).__name__} in {sub}')\n",
    "        student_impls.append(None)"
   ]
  },
  {
   "cell_type": "code",
   "execution_count": 13,
   "metadata": {},
   "outputs": [],
   "source": [
    "results = []\n",
    "for si in student_impls:\n",
    "    if si is None:\n",
    "        results.append(None)\n",
    "    else:\n",
    "        results.append(si.check(ref))"
   ]
  },
  {
   "cell_type": "code",
   "execution_count": 14,
   "metadata": {},
   "outputs": [
    {
     "name": "stdout",
     "output_type": "stream",
     "text": [
      "in\n"
     ]
    }
   ],
   "source": [
    "path = f'./advices/{SEMESTER}'\n",
    "if os.path.exists(path):\n",
    "    rmtree(path)\n",
    "os.makedirs(path)\n",
    "for sp, res in zip(subs, results):\n",
    "    if res is None:\n",
    "        os.makedirs(f'{path}/Error', exist_ok=True)\n",
    "        copy(sp, f'{path}/Error/')\n",
    "        continue\n",
    "    if res.correct:\n",
    "        os.makedirs(f'{path}/None', exist_ok=True)\n",
    "        copy(sp, f'{path}/None/')\n",
    "        continue\n",
    "    for message in res.messages:\n",
    "        os.makedirs(f'{path}/{message}', exist_ok=True)\n",
    "        copy(sp, f'{path}/{message}/')"
   ]
  }
 ],
 "metadata": {
  "@webio": {
   "lastCommId": null,
   "lastKernelId": null
  },
  "kernelspec": {
   "display_name": "Python 3",
   "language": "python",
   "name": "python3"
  },
  "language_info": {
   "codemirror_mode": {
    "name": "ipython",
    "version": 3
   },
   "file_extension": ".py",
   "mimetype": "text/x-python",
   "name": "python",
   "nbconvert_exporter": "python",
   "pygments_lexer": "ipython3",
   "version": "3.7.3"
  }
 },
 "nbformat": 4,
 "nbformat_minor": 4
}