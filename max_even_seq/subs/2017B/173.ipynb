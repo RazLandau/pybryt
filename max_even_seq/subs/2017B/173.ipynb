{
 "cells": [
  {
   "cell_type": "code",
   "execution_count": null,
   "id": "advised-finnish",
   "metadata": {},
   "outputs": [],
   "source": [
    "def max_even_seq(n):\n",
    "    pass \n",
    "    cnt = 0\n",
    "    m=0\n",
    "    while n>0:\n",
    "        if (n%10)%2==0:\n",
    "            cnt = cnt+1\n",
    "        else:\n",
    "           cnt = 0\n",
    "        if cnt>m:\n",
    "            m=cnt\n",
    "        n=n//10\n",
    "    return (m)\n",
    "    \n"
   ]
  },
  {
   "cell_type": "code",
   "execution_count": null,
   "id": "documented-artwork",
   "metadata": {},
   "outputs": [],
   "source": [
    "max_div_seq(116, 1)"
   ]
  }
 ],
 "metadata": {},
 "nbformat": 4,
 "nbformat_minor": 5
}
