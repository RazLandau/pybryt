{
 "cells": [
  {
   "cell_type": "code",
   "execution_count": null,
   "id": "signal-robert",
   "metadata": {},
   "outputs": [],
   "source": [
    "def max_even_seq(n):\n",
    "\ta=0\n",
    "\twhile n>0:\n",
    "\t\tif ((n%10)%2==0):\n",
    "\t\t\tb=1\n",
    "\t\t\tn=n//10\n",
    "\t\t\ta=max(a,b)\n",
    "\t\t\twhile n>0 and (n%10)%2==0:\n",
    "\t\t\t\tb=b+1\n",
    "\t\t\t\ta=max(a,b)\n",
    "\t\t\t\tn=n//10\n",
    "\t\telse:\n",
    "\t\t\tn=int(n//10)\n",
    "\treturn a\n",
    "\n",
    "\n",
    "\n",
    "\n",
    "\n"
   ]
  },
  {
   "cell_type": "code",
   "execution_count": null,
   "id": "handmade-percentage",
   "metadata": {},
   "outputs": [],
   "source": [
    "max_div_seq(116, 1)"
   ]
  }
 ],
 "metadata": {},
 "nbformat": 4,
 "nbformat_minor": 5
}
