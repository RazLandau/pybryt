{
 "cells": [
  {
   "cell_type": "code",
   "execution_count": null,
   "id": "different-penguin",
   "metadata": {},
   "outputs": [],
   "source": [
    "def max_even_seq(n):\n",
    "    str_check = str(n)\n",
    "    counter= 0\n",
    "    max_counter=0\n",
    "    for digit in str_check:\n",
    "        if (int(digit)%2==0):\n",
    "            counter +=1\n",
    "        else:\n",
    "            max_counter = max(counter,max_counter)\n",
    "            counter=0\n",
    "    return max_counter        \n",
    "\n",
    "\n",
    "\n",
    "\n",
    "\n"
   ]
  },
  {
   "cell_type": "code",
   "execution_count": null,
   "id": "successful-framing",
   "metadata": {},
   "outputs": [],
   "source": [
    "max_div_seq(116, 1)"
   ]
  }
 ],
 "metadata": {},
 "nbformat": 4,
 "nbformat_minor": 5
}
