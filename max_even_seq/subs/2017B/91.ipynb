{
 "cells": [
  {
   "cell_type": "code",
   "execution_count": null,
   "id": "answering-midnight",
   "metadata": {},
   "outputs": [],
   "source": [
    "def max_even_seq(n):\n",
    "    cnt = 0\n",
    "    maxDigits = 0\n",
    "    while n > 0:\n",
    "        if n % 2 == 0:\n",
    "            cnt += 1\n",
    "            if cnt > maxDigits:\n",
    "                maxDigits = cnt\n",
    "        else:\n",
    "            cnt = 0\n",
    "        n = n // 10\n",
    "    return maxDigits\n",
    "\n",
    "\n",
    "\n",
    "\n",
    "\n"
   ]
  },
  {
   "cell_type": "code",
   "execution_count": null,
   "id": "fitting-thesis",
   "metadata": {},
   "outputs": [],
   "source": [
    "max_div_seq(116, 1)"
   ]
  }
 ],
 "metadata": {},
 "nbformat": 4,
 "nbformat_minor": 5
}
