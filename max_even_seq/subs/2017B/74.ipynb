{
 "cells": [
  {
   "cell_type": "code",
   "execution_count": null,
   "id": "ranging-reminder",
   "metadata": {},
   "outputs": [],
   "source": [
    "def max_even_seq(n):\n",
    "    pass #replace with your implementation\n",
    "    retNum=-1\n",
    "    ##check that n is int and non-negative as needed\n",
    "    if str(type(n))==\"<class 'int'>\":\n",
    "        if n>=0:\n",
    "            numStr=str(n)\n",
    "            count=0\n",
    "            for d in numStr:\n",
    "                if int(d)%2==0:\n",
    "                    count+=1\n",
    "                else:\n",
    "                    if count>retNum:\n",
    "                        retNum=count\n",
    "                    count=0\n",
    "    return retNum\n",
    "\n",
    "\n",
    "\n",
    "\n",
    "\n"
   ]
  },
  {
   "cell_type": "code",
   "execution_count": null,
   "id": "inclusive-separate",
   "metadata": {},
   "outputs": [],
   "source": [
    "max_div_seq(116, 1)"
   ]
  }
 ],
 "metadata": {},
 "nbformat": 4,
 "nbformat_minor": 5
}
