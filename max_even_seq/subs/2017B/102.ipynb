{
 "cells": [
  {
   "cell_type": "code",
   "execution_count": null,
   "id": "plain-simulation",
   "metadata": {},
   "outputs": [],
   "source": [
    "def max_even_seq(n):\n",
    "    max_seq = 0\n",
    "    current_seq = 0\n",
    "    even_num = [0,2,4,6,8]\n",
    "    odd_num = [1,3,5,7,9]\n",
    "    for num in str(n):\n",
    "        if int(num) in even_num:\n",
    "            current_seq = current_seq + 1\n",
    "            max_seq = max(max_seq, current_seq)\n",
    "        elif int(num) in odd_num:\n",
    "            max_seq = max(max_seq, current_seq)\n",
    "            current_seq = 0\n",
    "    return max_seq"
   ]
  },
  {
   "cell_type": "code",
   "execution_count": null,
   "id": "continued-building",
   "metadata": {},
   "outputs": [],
   "source": [
    "max_div_seq(116, 1)"
   ]
  }
 ],
 "metadata": {},
 "nbformat": 4,
 "nbformat_minor": 5
}
