{
 "cells": [
  {
   "cell_type": "code",
   "execution_count": null,
   "id": "regulated-devon",
   "metadata": {},
   "outputs": [],
   "source": [
    "def max_even_seq(n):\n",
    "    pass length=0\n",
    "    lengthX=0\n",
    "    for i in num:\n",
    "        if int(i)%2==0:\n",
    "            lengthX=lengthX+1\n",
    "            if lengthX>length:\n",
    "                length=lengthX\n",
    "        else:\n",
    "            lengthX=0\n",
    "    print(\"The maximal length is\", length)\n",
    "\n"
   ]
  },
  {
   "cell_type": "code",
   "execution_count": null,
   "id": "liked-discretion",
   "metadata": {},
   "outputs": [],
   "source": [
    "max_div_seq(116, 1)"
   ]
  }
 ],
 "metadata": {},
 "nbformat": 4,
 "nbformat_minor": 5
}
