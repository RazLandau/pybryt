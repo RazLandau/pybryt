{
 "cells": [
  {
   "cell_type": "code",
   "execution_count": null,
   "id": "ordered-defensive",
   "metadata": {},
   "outputs": [],
   "source": [
    "def max_even_seq(n):\n",
    "    pass #replace with your implementation\n",
    "    num = 0\n",
    "    max_s = []\n",
    "    for i in str(n):\n",
    "        if (int(i)%2==0):\n",
    "            num = num + 1\n",
    "        else:\n",
    "            max_s.append(num)\n",
    "            num = 0\n",
    "    if (int(str(n)[len(str(n))-1]))%2 == 0:\n",
    "        max_s.append(num)\n",
    "    return (max(max_s))\n",
    "\n",
    "\n",
    "\n",
    "\n"
   ]
  },
  {
   "cell_type": "code",
   "execution_count": null,
   "id": "danish-match",
   "metadata": {},
   "outputs": [],
   "source": [
    "max_div_seq(116, 1)"
   ]
  }
 ],
 "metadata": {},
 "nbformat": 4,
 "nbformat_minor": 5
}
