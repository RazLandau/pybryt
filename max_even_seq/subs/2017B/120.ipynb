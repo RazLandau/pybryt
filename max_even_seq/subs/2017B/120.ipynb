{
 "cells": [
  {
   "cell_type": "code",
   "execution_count": null,
   "id": "international-inflation",
   "metadata": {},
   "outputs": [],
   "source": [
    "def max_even_seq(n):\n",
    "    max_seq=[0]\n",
    "    counter=0\n",
    "    while n>0:\n",
    "        if (((n%10)%2)==0):\n",
    "            counter+=1\n",
    "        else:\n",
    "            max_seq.append(counter)\n",
    "            counter=0\n",
    "        n//=10\n",
    "    max_seq.append(counter)\n",
    "    return max(max_seq)\n",
    "\n",
    "\n",
    "\n",
    "\n",
    "\n"
   ]
  },
  {
   "cell_type": "code",
   "execution_count": null,
   "id": "latter-reviewer",
   "metadata": {},
   "outputs": [],
   "source": [
    "max_div_seq(116, 1)"
   ]
  }
 ],
 "metadata": {},
 "nbformat": 4,
 "nbformat_minor": 5
}
