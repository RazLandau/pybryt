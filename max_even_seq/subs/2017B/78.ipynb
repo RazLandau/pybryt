{
 "cells": [
  {
   "cell_type": "code",
   "execution_count": null,
   "id": "integral-resolution",
   "metadata": {},
   "outputs": [],
   "source": [
    "def max_even_seq(n):\n",
    "    str_input=str(n)\n",
    "    even_numbers=[]\n",
    "    counter=0\n",
    "    for i in range(len(str_input)):\n",
    "        if int(str_input[i])%2==0:\n",
    "            counter+=1\n",
    "        else:\n",
    "            even_numbers.append(counter)\n",
    "            counter= 0\n",
    "    even_numbers.append(counter)\n",
    "    return max(even_numbers)\n",
    "\n"
   ]
  },
  {
   "cell_type": "code",
   "execution_count": null,
   "id": "sonic-suspension",
   "metadata": {},
   "outputs": [],
   "source": [
    "max_div_seq(116, 1)"
   ]
  }
 ],
 "metadata": {},
 "nbformat": 4,
 "nbformat_minor": 5
}
