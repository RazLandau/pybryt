{
 "cells": [
  {
   "cell_type": "code",
   "execution_count": null,
   "id": "focal-carroll",
   "metadata": {},
   "outputs": [],
   "source": [
    "def max_even_seq(n):\n",
    "    count = 0;\n",
    "    ans = 0;\n",
    "    while n != 0:\n",
    "        if (n%10)%2 == 0:\n",
    "            count += 1\n",
    "            if ans < count:\n",
    "                ans = count\n",
    "        else:\n",
    "            count = 0\n",
    "        n = n//10\n",
    "    return(ans)\n",
    "\n"
   ]
  },
  {
   "cell_type": "code",
   "execution_count": null,
   "id": "rapid-underwear",
   "metadata": {},
   "outputs": [],
   "source": [
    "max_div_seq(116, 1)"
   ]
  }
 ],
 "metadata": {},
 "nbformat": 4,
 "nbformat_minor": 5
}
