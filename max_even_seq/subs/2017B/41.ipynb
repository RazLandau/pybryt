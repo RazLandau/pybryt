{
 "cells": [
  {
   "cell_type": "code",
   "execution_count": null,
   "id": "specific-taylor",
   "metadata": {},
   "outputs": [],
   "source": [
    "def max_even_seq(n):\n",
    "    pass #replace with your implementation\n",
    "    m = n\n",
    "    cnt = 0\n",
    "    H=[]\n",
    "    while m>0:\n",
    "         if (m%10)%2 == 0:\n",
    "             cnt+=1\n",
    "         else:\n",
    "            H.append(cnt)\n",
    "            cnt=0\n",
    "         m = m//10\n",
    "    return max(H)\n",
    "   \n",
    "\n",
    "\n"
   ]
  },
  {
   "cell_type": "code",
   "execution_count": null,
   "id": "fresh-innocent",
   "metadata": {},
   "outputs": [],
   "source": [
    "max_div_seq(116, 1)"
   ]
  }
 ],
 "metadata": {},
 "nbformat": 4,
 "nbformat_minor": 5
}
