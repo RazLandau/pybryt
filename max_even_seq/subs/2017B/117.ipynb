{
 "cells": [
  {
   "cell_type": "code",
   "execution_count": null,
   "id": "regulation-machinery",
   "metadata": {},
   "outputs": [],
   "source": [
    "def max_even_seq(n):\n",
    "    length = 0\n",
    "    max_length = 0\n",
    "    for t in str(n):\n",
    "        if int(t)%2==0:\n",
    "            length += 1\n",
    "            max_length = max(max_length, length)\n",
    "        else:\n",
    "            length = 0\n",
    "    return (max_length)\n",
    "\n",
    "\n",
    "\n"
   ]
  },
  {
   "cell_type": "code",
   "execution_count": null,
   "id": "broadband-restoration",
   "metadata": {},
   "outputs": [],
   "source": [
    "max_div_seq(116, 1)"
   ]
  }
 ],
 "metadata": {},
 "nbformat": 4,
 "nbformat_minor": 5
}
