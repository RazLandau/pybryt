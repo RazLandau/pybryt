{
 "cells": [
  {
   "cell_type": "code",
   "execution_count": null,
   "id": "fitting-virus",
   "metadata": {},
   "outputs": [],
   "source": [
    "def max_even_seq(n):\n",
    "    cnt = 0\n",
    "    max_cnt = 0\n",
    "    for i in str(n):\n",
    "        if int(i) % 2 == 0: cnt += 1\n",
    "        else: cnt = 0\n",
    "        if max_cnt < cnt: max_cnt = cnt\n",
    "    return max_cnt\n",
    "        \n"
   ]
  },
  {
   "cell_type": "code",
   "execution_count": null,
   "id": "loved-livestock",
   "metadata": {},
   "outputs": [],
   "source": [
    "max_div_seq(116, 1)"
   ]
  }
 ],
 "metadata": {},
 "nbformat": 4,
 "nbformat_minor": 5
}
