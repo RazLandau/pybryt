{
 "cells": [
  {
   "cell_type": "code",
   "execution_count": null,
   "id": "confirmed-riverside",
   "metadata": {},
   "outputs": [],
   "source": [
    "def max_even_seq(n):\n",
    "    max=0\n",
    "    cnt=0\n",
    "    for dig in str(n):\n",
    "        if int(dig)%2==0:\n",
    "            cnt+=1\n",
    "            if cnt>max:\n",
    "                max=cnt\n",
    "        else:\n",
    "            cnt=0\n",
    "    return (max)\n",
    "\n",
    "\n"
   ]
  },
  {
   "cell_type": "code",
   "execution_count": null,
   "id": "czech-council",
   "metadata": {},
   "outputs": [],
   "source": [
    "max_div_seq(116, 1)"
   ]
  }
 ],
 "metadata": {},
 "nbformat": 4,
 "nbformat_minor": 5
}
