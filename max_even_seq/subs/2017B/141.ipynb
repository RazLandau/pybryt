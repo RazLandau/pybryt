{
 "cells": [
  {
   "cell_type": "code",
   "execution_count": null,
   "id": "foreign-poster",
   "metadata": {},
   "outputs": [],
   "source": [
    "def max_even_seq(n):\n",
    "        S=str(n)\n",
    "        m=0\n",
    "        r=0\n",
    "        for i in S:\n",
    "                j=int(i)\n",
    "                if(j%2==0):\n",
    "                        r=r+1\n",
    "                        if(r>m):\n",
    "                                m=r\n",
    "                else:\n",
    "                        r=0\n",
    "        return(m)\n",
    "\n",
    "\n",
    "\n",
    "\n",
    "\n"
   ]
  },
  {
   "cell_type": "code",
   "execution_count": null,
   "id": "proved-boulder",
   "metadata": {},
   "outputs": [],
   "source": [
    "max_div_seq(116, 1)"
   ]
  }
 ],
 "metadata": {},
 "nbformat": 4,
 "nbformat_minor": 5
}
