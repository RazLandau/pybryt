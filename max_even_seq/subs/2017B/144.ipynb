{
 "cells": [
  {
   "cell_type": "code",
   "execution_count": null,
   "id": "direct-specialist",
   "metadata": {},
   "outputs": [],
   "source": [
    "def max_even_seq(n):\n",
    "    cnt = 0\n",
    "    num = n\n",
    "    max_seq = 0\n",
    "    while num>0:\n",
    "        if num%2==0:\n",
    "            cnt+=1\n",
    "        if cnt > max_seq:\n",
    "            max_seq = cnt\n",
    "        if num%2 != 0:\n",
    "            cnt = 0\n",
    "        num = num//10\n",
    "    return max_seq\n",
    "\n",
    "\n",
    "\n",
    "\n",
    "\n"
   ]
  },
  {
   "cell_type": "code",
   "execution_count": null,
   "id": "gorgeous-covering",
   "metadata": {},
   "outputs": [],
   "source": [
    "max_div_seq(116, 1)"
   ]
  }
 ],
 "metadata": {},
 "nbformat": 4,
 "nbformat_minor": 5
}
