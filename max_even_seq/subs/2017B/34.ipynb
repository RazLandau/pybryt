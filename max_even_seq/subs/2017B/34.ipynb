{
 "cells": [
  {
   "cell_type": "code",
   "execution_count": null,
   "id": "assured-unemployment",
   "metadata": {},
   "outputs": [],
   "source": [
    "def max_even_seq(n):\n",
    "    mymax = 0\n",
    "    current_seq = 0\n",
    "    for i in str(n):\n",
    "        if int(i) % 2 == 0 :\n",
    "            current_seq = current_seq + 1\n",
    "        else:\n",
    "            current_seq = 0\n",
    "        if current_seq > mymax:\n",
    "            mymax = current_seq\n",
    "    return mymax\n",
    "    \n",
    "\n",
    "\n",
    "\n",
    "\n",
    "\n"
   ]
  },
  {
   "cell_type": "code",
   "execution_count": null,
   "id": "international-career",
   "metadata": {},
   "outputs": [],
   "source": [
    "max_div_seq(116, 1)"
   ]
  }
 ],
 "metadata": {},
 "nbformat": 4,
 "nbformat_minor": 5
}
