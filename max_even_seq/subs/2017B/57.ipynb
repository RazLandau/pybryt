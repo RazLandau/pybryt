{
 "cells": [
  {
   "cell_type": "code",
   "execution_count": null,
   "id": "moving-frequency",
   "metadata": {},
   "outputs": [],
   "source": [
    "def max_even_seq(n):\n",
    "    if n>=0:\n",
    "        lst=[]\n",
    "        cnt=0\n",
    "        ns=str(n)\n",
    "        for num in ns:\n",
    "            n_m=int(num)\n",
    "            if n_m%2==0:\n",
    "                cnt+=1\n",
    "                lst.append(cnt)\n",
    "            else:\n",
    "                cnt=0\n",
    "                lst.append(cnt)\n",
    "        M=max(lst)\n",
    "    return M\n",
    "\n",
    "\n",
    "\n",
    "\n"
   ]
  },
  {
   "cell_type": "code",
   "execution_count": null,
   "id": "charged-contamination",
   "metadata": {},
   "outputs": [],
   "source": [
    "max_div_seq(116, 1)"
   ]
  }
 ],
 "metadata": {},
 "nbformat": 4,
 "nbformat_minor": 5
}
