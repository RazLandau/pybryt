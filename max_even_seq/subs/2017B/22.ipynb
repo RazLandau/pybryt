{
 "cells": [
  {
   "cell_type": "code",
   "execution_count": null,
   "id": "boring-might",
   "metadata": {},
   "outputs": [],
   "source": [
    "def max_even_seq(n):\n",
    "\n",
    "    #special inputs check:\n",
    "    if (n==0):\n",
    "        return 1\n",
    "    elif (n<0):\n",
    "        return print(\"Invalid input, n must belong to Natural numbers\")\n",
    "        \n",
    "    max_seq = 0\n",
    "\n",
    "    count = 0\n",
    "\n",
    "    temp = -1\n",
    "\n",
    "    #division and standard checks algorithm\n",
    "    while(n > 0):\n",
    "\n",
    "        #print(\"N is :\", n)\n",
    "        #print(\"Max = \", max_seq, \" count = \" , count, \" temp = \", temp )\n",
    "            \n",
    "        temp = n%10\n",
    "        \n",
    "        if (temp % 2 == 0):\n",
    "            count += 1\n",
    "            if (max_seq < count):\n",
    "                max_seq = count\n",
    "\n",
    "        else:\n",
    "            count = 0\n",
    "\n",
    "        n = n//10 #reduction of n, prepeartion for the next digit\n",
    "\n",
    "    return(max_seq)\n",
    "       \n"
   ]
  },
  {
   "cell_type": "code",
   "execution_count": null,
   "id": "liked-constraint",
   "metadata": {},
   "outputs": [],
   "source": [
    "max_div_seq(116, 1)"
   ]
  }
 ],
 "metadata": {},
 "nbformat": 4,
 "nbformat_minor": 5
}
