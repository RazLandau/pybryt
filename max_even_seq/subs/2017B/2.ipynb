{
 "cells": [
  {
   "cell_type": "code",
   "execution_count": null,
   "id": "crazy-dayton",
   "metadata": {},
   "outputs": [],
   "source": [
    "def max_even_seq(n):\n",
    "    #pass #replace with your implementation\n",
    "    strnum=str(n)\n",
    "    count=0\n",
    "    maxcount=0\n",
    "    for i in range(len(strnum)):\n",
    "        if (int(strnum[i]))%2==0:\n",
    "            count+=1\n",
    "        else:\n",
    "            if count>maxcount:\n",
    "                maxcount=count\n",
    "            count=0\n",
    "    if count>maxcount:\n",
    "                maxcount=count\n",
    "    return maxcount\n",
    "\n",
    "\n",
    "\n"
   ]
  },
  {
   "cell_type": "code",
   "execution_count": null,
   "id": "olive-robertson",
   "metadata": {},
   "outputs": [],
   "source": [
    "max_div_seq(116, 1)"
   ]
  }
 ],
 "metadata": {},
 "nbformat": 4,
 "nbformat_minor": 5
}
