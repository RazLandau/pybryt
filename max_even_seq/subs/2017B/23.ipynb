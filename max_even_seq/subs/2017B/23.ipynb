{
 "cells": [
  {
   "cell_type": "code",
   "execution_count": null,
   "id": "related-underwear",
   "metadata": {},
   "outputs": [],
   "source": [
    "def max_even_seq(num):\n",
    "    snum=str(num)\n",
    "    curLen=0\n",
    "    maxLen=0\n",
    "    for dig in snum:\n",
    "        if int(dig)%2==0:\n",
    "            curLen+=1\n",
    "        else:\n",
    "            maxLen=curLen\n",
    "            curLen=0\n",
    "    return max(curLen,maxLen)\n"
   ]
  },
  {
   "cell_type": "code",
   "execution_count": null,
   "id": "competent-treasure",
   "metadata": {},
   "outputs": [],
   "source": [
    "max_div_seq(116, 1)"
   ]
  }
 ],
 "metadata": {},
 "nbformat": 4,
 "nbformat_minor": 5
}
