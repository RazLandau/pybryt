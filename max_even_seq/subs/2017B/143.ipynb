{
 "cells": [
  {
   "cell_type": "code",
   "execution_count": null,
   "id": "signed-replication",
   "metadata": {},
   "outputs": [],
   "source": [
    "def max_even_seq(n):\n",
    "    ans = 0 # the returned value, max even sequence\n",
    "    cnt = 0 # counter of current even sequence\n",
    "    if n == 0: # if the input is 0, then it is a single even digit\n",
    "        return 1\n",
    "    while n> 0:\n",
    "        if (n%10)%2== 0: # if the last digit is even\n",
    "            cnt = cnt+1 #add 1 to the sequence counter\n",
    "        else:\n",
    "            if cnt> ans: #is the current sequence is the longest\n",
    "                ans = cnt #update the max counter\n",
    "            cnt = 0 # the sequence has been broken, reset the counter\n",
    "        n = n//10 #remove the last digit as it has been checked\n",
    "       \n",
    "    return max(cnt , ans) # return cnt if the max sequence is at the beggining of n\n",
    "\n"
   ]
  },
  {
   "cell_type": "code",
   "execution_count": null,
   "id": "enclosed-cincinnati",
   "metadata": {},
   "outputs": [],
   "source": [
    "max_div_seq(116, 1)"
   ]
  }
 ],
 "metadata": {},
 "nbformat": 4,
 "nbformat_minor": 5
}
