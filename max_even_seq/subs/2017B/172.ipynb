{
 "cells": [
  {
   "cell_type": "code",
   "execution_count": null,
   "id": "attempted-thirty",
   "metadata": {},
   "outputs": [],
   "source": [
    "def max_even_seq(n):\n",
    "    if n==0:\n",
    "        print(1)\n",
    "    else:\n",
    "        list=[0]\n",
    "        while n>0:\n",
    "            if((n%10)%2)==0:\n",
    "                counter=0\n",
    "                while((n%10)%2)==0 and n>0:\n",
    "                    counter+=1\n",
    "                    n//=10\n",
    "                list.append(counter)\n",
    "            n//=10\n",
    "        return (max(list))\n",
    "\n",
    "\n",
    "\n",
    "\n"
   ]
  },
  {
   "cell_type": "code",
   "execution_count": null,
   "id": "distinct-checklist",
   "metadata": {},
   "outputs": [],
   "source": [
    "max_div_seq(116, 1)"
   ]
  }
 ],
 "metadata": {},
 "nbformat": 4,
 "nbformat_minor": 5
}
