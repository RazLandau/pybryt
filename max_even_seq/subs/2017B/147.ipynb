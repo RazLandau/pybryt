{
 "cells": [
  {
   "cell_type": "code",
   "execution_count": null,
   "id": "apart-recognition",
   "metadata": {},
   "outputs": [],
   "source": [
    "def max_even_seq(n):\n",
    "    num=n\n",
    "    cur_cnt=0\n",
    "    max_cnt=0\n",
    "    if num==0:\n",
    "        max_cnt=1\n",
    "    while num>0:\n",
    "        if (num%10)%2==0:\n",
    "            cur_cnt+=1\n",
    "            if cur_cnt>max_cnt:\n",
    "                max_cnt=cur_cnt\n",
    "            num//=10\n",
    "        else:\n",
    "            if cur_cnt>max_cnt:\n",
    "                max_cnt=cur_cnt\n",
    "            cur_cnt=0\n",
    "            num//=10\n",
    "    return max_cnt\n",
    "\n",
    "\n",
    "\n"
   ]
  },
  {
   "cell_type": "code",
   "execution_count": null,
   "id": "mysterious-microwave",
   "metadata": {},
   "outputs": [],
   "source": [
    "max_div_seq(116, 1)"
   ]
  }
 ],
 "metadata": {},
 "nbformat": 4,
 "nbformat_minor": 5
}
