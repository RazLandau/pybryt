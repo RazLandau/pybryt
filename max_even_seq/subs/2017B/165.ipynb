{
 "cells": [
  {
   "cell_type": "code",
   "execution_count": null,
   "id": "proof-bones",
   "metadata": {},
   "outputs": [],
   "source": [
    "def max_even_seq(n):\n",
    "    pass #replace with your implementation\n",
    "    num=str(n)\n",
    "    lst1=[]\n",
    "    lst2=[]\n",
    "    lst_even=[]\n",
    "    lst_len=[]\n",
    "    for digit in num:\n",
    "        lst1.append(digit)\n",
    "    l=len(lst1)\n",
    "    for i in range(l):\n",
    "        for j in range(l):\n",
    "            lst2.append(lst1[i:j+1])\n",
    "    def even_lst(lstn):\n",
    "        for x in lstn:\n",
    "            if all(int(x)%2==0 for x in lsti)==True:\n",
    "                return True\n",
    "            else:\n",
    "                return False\n",
    "    for lsti in lst2:\n",
    "        if even_lst(lsti)== True:\n",
    "            lst_even.append(lsti) \n",
    "    for lstj in lst_even:\n",
    "        lst_len.append(len(lstj))\n",
    "    if len(lst_len)==0:\n",
    "        max_even=0\n",
    "    else:\n",
    "        max_even=max(lst_len)\n",
    "    return(max_even)\n",
    "\n",
    "\n",
    "\n",
    "\n",
    "\n",
    "\n",
    "\n"
   ]
  },
  {
   "cell_type": "code",
   "execution_count": null,
   "id": "assisted-parker",
   "metadata": {},
   "outputs": [],
   "source": [
    "max_div_seq(116, 1)"
   ]
  }
 ],
 "metadata": {},
 "nbformat": 4,
 "nbformat_minor": 5
}
