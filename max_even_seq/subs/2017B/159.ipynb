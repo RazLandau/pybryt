{
 "cells": [
  {
   "cell_type": "code",
   "execution_count": null,
   "id": "impaired-assignment",
   "metadata": {},
   "outputs": [],
   "source": [
    "def max_even_seq(n):\n",
    "    seq=0\n",
    "    count=0\n",
    "    a=str(n)\n",
    "    for i in a:\n",
    "        if int(i)%2==0:\n",
    "            count=count+1\n",
    "        else: \n",
    "            count=0\n",
    "        if seq<count:\n",
    "            seq=count\n",
    "    return(seq)\n",
    "\n",
    "\n",
    "\n",
    "\n",
    "\n"
   ]
  },
  {
   "cell_type": "code",
   "execution_count": null,
   "id": "applicable-cutting",
   "metadata": {},
   "outputs": [],
   "source": [
    "max_div_seq(116, 1)"
   ]
  }
 ],
 "metadata": {},
 "nbformat": 4,
 "nbformat_minor": 5
}
