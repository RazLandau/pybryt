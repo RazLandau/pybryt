{
 "cells": [
  {
   "cell_type": "code",
   "execution_count": null,
   "id": "superior-spring",
   "metadata": {},
   "outputs": [],
   "source": [
    "def max_even_seq(n):\n",
    "    total = 0\n",
    "    seq_list = [0]\n",
    "    for i in str(n):\n",
    "        if int(i)%2 == 0:\n",
    "            total = total + 1\n",
    "            seq_list.insert(0,total)\n",
    "        else:\n",
    "            total = 0\n",
    "    return(max(seq_list))\n",
    "\n",
    "\n",
    "\n",
    "\n"
   ]
  },
  {
   "cell_type": "code",
   "execution_count": null,
   "id": "brutal-donna",
   "metadata": {},
   "outputs": [],
   "source": [
    "max_div_seq(116, 1)"
   ]
  }
 ],
 "metadata": {},
 "nbformat": 4,
 "nbformat_minor": 5
}
