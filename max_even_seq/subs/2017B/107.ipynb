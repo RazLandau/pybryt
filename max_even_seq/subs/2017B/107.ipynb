{
 "cells": [
  {
   "cell_type": "code",
   "execution_count": null,
   "id": "opposite-cosmetic",
   "metadata": {},
   "outputs": [],
   "source": [
    "def max_even_seq(n):\n",
    "    seqs=[]\n",
    "    x=0\n",
    "    place=0\n",
    "    res=str(n)\n",
    "    length=len(res)\n",
    "    for i in res:\n",
    "        place += 1\n",
    "        if int(i)%2==0:\n",
    "            x=x+1\n",
    "        else:\n",
    "            seqs.append(x)\n",
    "            x=0\n",
    "        if place==length:\n",
    "            seqs.append(x)\n",
    "    \n",
    "    return (max(seqs))\n",
    "\n",
    "\n",
    "\n",
    "\n",
    "\n",
    "\n"
   ]
  },
  {
   "cell_type": "code",
   "execution_count": null,
   "id": "attached-pitch",
   "metadata": {},
   "outputs": [],
   "source": [
    "max_div_seq(116, 1)"
   ]
  }
 ],
 "metadata": {},
 "nbformat": 4,
 "nbformat_minor": 5
}
