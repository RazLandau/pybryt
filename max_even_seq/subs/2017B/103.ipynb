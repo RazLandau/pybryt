{
 "cells": [
  {
   "cell_type": "code",
   "execution_count": null,
   "id": "great-federal",
   "metadata": {},
   "outputs": [],
   "source": [
    "def max_even_seq(num):\n",
    "    num_digits = [int(x) for x in list(str(num))]\n",
    "    even_digits_sequance = [0]\n",
    "    index = 0\n",
    "    for i in num_digits:\n",
    "        if i % 2 == 0:\n",
    "            even_digits_sequance[index] += 1\n",
    "        else:\n",
    "            index += 1\n",
    "            even_digits_sequance.append(0)\n",
    "    return max(even_digits_sequance)\n",
    "\n"
   ]
  },
  {
   "cell_type": "code",
   "execution_count": null,
   "id": "super-trigger",
   "metadata": {},
   "outputs": [],
   "source": [
    "max_div_seq(116, 1)"
   ]
  }
 ],
 "metadata": {},
 "nbformat": 4,
 "nbformat_minor": 5
}
