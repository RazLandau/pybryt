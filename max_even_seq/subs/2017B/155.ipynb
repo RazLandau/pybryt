{
 "cells": [
  {
   "cell_type": "code",
   "execution_count": null,
   "id": "anticipated-vector",
   "metadata": {},
   "outputs": [],
   "source": [
    "def max_even_seq(n):\n",
    "    n = str(n)\n",
    "    maxSeq = 0\n",
    "    currentSeq = 0\n",
    "    for dig in n:\n",
    "        if int(dig) % 2 == 0:\n",
    "            currentSeq += 1\n",
    "            maxSeq = max (maxSeq, currentSeq)\n",
    "        else:\n",
    "            currentSeq = 0\n",
    "    return maxSeq\n",
    "\n",
    "\n",
    "\n",
    "\n",
    "\n"
   ]
  },
  {
   "cell_type": "code",
   "execution_count": null,
   "id": "earlier-fifteen",
   "metadata": {},
   "outputs": [],
   "source": [
    "max_div_seq(116, 1)"
   ]
  }
 ],
 "metadata": {},
 "nbformat": 4,
 "nbformat_minor": 5
}
