{
 "cells": [
  {
   "cell_type": "code",
   "execution_count": null,
   "id": "prime-valuable",
   "metadata": {},
   "outputs": [],
   "source": [
    "def max_even_seq(n):\n",
    "    li=[]\n",
    "    if n==0: return 1\n",
    "    while n!=0:\n",
    "        cnt=0\n",
    "        while n%2==0 and n!=0:\n",
    "            cnt+=1\n",
    "            n=n//10\n",
    "        n=n//10\n",
    "        li.append(cnt)\n",
    "    li.sort()\n",
    "    return (li[len(li)-1])\n",
    "\n",
    "\n",
    "\n",
    "\n",
    "\n"
   ]
  },
  {
   "cell_type": "code",
   "execution_count": null,
   "id": "ranging-sixth",
   "metadata": {},
   "outputs": [],
   "source": [
    "max_div_seq(116, 1)"
   ]
  }
 ],
 "metadata": {},
 "nbformat": 4,
 "nbformat_minor": 5
}
