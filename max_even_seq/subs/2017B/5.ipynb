{
 "cells": [
  {
   "cell_type": "code",
   "execution_count": null,
   "id": "exceptional-control",
   "metadata": {},
   "outputs": [],
   "source": [
    "def max_even_seq(n):\n",
    "    alllen = [0]\n",
    "    m=0\n",
    "    while n>0:\n",
    "        if n%2 == 0:\n",
    "            m += 1\n",
    "            n = n//10\n",
    "        elif n%2 !=0:\n",
    "            alllen.append (m)\n",
    "            n = n//10\n",
    "            m=0\n",
    "    if n == 0:\n",
    "        alllen.append (m)\n",
    "        a = max (alllen)\n",
    "        return a\n",
    "        \n",
    "\n",
    "\n",
    "\n",
    "\n",
    "\n"
   ]
  },
  {
   "cell_type": "code",
   "execution_count": null,
   "id": "devoted-blade",
   "metadata": {},
   "outputs": [],
   "source": [
    "max_div_seq(116, 1)"
   ]
  }
 ],
 "metadata": {},
 "nbformat": 4,
 "nbformat_minor": 5
}
