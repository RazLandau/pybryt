{
 "cells": [
  {
   "cell_type": "code",
   "execution_count": null,
   "id": "sustained-cabinet",
   "metadata": {},
   "outputs": [],
   "source": [
    "def max_even_seq(n):\n",
    "    even_list = []\n",
    "    cnt_even = 0\n",
    "    for digit in str(n):\n",
    "        if int(digit)%2 == 0:\n",
    "            cnt_even += 1\n",
    "            even_list.append(cnt_even)\n",
    "        else:\n",
    "            cnt_even = 0\n",
    "            even_list.append(cnt_even)\n",
    "\n",
    "    return(max(even_list))\n",
    "\n"
   ]
  },
  {
   "cell_type": "code",
   "execution_count": null,
   "id": "experienced-substitute",
   "metadata": {},
   "outputs": [],
   "source": [
    "max_div_seq(116, 1)"
   ]
  }
 ],
 "metadata": {},
 "nbformat": 4,
 "nbformat_minor": 5
}
