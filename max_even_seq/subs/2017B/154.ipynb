{
 "cells": [
  {
   "cell_type": "code",
   "execution_count": null,
   "id": "macro-saudi",
   "metadata": {},
   "outputs": [],
   "source": [
    "def max_even_seq(n):\n",
    "    max_length = 0\n",
    "    for i in range(len(str(n))):\n",
    "        if int(str(n)[i]) % 2 == 0:\n",
    "            current_length = 0\n",
    "            while i < len(str(n)) and int(str(n)[i]) % 2 == 0:\n",
    "                current_length += 1\n",
    "                #print(current_length)\n",
    "                i += 1\n",
    "                #print(i)\n",
    "            if current_length > max_length:\n",
    "                max_length = current_length\n",
    "    return max_length\n",
    "\n",
    "\n"
   ]
  },
  {
   "cell_type": "code",
   "execution_count": null,
   "id": "severe-holly",
   "metadata": {},
   "outputs": [],
   "source": [
    "max_div_seq(116, 1)"
   ]
  }
 ],
 "metadata": {},
 "nbformat": 4,
 "nbformat_minor": 5
}
