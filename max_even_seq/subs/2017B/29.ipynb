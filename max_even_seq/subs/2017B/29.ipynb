{
 "cells": [
  {
   "cell_type": "code",
   "execution_count": null,
   "id": "blessed-canyon",
   "metadata": {},
   "outputs": [],
   "source": [
    "def max_even_seq(n):\n",
    "    cntp=0\n",
    "    while (n>0):\n",
    "        cntl=0\n",
    "        if((n%10)%2==0):\n",
    "            while ((n>0) and ((n%10)%2==0)): #while the last digit is an evan number and the number is not 0\n",
    "                cntl=cntl+1\n",
    "                n=n//10\n",
    "            if (cntl>cntp):\n",
    "                cntp=cntl\n",
    "        else:\n",
    "            n=n//10\n",
    "    return cntp\n",
    "\n",
    "\n"
   ]
  },
  {
   "cell_type": "code",
   "execution_count": null,
   "id": "sapphire-mortgage",
   "metadata": {},
   "outputs": [],
   "source": [
    "max_div_seq(116, 1)"
   ]
  }
 ],
 "metadata": {},
 "nbformat": 4,
 "nbformat_minor": 5
}
