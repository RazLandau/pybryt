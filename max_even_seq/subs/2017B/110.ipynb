{
 "cells": [
  {
   "cell_type": "code",
   "execution_count": null,
   "id": "successful-header",
   "metadata": {},
   "outputs": [],
   "source": [
    "def max_even_seq(n):\n",
    "    cur_seq=0\n",
    "    max_seq=0\n",
    "    x = str(n)\n",
    "    for c in x:\n",
    "        i = int(c)\n",
    "        if i % 2 == 0:\n",
    "            cur_seq = cur_seq + 1\n",
    "        else:\n",
    "            max_seq = max(max_seq,cur_seq)\n",
    "            cur_seq=0\n",
    "    max_seq = max(max_seq, cur_seq)\n",
    "    return max_seq\n",
    "\n",
    "\n"
   ]
  },
  {
   "cell_type": "code",
   "execution_count": null,
   "id": "legendary-mixture",
   "metadata": {},
   "outputs": [],
   "source": [
    "max_div_seq(116, 1)"
   ]
  }
 ],
 "metadata": {},
 "nbformat": 4,
 "nbformat_minor": 5
}
