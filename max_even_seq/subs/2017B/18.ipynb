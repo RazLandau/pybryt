{
 "cells": [
  {
   "cell_type": "code",
   "execution_count": null,
   "id": "traditional-standard",
   "metadata": {},
   "outputs": [],
   "source": [
    "def max_even_seq(n):\n",
    "    max_ = 0\n",
    "    curr = 0\n",
    "    for x in range(len(str(n))):\n",
    "        digit = n%10\n",
    "        if digit%2 == 0:\n",
    "            curr += 1\n",
    "            if curr > max_:\n",
    "                max_ = curr\n",
    "        else:\n",
    "            curr = 0\n",
    "        n = n//10\n",
    "    return max_\n",
    "        \n",
    "\n",
    "\n",
    "\n",
    "\n",
    "\n"
   ]
  },
  {
   "cell_type": "code",
   "execution_count": null,
   "id": "amber-sydney",
   "metadata": {},
   "outputs": [],
   "source": [
    "max_div_seq(116, 1)"
   ]
  }
 ],
 "metadata": {},
 "nbformat": 4,
 "nbformat_minor": 5
}
