{
 "cells": [
  {
   "cell_type": "code",
   "execution_count": null,
   "id": "consistent-density",
   "metadata": {},
   "outputs": [],
   "source": [
    "def max_even_seq(n):\n",
    "    evencounter = 0\n",
    "    maxeven = 0\n",
    "    while(n>0):\n",
    "        num = n%10\n",
    "        if num%2==0:\n",
    "            evencounter = evencounter + 1\n",
    "        else:\n",
    "            if evencounter>maxeven:\n",
    "                maxeven = evencounter\n",
    "            evencounter = 0\n",
    "        n = n//10\n",
    "    return(maxeven)\n",
    "    \n",
    "                \n",
    "        \n",
    "        \n",
    "    \n",
    "    \n",
    "\n",
    "\n",
    "\n",
    "\n",
    "\n"
   ]
  },
  {
   "cell_type": "code",
   "execution_count": null,
   "id": "aboriginal-pointer",
   "metadata": {},
   "outputs": [],
   "source": [
    "max_div_seq(116, 1)"
   ]
  }
 ],
 "metadata": {},
 "nbformat": 4,
 "nbformat_minor": 5
}
