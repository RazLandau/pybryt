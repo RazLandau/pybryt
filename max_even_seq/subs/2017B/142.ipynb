{
 "cells": [
  {
   "cell_type": "code",
   "execution_count": null,
   "id": "bigger-distribution",
   "metadata": {},
   "outputs": [],
   "source": [
    "def max_even_seq(n):\n",
    "    maxEvenLength=0\n",
    "    currentLen=0\n",
    "    for x in str(n):\n",
    "        if(int(x)%2==0):\n",
    "            currentLen+=1\n",
    "        else:\n",
    "            currentLen=0\n",
    "        if(currentLen>maxEvenLength):\n",
    "            maxEvenLength=currentLen\n",
    "    return maxEvenLength\n",
    "\n",
    "\n",
    "\n",
    "\n",
    "\n"
   ]
  },
  {
   "cell_type": "code",
   "execution_count": null,
   "id": "understood-rabbit",
   "metadata": {},
   "outputs": [],
   "source": [
    "max_div_seq(116, 1)"
   ]
  }
 ],
 "metadata": {},
 "nbformat": 4,
 "nbformat_minor": 5
}
