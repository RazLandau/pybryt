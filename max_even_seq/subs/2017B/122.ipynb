{
 "cells": [
  {
   "cell_type": "code",
   "execution_count": null,
   "id": "recreational-delhi",
   "metadata": {},
   "outputs": [],
   "source": [
    "def max_even_seq(n):\n",
    "    cnt=0\n",
    "    maxCnt=0\n",
    "    if(n==0):\n",
    "        return 1\n",
    "    else:\n",
    "        while(n>0):\n",
    "            if((n%10)%2==0):\n",
    "                cnt=cnt+1\n",
    "            else:\n",
    "                cnt=0\n",
    "            n=n//10\n",
    "            if(cnt>maxCnt):\n",
    "                maxCnt=cnt\n",
    "    return maxCnt\n",
    "\n",
    "\n",
    "\n",
    "\n",
    "\n",
    "\n"
   ]
  },
  {
   "cell_type": "code",
   "execution_count": null,
   "id": "considerable-reputation",
   "metadata": {},
   "outputs": [],
   "source": [
    "max_div_seq(116, 1)"
   ]
  }
 ],
 "metadata": {},
 "nbformat": 4,
 "nbformat_minor": 5
}
