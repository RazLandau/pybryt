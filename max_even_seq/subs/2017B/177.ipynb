{
 "cells": [
  {
   "cell_type": "code",
   "execution_count": null,
   "id": "novel-default",
   "metadata": {},
   "outputs": [],
   "source": [
    "def max_even_seq(n):\n",
    "\tcounter = 0\n",
    "\tmax_sequence = 0\n",
    "    \n",
    "\tfor num in str(n):\n",
    "\t\tif int(num) % 2 == 0 :\n",
    "\t\t\tcounter += 1\n",
    "\t\telse:\n",
    "\t\t\tcounter = 0\n",
    "\t\tif counter > max_sequence :\n",
    "\t\t\tmax_sequence = counter\n",
    "\t\n",
    "\treturn (max_sequence)\n",
    "\n",
    "\n",
    "\n",
    "\n",
    "\n"
   ]
  },
  {
   "cell_type": "code",
   "execution_count": null,
   "id": "crucial-taste",
   "metadata": {},
   "outputs": [],
   "source": [
    "max_div_seq(116, 1)"
   ]
  }
 ],
 "metadata": {},
 "nbformat": 4,
 "nbformat_minor": 5
}
