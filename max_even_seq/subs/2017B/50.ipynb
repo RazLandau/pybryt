{
 "cells": [
  {
   "cell_type": "code",
   "execution_count": null,
   "id": "treated-private",
   "metadata": {},
   "outputs": [],
   "source": [
    "def max_even_seq(n):\n",
    "\n",
    "    import math\n",
    "\n",
    "\n",
    "    cnt = 0\n",
    "    tmp = 0\n",
    "    while n > 0 :\n",
    "        l = n % 10\n",
    "        if l % 2 == 0:\n",
    "            tmp = tmp + 1\n",
    "            if tmp > cnt:\n",
    "                cnt = tmp\n",
    "        else:\n",
    "            tmp = 0\n",
    "        n = n / 10\n",
    "        n = math.floor(n)\n",
    "    return cnt\n",
    "\n",
    "\n",
    "\n",
    "\n",
    "\n"
   ]
  },
  {
   "cell_type": "code",
   "execution_count": null,
   "id": "micro-implement",
   "metadata": {},
   "outputs": [],
   "source": [
    "max_div_seq(116, 1)"
   ]
  }
 ],
 "metadata": {},
 "nbformat": 4,
 "nbformat_minor": 5
}
