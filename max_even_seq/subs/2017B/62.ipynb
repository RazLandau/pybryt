{
 "cells": [
  {
   "cell_type": "code",
   "execution_count": null,
   "id": "mental-borough",
   "metadata": {},
   "outputs": [],
   "source": [
    "def max_even_seq(n):\n",
    "    max1=0\n",
    "    cnt=0\n",
    "\n",
    "    while n>0:\n",
    "        if (n%10)%2==0:\n",
    "            cnt+=1\n",
    "        else:\n",
    "            if cnt>max1:\n",
    "                max1=cnt\n",
    "            cnt=0\n",
    "        n=n//10\n",
    "       \n",
    "    return max(cnt,max1)\n",
    "\n",
    "\n"
   ]
  },
  {
   "cell_type": "code",
   "execution_count": null,
   "id": "enhanced-pharmaceutical",
   "metadata": {},
   "outputs": [],
   "source": [
    "max_div_seq(116, 1)"
   ]
  }
 ],
 "metadata": {},
 "nbformat": 4,
 "nbformat_minor": 5
}
