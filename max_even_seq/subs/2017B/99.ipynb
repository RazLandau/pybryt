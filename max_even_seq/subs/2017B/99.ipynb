{
 "cells": [
  {
   "cell_type": "code",
   "execution_count": null,
   "id": "chicken-favorite",
   "metadata": {},
   "outputs": [],
   "source": [
    "def max_even_seq(n):\n",
    "        res=0\n",
    "        max1 = 0\n",
    "        num =str(n)\n",
    "        for i in num:\n",
    "                if int(i) %2 ==0:\n",
    "                    res+= 1\n",
    "                    max1 = max(res,max1)\n",
    "                    \n",
    "                else:\n",
    "                    num=0\n",
    "                    res =0\n",
    "\n",
    "        return max1            \n",
    "        \n",
    "\n",
    "\n",
    "\n"
   ]
  },
  {
   "cell_type": "code",
   "execution_count": null,
   "id": "representative-sentence",
   "metadata": {},
   "outputs": [],
   "source": [
    "max_div_seq(116, 1)"
   ]
  }
 ],
 "metadata": {},
 "nbformat": 4,
 "nbformat_minor": 5
}
