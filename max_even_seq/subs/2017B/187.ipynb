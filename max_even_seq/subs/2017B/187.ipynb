{
 "cells": [
  {
   "cell_type": "code",
   "execution_count": null,
   "id": "familiar-manitoba",
   "metadata": {},
   "outputs": [],
   "source": [
    "def max_even_seq(n):\n",
    "    sn=str(n)\n",
    "    max0=0\n",
    "    max1=0\n",
    "    for dig in sn:\n",
    "        idig=int(dig)\n",
    "        if(idig%2==0):\n",
    "            max1+=1   \n",
    "        if(idig%2==1):\n",
    "            if(max1>max0):\n",
    "                max0=max1\n",
    "                max1=0\n",
    "    max1=max0\n",
    "    return max1\n",
    "    \n",
    "\n",
    "\n",
    "\n",
    "\n",
    "\n"
   ]
  },
  {
   "cell_type": "code",
   "execution_count": null,
   "id": "illegal-earth",
   "metadata": {},
   "outputs": [],
   "source": [
    "max_div_seq(116, 1)"
   ]
  }
 ],
 "metadata": {},
 "nbformat": 4,
 "nbformat_minor": 5
}
