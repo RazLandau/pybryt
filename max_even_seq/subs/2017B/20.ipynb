{
 "cells": [
  {
   "cell_type": "code",
   "execution_count": null,
   "id": "female-portrait",
   "metadata": {},
   "outputs": [],
   "source": [
    "def max_even_seq(n):\n",
    "    i=0\n",
    "    x=0\n",
    "    z=0\n",
    "    num = int(n)\n",
    "    while num > 0:\n",
    "        i = i + (num % 10)\n",
    "        num = num // 10\n",
    "        if i % 2 == 0:\n",
    "            x+=1\n",
    "            if z<x:\n",
    "                z=x\n",
    "        else:\n",
    "            x=0\n",
    "        i=0\n",
    "    return(z)        \n",
    "            \n",
    "\n"
   ]
  },
  {
   "cell_type": "code",
   "execution_count": null,
   "id": "noble-inventory",
   "metadata": {},
   "outputs": [],
   "source": [
    "max_div_seq(116, 1)"
   ]
  }
 ],
 "metadata": {},
 "nbformat": 4,
 "nbformat_minor": 5
}
