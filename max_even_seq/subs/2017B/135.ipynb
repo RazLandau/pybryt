{
 "cells": [
  {
   "cell_type": "code",
   "execution_count": null,
   "id": "accepting-desert",
   "metadata": {},
   "outputs": [],
   "source": [
    "def max_even_seq(n):\n",
    "    strike = 0\n",
    "    basket=[]\n",
    "    for i in str(n):\n",
    "        if int(i)%2==0:\n",
    "            strike+=1\n",
    "            basket += [strike]\n",
    "        else:\n",
    "            strike = 0\n",
    "    basket.sort()\n",
    "    basket.reverse()\n",
    "    return (basket[0])\n"
   ]
  },
  {
   "cell_type": "code",
   "execution_count": null,
   "id": "injured-vintage",
   "metadata": {},
   "outputs": [],
   "source": [
    "max_div_seq(116, 1)"
   ]
  }
 ],
 "metadata": {},
 "nbformat": 4,
 "nbformat_minor": 5
}
