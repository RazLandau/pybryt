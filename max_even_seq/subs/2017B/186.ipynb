{
 "cells": [
  {
   "cell_type": "code",
   "execution_count": null,
   "id": "underlying-ireland",
   "metadata": {},
   "outputs": [],
   "source": [
    "def max_even_seq(n):\n",
    "    cnt=0\n",
    "    listt=[0]\n",
    "    while n>0:\n",
    "        if n%2==0:\n",
    "            cnt=cnt+1\n",
    "            n=n//10\n",
    "            list.append(listt, cnt)\n",
    "        else:\n",
    "            cnt=0\n",
    "            n=n//10\n",
    "\n",
    "\n",
    "    return (max(set(listt)))\n",
    "\n",
    "\n",
    "\n",
    "\n"
   ]
  },
  {
   "cell_type": "code",
   "execution_count": null,
   "id": "brilliant-shoot",
   "metadata": {},
   "outputs": [],
   "source": [
    "max_div_seq(116, 1)"
   ]
  }
 ],
 "metadata": {},
 "nbformat": 4,
 "nbformat_minor": 5
}
