{
 "cells": [
  {
   "cell_type": "code",
   "execution_count": null,
   "id": "intended-booth",
   "metadata": {},
   "outputs": [],
   "source": [
    "def max_even_seq(n):\n",
    "    nfix = int(\"1\"+str(n)+\"1\")\n",
    "    cnt = 0\n",
    "    max = 0\n",
    "    mylist = [int(i) for i in str(nfix)]\n",
    "    for item in mylist:\n",
    "        if item%2 == 0:\n",
    "            cnt += 1\n",
    "        else:\n",
    "            if max < cnt:\n",
    "                max = cnt\n",
    "            cnt = 0\n",
    "    return max\n",
    "\n",
    "\n",
    "\n",
    "\n",
    "\n"
   ]
  },
  {
   "cell_type": "code",
   "execution_count": null,
   "id": "interesting-train",
   "metadata": {},
   "outputs": [],
   "source": [
    "max_div_seq(116, 1)"
   ]
  }
 ],
 "metadata": {},
 "nbformat": 4,
 "nbformat_minor": 5
}
