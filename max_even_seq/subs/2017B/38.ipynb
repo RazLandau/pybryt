{
 "cells": [
  {
   "cell_type": "code",
   "execution_count": null,
   "id": "sweet-governor",
   "metadata": {},
   "outputs": [],
   "source": [
    "def max_even_seq(n):\n",
    "    sequences=[]\n",
    "    count=0\n",
    "    for d in str(n):        \n",
    "        if int(d)%2==0:\n",
    "            count+=1\n",
    "        else:\n",
    "            sequences.append(count)\n",
    "            count=0\n",
    "        sequences.append(count)\n",
    "    return max(sequences)\n",
    "\n",
    "\n",
    "\n"
   ]
  },
  {
   "cell_type": "code",
   "execution_count": null,
   "id": "sunset-lawrence",
   "metadata": {},
   "outputs": [],
   "source": [
    "max_div_seq(116, 1)"
   ]
  }
 ],
 "metadata": {},
 "nbformat": 4,
 "nbformat_minor": 5
}
