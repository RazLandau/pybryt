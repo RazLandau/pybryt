{
 "cells": [
  {
   "cell_type": "code",
   "execution_count": null,
   "id": "welsh-topic",
   "metadata": {},
   "outputs": [],
   "source": [
    "def max_even_seq(n):\n",
    "    i=0\n",
    "    a=[]\n",
    "    for digit in str(n):\n",
    "        if int(digit)%2==0:\n",
    "            i = i+1\n",
    "        else:\n",
    "            a.append(i)\n",
    "            i=0\n",
    "    a.append(i)\n",
    "    return(max(a))\n",
    "\n",
    "\n",
    "\n",
    "\n",
    "\n"
   ]
  },
  {
   "cell_type": "code",
   "execution_count": null,
   "id": "drawn-cologne",
   "metadata": {},
   "outputs": [],
   "source": [
    "max_div_seq(116, 1)"
   ]
  }
 ],
 "metadata": {},
 "nbformat": 4,
 "nbformat_minor": 5
}
