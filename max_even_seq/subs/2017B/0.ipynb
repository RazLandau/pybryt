{
 "cells": [
  {
   "cell_type": "code",
   "execution_count": null,
   "id": "tested-marsh",
   "metadata": {},
   "outputs": [],
   "source": [
    "def max_even_seq(n):\n",
    "    Num=0\n",
    "    count=0\n",
    "    while n>0:\n",
    "        if (n%10)%2==0:\n",
    "            count=count+1\n",
    "            if count>Num:\n",
    "                Num=count\n",
    "        else:\n",
    "            count=0\n",
    "        n=n//10\n",
    "    return(Num)\n",
    "\n",
    "\n"
   ]
  },
  {
   "cell_type": "code",
   "execution_count": null,
   "id": "changing-singapore",
   "metadata": {},
   "outputs": [],
   "source": [
    "max_div_seq(116, 1)"
   ]
  }
 ],
 "metadata": {},
 "nbformat": 4,
 "nbformat_minor": 5
}
