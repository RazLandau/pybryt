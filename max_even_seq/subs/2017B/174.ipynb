{
 "cells": [
  {
   "cell_type": "code",
   "execution_count": null,
   "id": "ceramic-blackjack",
   "metadata": {},
   "outputs": [],
   "source": [
    "def max_even_seq(n):\n",
    "    cnt=0\n",
    "    mx=0\n",
    "    for i in str(n):\n",
    "        if (int(i)%2==0):\n",
    "            cnt=cnt+1\n",
    "        else:\n",
    "            cnt=0\n",
    "        if (cnt>mx):\n",
    "            mx=cnt\n",
    "    return mx\n",
    "\n",
    "\n",
    "\n",
    "\n"
   ]
  },
  {
   "cell_type": "code",
   "execution_count": null,
   "id": "equal-universe",
   "metadata": {},
   "outputs": [],
   "source": [
    "max_div_seq(116, 1)"
   ]
  }
 ],
 "metadata": {},
 "nbformat": 4,
 "nbformat_minor": 5
}
