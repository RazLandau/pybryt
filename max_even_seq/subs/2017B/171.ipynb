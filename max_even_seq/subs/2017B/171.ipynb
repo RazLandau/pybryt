{
 "cells": [
  {
   "cell_type": "code",
   "execution_count": null,
   "id": "exciting-pointer",
   "metadata": {},
   "outputs": [],
   "source": [
    "def max_even_seq(n):\n",
    "    m=str(n)\n",
    "    s=\"\" #the idea is explained below.\n",
    "    for i in m:\n",
    "\t    if (int(i))%2==0:\n",
    "\t\t    s=\"y\"+s\n",
    "\t    else:\n",
    "\t\t    s=\" \"+s\n",
    "    k=s.split()\n",
    "    v=max(len(w) for w in k)\n",
    "    return(v)\n",
    "\n",
    "\n"
   ]
  },
  {
   "cell_type": "code",
   "execution_count": null,
   "id": "documented-dollar",
   "metadata": {},
   "outputs": [],
   "source": [
    "max_div_seq(116, 1)"
   ]
  }
 ],
 "metadata": {},
 "nbformat": 4,
 "nbformat_minor": 5
}
