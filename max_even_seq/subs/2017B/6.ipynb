{
 "cells": [
  {
   "cell_type": "code",
   "execution_count": null,
   "id": "tender-situation",
   "metadata": {},
   "outputs": [],
   "source": [
    "def max_even_seq(n):\n",
    "    count=0\n",
    "    maxx=0\n",
    "    while n>0:\n",
    "        if n%2==0:\n",
    "            count+=1\n",
    "            n=n//10\n",
    "        else:\n",
    "            if maxx<count:\n",
    "                maxx=count\n",
    "            count=0\n",
    "            n=n//10\n",
    "    return maxx         \n",
    "\n",
    "\n",
    "\n",
    "\n",
    "\n",
    "\n"
   ]
  },
  {
   "cell_type": "code",
   "execution_count": null,
   "id": "extraordinary-tournament",
   "metadata": {},
   "outputs": [],
   "source": [
    "max_div_seq(116, 1)"
   ]
  }
 ],
 "metadata": {},
 "nbformat": 4,
 "nbformat_minor": 5
}
