{
 "cells": [
  {
   "cell_type": "code",
   "execution_count": null,
   "id": "collaborative-funeral",
   "metadata": {},
   "outputs": [],
   "source": [
    "def max_even_seq(n):\n",
    "    pass #replace with your implementation\n",
    "    list1 = []\n",
    "    x,y,z=0,0,0\n",
    "    while n>0:\n",
    "        while n%2 == 0 and n !=0:\n",
    "            x += 1\n",
    "            n = n//10\n",
    "        list1.append(x)\n",
    "        x=0\n",
    "        n = n//10\n",
    "    for i in list1:\n",
    "        if list1[z] > y :\n",
    "            y=list1[z]\n",
    "        z += 1\n",
    "    return(y)\n",
    "\n",
    "\n",
    "\n"
   ]
  },
  {
   "cell_type": "code",
   "execution_count": null,
   "id": "metropolitan-fleece",
   "metadata": {},
   "outputs": [],
   "source": [
    "max_div_seq(116, 1)"
   ]
  }
 ],
 "metadata": {},
 "nbformat": 4,
 "nbformat_minor": 5
}
