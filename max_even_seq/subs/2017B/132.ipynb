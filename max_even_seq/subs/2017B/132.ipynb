{
 "cells": [
  {
   "cell_type": "code",
   "execution_count": null,
   "id": "fifteen-probability",
   "metadata": {},
   "outputs": [],
   "source": [
    "def max_even_seq(n):\n",
    "    if n == 0:\n",
    "        return 1\n",
    "    lst = []\n",
    "    while n > 0 : # bulding a list from the %2 of the digits\n",
    "        eventy = n % 2\n",
    "        lst.append(eventy)\n",
    "        n = n // 10\n",
    "    max_seq = 0\n",
    "    local_seq = 0\n",
    "    for run in lst :\n",
    "        if run == 0 :\n",
    "            local_seq = local_seq + 1 #every time it meets zero it increases\n",
    "        if run == 1 :\n",
    "            local_seq = 0 #every time it meets number 1 it starting to count from the begining\n",
    "        max_seq = max(max_seq, local_seq) \n",
    "    return max_seq\n",
    "    \n",
    "\n",
    "\n",
    "\n",
    "\n"
   ]
  },
  {
   "cell_type": "code",
   "execution_count": null,
   "id": "looking-english",
   "metadata": {},
   "outputs": [],
   "source": [
    "max_div_seq(116, 1)"
   ]
  }
 ],
 "metadata": {},
 "nbformat": 4,
 "nbformat_minor": 5
}
