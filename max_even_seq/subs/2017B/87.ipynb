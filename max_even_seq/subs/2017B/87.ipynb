{
 "cells": [
  {
   "cell_type": "code",
   "execution_count": null,
   "id": "experienced-machinery",
   "metadata": {},
   "outputs": [],
   "source": [
    "def max_even_seq(n):\n",
    "    if(n<=9 and n%2==0):\n",
    "        return 1\n",
    "    elif(n<=9 and n%2!=0):\n",
    "        return 0\n",
    "    else:    \n",
    "        check_list=[]\n",
    "        counter=0\n",
    "        while n>9:\n",
    "            if((n%10)%2==0):\n",
    "                counter = counter+1\n",
    "            elif((n%10)%2!=0):\n",
    "                counter=0\n",
    "            n=n//10   \n",
    "            check_list.append(counter)    \n",
    "        length=len(check_list)\n",
    "        if(check_list[length-1]==0 and n%2==0):\n",
    "            check_list.append(1)\n",
    "        elif(check_list[length-1]!=0 and n%2==0):\n",
    "            check_list.append(check_list[length-1]+1)\n",
    "    \n",
    "        return(max(check_list))\n",
    "        \n",
    "                \n",
    "\n",
    "\n",
    "    \n",
    "\n",
    "\n",
    "\n"
   ]
  },
  {
   "cell_type": "code",
   "execution_count": null,
   "id": "instructional-behalf",
   "metadata": {},
   "outputs": [],
   "source": [
    "max_div_seq(116, 1)"
   ]
  }
 ],
 "metadata": {},
 "nbformat": 4,
 "nbformat_minor": 5
}
