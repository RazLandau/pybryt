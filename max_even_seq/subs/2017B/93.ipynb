{
 "cells": [
  {
   "cell_type": "code",
   "execution_count": null,
   "id": "junior-samoa",
   "metadata": {},
   "outputs": [],
   "source": [
    "def max_even_seq(n):\n",
    "    x = n\n",
    "    mlst = [0]\n",
    "    count = 0\n",
    "    for i in str(n):\n",
    "        if int(i)%2 == 0:\n",
    "            count = count +1\n",
    "        else:\n",
    "            if count != 0:\n",
    "                mlst.append(count)\n",
    "            count = 0\n",
    "    return(max(mlst))\n",
    "\n",
    "\n",
    "\n",
    "\n",
    "\n"
   ]
  },
  {
   "cell_type": "code",
   "execution_count": null,
   "id": "dimensional-shell",
   "metadata": {},
   "outputs": [],
   "source": [
    "max_div_seq(116, 1)"
   ]
  }
 ],
 "metadata": {},
 "nbformat": 4,
 "nbformat_minor": 5
}
