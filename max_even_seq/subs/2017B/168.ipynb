{
 "cells": [
  {
   "cell_type": "code",
   "execution_count": null,
   "id": "faced-norwegian",
   "metadata": {},
   "outputs": [],
   "source": [
    "def max_even_seq(n):\n",
    "   nAsString = str(n)\n",
    "   currentLength = maxLength = 0\n",
    "   for CurrentDigit in nAsString:\n",
    "      if int(CurrentDigit)%2==0: #is the current digit 'even' ?\n",
    "         currentLength += 1\n",
    "         if currentLength > maxLength:\n",
    "            maxLength = currentLength\n",
    "      else:\n",
    "         currentLength = 0\n",
    "   return(maxLength)\n",
    "\n",
    "\n"
   ]
  },
  {
   "cell_type": "code",
   "execution_count": null,
   "id": "electronic-reduction",
   "metadata": {},
   "outputs": [],
   "source": [
    "max_div_seq(116, 1)"
   ]
  }
 ],
 "metadata": {},
 "nbformat": 4,
 "nbformat_minor": 5
}
