{
 "cells": [
  {
   "cell_type": "code",
   "execution_count": null,
   "id": "stuck-petite",
   "metadata": {},
   "outputs": [],
   "source": [
    "def max_even_seq(n):\n",
    "    max_cnt=0\n",
    "    if n==0:\n",
    "        return 1\n",
    "    while n>0:\n",
    "        cnt=0\n",
    "        while ((n%10)%2==0)&(n>0):\n",
    "            cnt=cnt+1\n",
    "            n=n//10\n",
    "        if cnt>max_cnt:\n",
    "            max_cnt=cnt\n",
    "        n=n//10\n",
    "    return (max_cnt)\n",
    "\n"
   ]
  },
  {
   "cell_type": "code",
   "execution_count": null,
   "id": "proof-manitoba",
   "metadata": {},
   "outputs": [],
   "source": [
    "max_div_seq(116, 1)"
   ]
  }
 ],
 "metadata": {},
 "nbformat": 4,
 "nbformat_minor": 5
}
