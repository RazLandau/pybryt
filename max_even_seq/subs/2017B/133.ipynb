{
 "cells": [
  {
   "cell_type": "code",
   "execution_count": null,
   "id": "protective-paper",
   "metadata": {},
   "outputs": [],
   "source": [
    "def max_even_seq(n):\n",
    "    totalMax=0\n",
    "    tempMax=0\n",
    "    if n==0:\n",
    "        return 1\n",
    "    else:\n",
    "        while n!=0:\n",
    "            if n%2==0:\n",
    "                tempMax+=1\n",
    "            else:\n",
    "                tempMax=0\n",
    "            if tempMax>totalMax:\n",
    "                totalMax=tempMax\n",
    "            n//=10\n",
    "    return totalMax\n",
    "\n"
   ]
  },
  {
   "cell_type": "code",
   "execution_count": null,
   "id": "sufficient-funeral",
   "metadata": {},
   "outputs": [],
   "source": [
    "max_div_seq(116, 1)"
   ]
  }
 ],
 "metadata": {},
 "nbformat": 4,
 "nbformat_minor": 5
}
