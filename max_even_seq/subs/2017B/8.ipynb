{
 "cells": [
  {
   "cell_type": "code",
   "execution_count": null,
   "id": "working-biology",
   "metadata": {},
   "outputs": [],
   "source": [
    "def max_even_seq(n):\n",
    "    a=0\n",
    "    am=0\n",
    "    n=str(n)\n",
    "    for i in (n):\n",
    "        if int(i)%2==0:\n",
    "            a+=1\n",
    "        else:\n",
    "            if am<a:\n",
    "                am=a\n",
    "            a=0\n",
    "    return am\n",
    "\n"
   ]
  },
  {
   "cell_type": "code",
   "execution_count": null,
   "id": "according-demonstration",
   "metadata": {},
   "outputs": [],
   "source": [
    "max_div_seq(116, 1)"
   ]
  }
 ],
 "metadata": {},
 "nbformat": 4,
 "nbformat_minor": 5
}
