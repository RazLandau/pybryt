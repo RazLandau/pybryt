{
 "cells": [
  {
   "cell_type": "code",
   "execution_count": null,
   "id": "promising-belgium",
   "metadata": {},
   "outputs": [],
   "source": [
    "def max_even_seq(n):\n",
    "    max_seq = 0\n",
    "    even_digits = 0\n",
    "    if n == 0:\n",
    "        return 1\n",
    "    while n >0:\n",
    "        if n%2 == 0:\n",
    "            even_digits = even_digits + 1 #adding 1 to count if last character is even\n",
    "            if even_digits > max_seq:\n",
    "                max_seq = even_digits\n",
    "        else:\n",
    "            even_digits = 0 #resetting if last character is odd\n",
    "        n = n // 10 #next character\n",
    "    return max_seq\n",
    "    \n",
    "            \n",
    "            \n",
    "            \n",
    "\n",
    "\n",
    "\n",
    "\n",
    "\n",
    "\n"
   ]
  },
  {
   "cell_type": "code",
   "execution_count": null,
   "id": "differential-sleeping",
   "metadata": {},
   "outputs": [],
   "source": [
    "max_div_seq(116, 1)"
   ]
  }
 ],
 "metadata": {},
 "nbformat": 4,
 "nbformat_minor": 5
}
