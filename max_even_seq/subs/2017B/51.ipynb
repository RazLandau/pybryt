{
 "cells": [
  {
   "cell_type": "code",
   "execution_count": null,
   "id": "abandoned-savings",
   "metadata": {},
   "outputs": [],
   "source": [
    "def max_even_seq(n):\n",
    "    n = [int(x) for x in str(n)]\n",
    "    l = len(n)\n",
    "    d = 0\n",
    "    cnt = 0\n",
    "    high = 0\n",
    "    for i in range(l):\n",
    "        d = l-1\n",
    "        while ((n[i]%2==0) & (i != d)) :\n",
    "            cnt = cnt + 1\n",
    "            i = i+1\n",
    "        else:\n",
    "            if n[i]%2==0:\n",
    "                cnt = cnt+1\n",
    "        if cnt>high:\n",
    "            high =cnt\n",
    "        cnt = 0\n",
    "    print (high)\n",
    "        \n",
    "\n",
    "\n",
    "\n",
    "\n",
    "\n"
   ]
  },
  {
   "cell_type": "code",
   "execution_count": null,
   "id": "handy-princeton",
   "metadata": {},
   "outputs": [],
   "source": [
    "max_div_seq(116, 1)"
   ]
  }
 ],
 "metadata": {},
 "nbformat": 4,
 "nbformat_minor": 5
}
