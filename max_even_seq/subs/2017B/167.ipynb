{
 "cells": [
  {
   "cell_type": "code",
   "execution_count": null,
   "id": "crude-chemical",
   "metadata": {},
   "outputs": [],
   "source": [
    "def max_even_seq(n):\n",
    "    maxEven = 0\n",
    "    count = 0\n",
    "    if n==0:\n",
    "        maxEven=1\n",
    "    while n>0:\n",
    "        if n%10%2==0:\n",
    "            count=count+1\n",
    "            if maxEven<count:\n",
    "                maxEven=count\n",
    "        if n%10%2==1:\n",
    "            count=0\n",
    "        n=n//10\n",
    "    return(maxEven)\n",
    "\n"
   ]
  },
  {
   "cell_type": "code",
   "execution_count": null,
   "id": "dated-township",
   "metadata": {},
   "outputs": [],
   "source": [
    "max_div_seq(116, 1)"
   ]
  }
 ],
 "metadata": {},
 "nbformat": 4,
 "nbformat_minor": 5
}
