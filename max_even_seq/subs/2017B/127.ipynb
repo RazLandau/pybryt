{
 "cells": [
  {
   "cell_type": "code",
   "execution_count": null,
   "id": "swiss-match",
   "metadata": {},
   "outputs": [],
   "source": [
    "def max_even_seq(n):\n",
    "    pass #replace with your implementation\n",
    "    num = n\n",
    "    maxi = 0\n",
    "    maxi1 = 0\n",
    "    if num>=0 and num<=9:\n",
    "        if num%2==0:\n",
    "            return 1\n",
    "        else:\n",
    "            return 0\n",
    "    elif n>=10:\n",
    "        lstnum = num%10\n",
    "        num = num//10\n",
    "        while num>0:\n",
    "            if lstnum%2==0:\n",
    "                while lstnum%2==0 and num>0:\n",
    "                    maxi1 +=1\n",
    "                    lstnum = num%10\n",
    "                    num = num//10\n",
    "                if lstnum%2==0:\n",
    "                    maxi1 +=1\n",
    "                if maxi1>maxi:\n",
    "                    maxi = maxi1\n",
    "                maxi1 = 0\n",
    "            else:\n",
    "                lstnum = num%10\n",
    "                num = num//10           \n",
    "        return maxi\n",
    "            \n",
    "\n"
   ]
  },
  {
   "cell_type": "code",
   "execution_count": null,
   "id": "assured-syndicate",
   "metadata": {},
   "outputs": [],
   "source": [
    "max_div_seq(116, 1)"
   ]
  }
 ],
 "metadata": {},
 "nbformat": 4,
 "nbformat_minor": 5
}
