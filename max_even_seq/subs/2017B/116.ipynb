{
 "cells": [
  {
   "cell_type": "code",
   "execution_count": null,
   "id": "russian-drill",
   "metadata": {},
   "outputs": [],
   "source": [
    "def max_even_seq(n):\n",
    "    cnt1=0\n",
    "    cnt2=0\n",
    "    for i in str(n):\n",
    "        if int(i) % 2 == 0:\n",
    "            cnt1 += 1\n",
    "            if cnt1 > cnt2:\n",
    "                cnt2 = cnt1\n",
    "        else :\n",
    "            cnt1=0\n",
    "\n",
    "    return cnt2\n",
    "\n"
   ]
  },
  {
   "cell_type": "code",
   "execution_count": null,
   "id": "narrow-sperm",
   "metadata": {},
   "outputs": [],
   "source": [
    "max_div_seq(116, 1)"
   ]
  }
 ],
 "metadata": {},
 "nbformat": 4,
 "nbformat_minor": 5
}
