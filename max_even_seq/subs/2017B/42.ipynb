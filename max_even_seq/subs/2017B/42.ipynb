{
 "cells": [
  {
   "cell_type": "code",
   "execution_count": null,
   "id": "hairy-heaven",
   "metadata": {},
   "outputs": [],
   "source": [
    "def max_even_seq(n):\n",
    "    #pass #replace with your implementation\n",
    "\n",
    "    my_number = str(n)\n",
    "    \n",
    "    counter = 0\n",
    "    max_counter = 0\n",
    "    \n",
    "    for c in my_number:\n",
    "        if (int(c)%2==0):\n",
    "            counter = counter + 1\n",
    "        else:\n",
    "            if (counter > max_counter):\n",
    "                max_counter = counter\n",
    "            counter = 0\n",
    "\n",
    "    return max_counter\n",
    "\n",
    "\n"
   ]
  },
  {
   "cell_type": "code",
   "execution_count": null,
   "id": "continent-literacy",
   "metadata": {},
   "outputs": [],
   "source": [
    "max_div_seq(116, 1)"
   ]
  }
 ],
 "metadata": {},
 "nbformat": 4,
 "nbformat_minor": 5
}
