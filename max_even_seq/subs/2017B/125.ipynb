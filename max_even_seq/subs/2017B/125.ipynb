{
 "cells": [
  {
   "cell_type": "code",
   "execution_count": null,
   "id": "rough-mobile",
   "metadata": {},
   "outputs": [],
   "source": [
    "def max_even_seq(n):\n",
    "    count = 0\n",
    "    max_count = 0\n",
    "    for char in str(n):\n",
    "        if int(char) % 2 == 0:\n",
    "            count += 1\n",
    "            if count > max_count:\n",
    "                max_count = count\n",
    "        else:\n",
    "            count = 0\n",
    "    return max_count      \n",
    "            \n",
    "\n",
    "\n",
    "\n"
   ]
  },
  {
   "cell_type": "code",
   "execution_count": null,
   "id": "frequent-capture",
   "metadata": {},
   "outputs": [],
   "source": [
    "max_div_seq(116, 1)"
   ]
  }
 ],
 "metadata": {},
 "nbformat": 4,
 "nbformat_minor": 5
}
