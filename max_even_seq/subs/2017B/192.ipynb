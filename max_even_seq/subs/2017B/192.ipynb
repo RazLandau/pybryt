{
 "cells": [
  {
   "cell_type": "code",
   "execution_count": null,
   "id": "international-particular",
   "metadata": {},
   "outputs": [],
   "source": [
    "def max_even_seq(n):\n",
    "    cnt=0\n",
    "    maxcnt=0\n",
    "    while n > 0:\n",
    "        res = n % 10\n",
    "        n = n // 10\n",
    "        if res%2==0:\n",
    "            cnt+=1\n",
    "        else:\n",
    "            maxcnt=max(cnt,maxcnt)\n",
    "            cnt=0\n",
    "    return maxcnt\n",
    "\n",
    "\n",
    "\n"
   ]
  },
  {
   "cell_type": "code",
   "execution_count": null,
   "id": "built-version",
   "metadata": {},
   "outputs": [],
   "source": [
    "max_div_seq(116, 1)"
   ]
  }
 ],
 "metadata": {},
 "nbformat": 4,
 "nbformat_minor": 5
}
