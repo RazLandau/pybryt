{
 "cells": [
  {
   "cell_type": "code",
   "execution_count": null,
   "id": "progressive-minneapolis",
   "metadata": {},
   "outputs": [],
   "source": [
    "def max_even_seq(n):\n",
    "    cnt = 0\n",
    "    maxcnt = 0\n",
    "    for i in str(n):\n",
    "        if int(i)%2==0:\n",
    "            cnt +=1\n",
    "            if cnt >maxcnt:\n",
    "                maxcnt = cnt\n",
    "            else:\n",
    "                maxcnt = maxcnt\n",
    "        else:\n",
    "            cnt =0\n",
    "    return(maxcnt)    \n",
    "                \n",
    "\n",
    "\n"
   ]
  },
  {
   "cell_type": "code",
   "execution_count": null,
   "id": "distributed-anatomy",
   "metadata": {},
   "outputs": [],
   "source": [
    "max_div_seq(116, 1)"
   ]
  }
 ],
 "metadata": {},
 "nbformat": 4,
 "nbformat_minor": 5
}
