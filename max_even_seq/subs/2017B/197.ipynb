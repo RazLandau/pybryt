{
 "cells": [
  {
   "cell_type": "code",
   "execution_count": null,
   "id": "vertical-surprise",
   "metadata": {},
   "outputs": [],
   "source": [
    "def max_even_seq(n):\n",
    "    if(n == 0):\n",
    "        return 1\n",
    "    maxLength = 0\n",
    "    counter = 0\n",
    "    while (n > 0):\n",
    "        if (n % 2 == 0):  # if n is even that means the last charcter is even.\n",
    "            counter = counter + 1\n",
    "            if maxLength < counter:\n",
    "                maxLength = counter\n",
    "        else:\n",
    "            counter = 0\n",
    "        n = n // 10  # Removing the last digit\n",
    "    return maxLength\n",
    "\n",
    "\n"
   ]
  },
  {
   "cell_type": "code",
   "execution_count": null,
   "id": "right-contemporary",
   "metadata": {},
   "outputs": [],
   "source": [
    "max_div_seq(116, 1)"
   ]
  }
 ],
 "metadata": {},
 "nbformat": 4,
 "nbformat_minor": 5
}
