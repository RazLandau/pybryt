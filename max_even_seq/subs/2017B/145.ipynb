{
 "cells": [
  {
   "cell_type": "code",
   "execution_count": null,
   "id": "quantitative-double",
   "metadata": {},
   "outputs": [],
   "source": [
    "def max_even_seq(n):\n",
    "    maxLen=0\n",
    "    cnt = 0\n",
    "    num=str(n)\n",
    "    for dig in num:\n",
    "        if int(dig)%2==0:\n",
    "            cnt = cnt + 1\n",
    "        else:\n",
    "            if cnt>maxLen:\n",
    "                maxLen = cnt\n",
    "            cnt = 0\n",
    "        \n",
    "    return(maxLen)\n",
    "         \n"
   ]
  },
  {
   "cell_type": "code",
   "execution_count": null,
   "id": "departmental-stewart",
   "metadata": {},
   "outputs": [],
   "source": [
    "max_div_seq(116, 1)"
   ]
  }
 ],
 "metadata": {},
 "nbformat": 4,
 "nbformat_minor": 5
}
