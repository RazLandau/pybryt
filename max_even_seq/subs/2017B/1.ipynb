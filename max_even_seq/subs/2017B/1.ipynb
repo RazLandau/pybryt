{
 "cells": [
  {
   "cell_type": "code",
   "execution_count": null,
   "id": "interpreted-motel",
   "metadata": {},
   "outputs": [],
   "source": [
    "def max_even_seq(n):\n",
    "    x=0\n",
    "    maxx=0\n",
    "    while n>0:\n",
    "        if n%2==0:\n",
    "            x+=1\n",
    "        else:\n",
    "            maxx=max(maxx,x)\n",
    "            x=0\n",
    "        maxx=max(maxx,x)\n",
    "        n=int(n/10)\n",
    "    return(maxx)\n",
    "\n",
    "\n"
   ]
  },
  {
   "cell_type": "code",
   "execution_count": null,
   "id": "sunset-column",
   "metadata": {},
   "outputs": [],
   "source": [
    "max_div_seq(116, 1)"
   ]
  }
 ],
 "metadata": {},
 "nbformat": 4,
 "nbformat_minor": 5
}
