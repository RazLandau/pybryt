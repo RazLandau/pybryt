{
 "cells": [
  {
   "cell_type": "code",
   "execution_count": null,
   "id": "elegant-northeast",
   "metadata": {},
   "outputs": [],
   "source": [
    "def max_even_seq(n):\n",
    "    '''\n",
    "    max_even_seq (integer) --> integer\n",
    "    return the maximun number of even digits sequence in n\n",
    "    '''\n",
    "    counter = 0\n",
    "    save = 0\n",
    "    for digit in str (n):\n",
    "        if (int(digit))%2==0:\n",
    "            counter+=1\n",
    "        else:\n",
    "            save = max(counter, save)\n",
    "            counter=0\n",
    "    return max (counter,save)\n"
   ]
  },
  {
   "cell_type": "code",
   "execution_count": null,
   "id": "accepted-monthly",
   "metadata": {},
   "outputs": [],
   "source": [
    "max_div_seq(116, 1)"
   ]
  }
 ],
 "metadata": {},
 "nbformat": 4,
 "nbformat_minor": 5
}
