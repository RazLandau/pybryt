{
 "cells": [
  {
   "cell_type": "code",
   "execution_count": null,
   "id": "shaped-reaction",
   "metadata": {},
   "outputs": [],
   "source": [
    "def max_even_seq(n):   \n",
    "    en = str(n)\n",
    "    evens = \"\"\n",
    "    for x in en:\n",
    "        if int(x)%2 ==0:\n",
    "            evens += x\n",
    "        else:\n",
    "            evens += \" \"\n",
    "    listEvens = evens.split()\n",
    "    m = 0\n",
    "    for i in range(len(listEvens)):\n",
    "        m = max(len(listEvens[i]), m) \n",
    "        \n",
    "    return(m)\n",
    "\n",
    "\n",
    "\n",
    "\n"
   ]
  },
  {
   "cell_type": "code",
   "execution_count": null,
   "id": "early-principle",
   "metadata": {},
   "outputs": [],
   "source": [
    "max_div_seq(116, 1)"
   ]
  }
 ],
 "metadata": {},
 "nbformat": 4,
 "nbformat_minor": 5
}
