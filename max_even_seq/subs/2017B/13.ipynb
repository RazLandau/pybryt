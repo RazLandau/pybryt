{
 "cells": [
  {
   "cell_type": "code",
   "execution_count": null,
   "id": "unnecessary-anxiety",
   "metadata": {},
   "outputs": [],
   "source": [
    "def max_even_seq(n):\n",
    "    cnt = 0\n",
    "    li = [0]\n",
    "    if n==0:\n",
    "       maximum = 1\n",
    "    else:\n",
    "        while n > 0:\n",
    "            if n%2==0:\n",
    "                cnt = cnt + 1\n",
    "                n = (n//10)\n",
    "            else:\n",
    "                li = li + [cnt]\n",
    "                cnt = 0\n",
    "                n = (n//10)\n",
    "\n",
    "        maximum = max(li)\n",
    "\n",
    "    return maximum\n",
    "\n",
    "\n"
   ]
  },
  {
   "cell_type": "code",
   "execution_count": null,
   "id": "surprised-passing",
   "metadata": {},
   "outputs": [],
   "source": [
    "max_div_seq(116, 1)"
   ]
  }
 ],
 "metadata": {},
 "nbformat": 4,
 "nbformat_minor": 5
}
