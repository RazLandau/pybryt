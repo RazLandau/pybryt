{
 "cells": [
  {
   "cell_type": "code",
   "execution_count": null,
   "id": "external-victor",
   "metadata": {},
   "outputs": [],
   "source": [
    "def max_even_seq(n):\n",
    "\n",
    "    maxCount = 0\n",
    "    currentCount = 0\n",
    "    \n",
    "    for c in str(n):\n",
    "        if int(c) % 2 == 0:\n",
    "            currentCount += 1\n",
    "        else:\n",
    "            if currentCount > maxCount:\n",
    "                maxCount = currentCount\n",
    "            currentCount = 0\n",
    "            \n",
    "\n",
    "    if currentCount > maxCount:\n",
    "        maxCount = currentCount\n",
    "\n",
    "    return maxCount\n",
    "\n",
    "\n",
    "\n",
    "\n"
   ]
  },
  {
   "cell_type": "code",
   "execution_count": null,
   "id": "waiting-singapore",
   "metadata": {},
   "outputs": [],
   "source": [
    "max_div_seq(116, 1)"
   ]
  }
 ],
 "metadata": {},
 "nbformat": 4,
 "nbformat_minor": 5
}
