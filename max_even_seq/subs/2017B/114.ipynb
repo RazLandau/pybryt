{
 "cells": [
  {
   "cell_type": "code",
   "execution_count": null,
   "id": "stylish-clone",
   "metadata": {},
   "outputs": [],
   "source": [
    "def max_even_seq(n):\n",
    "    maxpint = 0\n",
    "    pint = 0\n",
    "    for i in str(n):\n",
    "        if int(i)%2 == 0:\n",
    "            pint += 1\n",
    "            if maxpint < pint:\n",
    "                maxpint = pint\n",
    "        else:\n",
    "            pint = 0\n",
    "    return maxpint\n",
    "\n",
    "\n",
    "\n",
    "\n",
    "\n"
   ]
  },
  {
   "cell_type": "code",
   "execution_count": null,
   "id": "suspected-syntax",
   "metadata": {},
   "outputs": [],
   "source": [
    "max_div_seq(116, 1)"
   ]
  }
 ],
 "metadata": {},
 "nbformat": 4,
 "nbformat_minor": 5
}
