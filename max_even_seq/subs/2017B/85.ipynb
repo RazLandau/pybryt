{
 "cells": [
  {
   "cell_type": "code",
   "execution_count": null,
   "id": "typical-telescope",
   "metadata": {},
   "outputs": [],
   "source": [
    "def max_even_seq(n):\n",
    "    cnt=0\n",
    "    r=0\n",
    "    strn=str(n)\n",
    "    for digit in strn:\n",
    "        num=int(digit)\n",
    "        if num%2==0:\n",
    "            # cnt=cnt+1\n",
    "            # r=max(cnt,r)\n",
    "        else:\n",
    "            cnt=0\n",
    "    return(r)\n",
    "\n",
    "\n"
   ]
  },
  {
   "cell_type": "code",
   "execution_count": null,
   "id": "legendary-chart",
   "metadata": {},
   "outputs": [],
   "source": [
    "max_div_seq(116, 1)"
   ]
  }
 ],
 "metadata": {},
 "nbformat": 4,
 "nbformat_minor": 5
}
