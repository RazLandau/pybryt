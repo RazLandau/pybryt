{
 "cells": [
  {
   "cell_type": "code",
   "execution_count": null,
   "id": "accessory-intermediate",
   "metadata": {},
   "outputs": [],
   "source": [
    "def max_even_seq(n):\n",
    "    maxseq=0\n",
    "    cnt=0\n",
    "    for dig in str(n):\n",
    "        if int(dig)%2==0:\n",
    "            cnt+=1\n",
    "        else:\n",
    "            if cnt>maxseq:\n",
    "                maxseq=cnt\n",
    "            cnt=0\n",
    "    if cnt>maxseq:\n",
    "        maxseq=cnt\n",
    "    return maxseq\n",
    "\n",
    "\n"
   ]
  },
  {
   "cell_type": "code",
   "execution_count": null,
   "id": "compound-father",
   "metadata": {},
   "outputs": [],
   "source": [
    "max_div_seq(116, 1)"
   ]
  }
 ],
 "metadata": {},
 "nbformat": 4,
 "nbformat_minor": 5
}
