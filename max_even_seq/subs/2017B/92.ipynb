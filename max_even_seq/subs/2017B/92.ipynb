{
 "cells": [
  {
   "cell_type": "code",
   "execution_count": null,
   "id": "musical-storage",
   "metadata": {},
   "outputs": [],
   "source": [
    "def max_even_seq(n):\n",
    "\tans = 0\n",
    "\tcounter= 0\n",
    "\tnum = str(n)\n",
    "\tfor a in num:\n",
    "\t\tif int(a)%2 == 0:\n",
    "\t\t\tcounter = counter+1\n",
    "\t\telse:\n",
    "\t\t\tif counter>ans:\n",
    "\t\t\t\tans = counter\n",
    "\t\t\t\tcounter = 0\n",
    "\t\t\telse:\n",
    "\t\t\t\tcounter = 0\n",
    "\tif counter>ans:\n",
    "\t\tans = counter\n",
    "\treturn ans\n",
    "\n",
    "\n",
    "\n"
   ]
  },
  {
   "cell_type": "code",
   "execution_count": null,
   "id": "reduced-reason",
   "metadata": {},
   "outputs": [],
   "source": [
    "max_div_seq(116, 1)"
   ]
  }
 ],
 "metadata": {},
 "nbformat": 4,
 "nbformat_minor": 5
}
