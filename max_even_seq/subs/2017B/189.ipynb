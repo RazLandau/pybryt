{
 "cells": [
  {
   "cell_type": "code",
   "execution_count": null,
   "id": "realistic-particle",
   "metadata": {},
   "outputs": [],
   "source": [
    "def max_even_seq(n):\n",
    "    c=0\n",
    "    m=0\n",
    "    while n>0:\n",
    "        if (n%10)%2==0:\n",
    "            c+=1\n",
    "        else:\n",
    "            if c>m:\n",
    "                m=c\n",
    "            c=0\n",
    "        n//=10\n",
    "    if c>m:\n",
    "        m=c\n",
    "    return(m)\n",
    "\n"
   ]
  },
  {
   "cell_type": "code",
   "execution_count": null,
   "id": "novel-blood",
   "metadata": {},
   "outputs": [],
   "source": [
    "max_div_seq(116, 1)"
   ]
  }
 ],
 "metadata": {},
 "nbformat": 4,
 "nbformat_minor": 5
}
