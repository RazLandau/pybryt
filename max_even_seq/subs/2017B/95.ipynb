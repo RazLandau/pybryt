{
 "cells": [
  {
   "cell_type": "code",
   "execution_count": null,
   "id": "given-suicide",
   "metadata": {},
   "outputs": [],
   "source": [
    "def max_even_seq(n):\n",
    "    seq = 0\n",
    "    maxx = 0\n",
    "    for i in str(n):\n",
    "        if (int(i) % 2 == 0):\n",
    "            seq += 1\n",
    "        else:\n",
    "            if (seq > maxx):\n",
    "                maxx = seq\n",
    "            seq = 0\n",
    "    if (seq > maxx):\n",
    "        return seq\n",
    "    return maxx\n",
    "\n",
    "\n",
    "\n",
    "\n",
    "\n"
   ]
  },
  {
   "cell_type": "code",
   "execution_count": null,
   "id": "northern-survivor",
   "metadata": {},
   "outputs": [],
   "source": [
    "max_div_seq(116, 1)"
   ]
  }
 ],
 "metadata": {},
 "nbformat": 4,
 "nbformat_minor": 5
}
