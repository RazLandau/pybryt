{
 "cells": [
  {
   "cell_type": "code",
   "execution_count": null,
   "id": "automatic-montgomery",
   "metadata": {},
   "outputs": [],
   "source": [
    "def max_even_seq(n):\n",
    "    if n==0:\n",
    "        return 1\n",
    "    num=n\n",
    "    seq=0\n",
    "    max=0\n",
    "    b=False #True if the last number checked was even\n",
    "    while num>0:\n",
    "        if not(b):\n",
    "            if (num%10)%2==0:\n",
    "                seq=1\n",
    "                b=True\n",
    "        else:\n",
    "            if (num%10)%2==0:\n",
    "                seq=seq+1\n",
    "                if seq>max:\n",
    "                    max=seq\n",
    "            else:\n",
    "                    seq=0\n",
    "                    b=False\n",
    "        num=num//10\n",
    "    return max\n",
    "\n"
   ]
  },
  {
   "cell_type": "code",
   "execution_count": null,
   "id": "transsexual-alpha",
   "metadata": {},
   "outputs": [],
   "source": [
    "max_div_seq(116, 1)"
   ]
  }
 ],
 "metadata": {},
 "nbformat": 4,
 "nbformat_minor": 5
}
