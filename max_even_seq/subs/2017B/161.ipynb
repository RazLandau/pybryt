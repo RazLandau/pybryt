{
 "cells": [
  {
   "cell_type": "code",
   "execution_count": null,
   "id": "overall-siemens",
   "metadata": {},
   "outputs": [],
   "source": [
    "def max_even_seq(n):\n",
    "    strn = str(n)\n",
    "    trutheven = []\n",
    "    for digit in strn:\n",
    "        if int(digit) % 2 == 0:\n",
    "            trutheven.append('+')\n",
    "        else:\n",
    "            trutheven.append('-')\n",
    "    count = 0\n",
    "    seqlist = []\n",
    "    for value in trutheven:\n",
    "        if value == '-':\n",
    "            count = count * 0\n",
    "            seqlist.append(count)\n",
    "        else:\n",
    "            count = count + 1\n",
    "            seqlist.append(count)\n",
    "    max_even_seq1 = max(seqlist)\n",
    "    return max_even_seq1\n",
    "\n",
    "\n",
    "\n",
    "\n",
    " #Testing Q6\n"
   ]
  },
  {
   "cell_type": "code",
   "execution_count": null,
   "id": "successful-hammer",
   "metadata": {},
   "outputs": [],
   "source": [
    "max_div_seq(116, 1)"
   ]
  }
 ],
 "metadata": {},
 "nbformat": 4,
 "nbformat_minor": 5
}
