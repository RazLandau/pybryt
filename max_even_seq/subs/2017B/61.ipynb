{
 "cells": [
  {
   "cell_type": "code",
   "execution_count": null,
   "id": "mounted-humor",
   "metadata": {},
   "outputs": [],
   "source": [
    "def max_even_seq(n):\n",
    "    n_as_str = str(n)\n",
    "    even_nums_sequences = [0]\n",
    "    for i in range(0,len(n_as_str)):\n",
    "        if int(n_as_str[i])%2==0:\n",
    "            even_nums_sequences[-1] = even_nums_sequences[-1] + 1\n",
    "        else:\n",
    "            even_nums_sequences.append(0)\n",
    "    return(max(even_nums_sequences))\n",
    "        \n"
   ]
  },
  {
   "cell_type": "code",
   "execution_count": null,
   "id": "colored-qualification",
   "metadata": {},
   "outputs": [],
   "source": [
    "max_div_seq(116, 1)"
   ]
  }
 ],
 "metadata": {},
 "nbformat": 4,
 "nbformat_minor": 5
}
