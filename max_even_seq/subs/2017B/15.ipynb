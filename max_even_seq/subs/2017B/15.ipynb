{
 "cells": [
  {
   "cell_type": "code",
   "execution_count": null,
   "id": "destroyed-involvement",
   "metadata": {},
   "outputs": [],
   "source": [
    "def max_even_seq(n):\n",
    "    maxCounter = 0\n",
    "    counter = 0\n",
    "    for digit in str(n):\n",
    "        isEven = int(digit) % 2 == 0\n",
    "        counter = (counter * isEven) + isEven * isEven\n",
    "        maxCounter = max(maxCounter, counter)\n",
    "    return maxCounter\n",
    "\n",
    "\n"
   ]
  },
  {
   "cell_type": "code",
   "execution_count": null,
   "id": "informative-radar",
   "metadata": {},
   "outputs": [],
   "source": [
    "max_div_seq(116, 1)"
   ]
  }
 ],
 "metadata": {},
 "nbformat": 4,
 "nbformat_minor": 5
}
