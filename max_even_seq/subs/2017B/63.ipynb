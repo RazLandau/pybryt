{
 "cells": [
  {
   "cell_type": "code",
   "execution_count": null,
   "id": "aerial-purchase",
   "metadata": {},
   "outputs": [],
   "source": [
    "def max_even_seq(n):\n",
    "    pass #replace with your implementation\n",
    "    fnl=0\n",
    "    cnt=0\n",
    "    n=str(n)\n",
    "    list(n)\n",
    "    for i in range(len(n)):\n",
    "        if int(n[i])%2==0:\n",
    "            cnt=cnt+1\n",
    "        else:\n",
    "            if cnt>fnl:\n",
    "                fnl=cnt\n",
    "            cnt=0\n",
    "    if cnt>fnl:\n",
    "        fnl=cnt\n",
    "    return(fnl)\n",
    "\n",
    "\n",
    "\n",
    "\n"
   ]
  },
  {
   "cell_type": "code",
   "execution_count": null,
   "id": "korean-netscape",
   "metadata": {},
   "outputs": [],
   "source": [
    "max_div_seq(116, 1)"
   ]
  }
 ],
 "metadata": {},
 "nbformat": 4,
 "nbformat_minor": 5
}
