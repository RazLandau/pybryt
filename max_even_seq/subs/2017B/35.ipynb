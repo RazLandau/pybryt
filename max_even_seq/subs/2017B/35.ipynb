{
 "cells": [
  {
   "cell_type": "code",
   "execution_count": null,
   "id": "prepared-burlington",
   "metadata": {},
   "outputs": [],
   "source": [
    "def max_even_seq(n):\n",
    "    bank = 0\n",
    "    count = 0\n",
    "    for digit in str(n):\n",
    "        if int(digit)%2 == 0:\n",
    "            count += 1\n",
    "        else:\n",
    "            if count>bank:\n",
    "                bank = count\n",
    "                count = 0\n",
    "            else:\n",
    "                count = 0\n",
    "    return(bank)\n",
    "\n",
    "\n"
   ]
  },
  {
   "cell_type": "code",
   "execution_count": null,
   "id": "departmental-invitation",
   "metadata": {},
   "outputs": [],
   "source": [
    "max_div_seq(116, 1)"
   ]
  }
 ],
 "metadata": {},
 "nbformat": 4,
 "nbformat_minor": 5
}
