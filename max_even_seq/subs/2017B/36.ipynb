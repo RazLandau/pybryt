{
 "cells": [
  {
   "cell_type": "code",
   "execution_count": null,
   "id": "dominant-berlin",
   "metadata": {},
   "outputs": [],
   "source": [
    "def max_even_seq(n):\n",
    "    pass \n",
    "    s = str(n)\n",
    "    bigc = 0\n",
    "    tempc = 0\n",
    "    for i in range (1,len(s)+1):\n",
    "        if int(s[i-1])%2 == 0:\n",
    "            tempc = tempc + 1\n",
    "        else:\n",
    "            tempc = 0\n",
    "        if bigc < tempc:\n",
    "            bigc = tempc\n",
    "    return bigc\n",
    "\n"
   ]
  },
  {
   "cell_type": "code",
   "execution_count": null,
   "id": "obvious-shift",
   "metadata": {},
   "outputs": [],
   "source": [
    "max_div_seq(116, 1)"
   ]
  }
 ],
 "metadata": {},
 "nbformat": 4,
 "nbformat_minor": 5
}
