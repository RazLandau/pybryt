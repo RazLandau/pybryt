{
 "cells": [
  {
   "cell_type": "code",
   "execution_count": null,
   "id": "illegal-marks",
   "metadata": {},
   "outputs": [],
   "source": [
    "def max_even_seq(n):\n",
    "    cnt=0\n",
    "    max=0\n",
    "    snum = str(n) \n",
    "    for digit in snum:\n",
    "        if int(digit)%2 == 0:\n",
    "            cnt = cnt+1\n",
    "        else:\n",
    "            cnt=0\n",
    "        if cnt>max:\n",
    "            max=cnt\n",
    "    return (max)\n",
    "\n",
    "\n",
    "\n",
    "\n",
    "\n"
   ]
  },
  {
   "cell_type": "code",
   "execution_count": null,
   "id": "certain-wrong",
   "metadata": {},
   "outputs": [],
   "source": [
    "max_div_seq(116, 1)"
   ]
  }
 ],
 "metadata": {},
 "nbformat": 4,
 "nbformat_minor": 5
}
