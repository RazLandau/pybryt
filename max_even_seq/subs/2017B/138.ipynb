{
 "cells": [
  {
   "cell_type": "code",
   "execution_count": null,
   "id": "integrated-sleep",
   "metadata": {},
   "outputs": [],
   "source": [
    "def max_even_seq(n):\n",
    "    if n<0:\n",
    "        print(\"n must be 0 or larger\")\n",
    "        return\n",
    "    elif type(n)!=int:\n",
    "        print(\"n must be an integer\")\n",
    "        return\n",
    "    else:\n",
    "       stringed = str(n)\n",
    "       countr = 0\n",
    "       current= 0\n",
    "       for char in stringed:\n",
    "           if int(char)%2==0:\n",
    "               current+=1\n",
    "           else:\n",
    "                if countr > current:\n",
    "                    current=0\n",
    "                else:\n",
    "                    countr=current\n",
    "                    current=0\n",
    "       if countr < current:\n",
    "            countr = current\n",
    "    return(countr)\n",
    "\n",
    "\n",
    "\n"
   ]
  },
  {
   "cell_type": "code",
   "execution_count": null,
   "id": "patent-albany",
   "metadata": {},
   "outputs": [],
   "source": [
    "max_div_seq(116, 1)"
   ]
  }
 ],
 "metadata": {},
 "nbformat": 4,
 "nbformat_minor": 5
}
