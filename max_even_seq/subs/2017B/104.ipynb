{
 "cells": [
  {
   "cell_type": "code",
   "execution_count": null,
   "id": "pharmaceutical-welsh",
   "metadata": {},
   "outputs": [],
   "source": [
    "def max_even_seq(n):\n",
    "    maxseq=0\n",
    "    cnt=0\n",
    "    for i in str(n):\n",
    "        if int(i)%2==0:\n",
    "            cnt+=1\n",
    "            if cnt>maxseq:\n",
    "                maxseq=cnt\n",
    "        else:\n",
    "            cnt=0\n",
    "    return maxseq\n",
    "            \n",
    "    \n",
    "\n",
    "\n",
    "\n",
    "\n"
   ]
  },
  {
   "cell_type": "code",
   "execution_count": null,
   "id": "boxed-color",
   "metadata": {},
   "outputs": [],
   "source": [
    "max_div_seq(116, 1)"
   ]
  }
 ],
 "metadata": {},
 "nbformat": 4,
 "nbformat_minor": 5
}
