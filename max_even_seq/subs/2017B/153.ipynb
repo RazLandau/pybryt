{
 "cells": [
  {
   "cell_type": "code",
   "execution_count": null,
   "id": "fifth-thailand",
   "metadata": {},
   "outputs": [],
   "source": [
    "def max_even_seq(n):\n",
    "    # convert n to string\n",
    "    sn = str(n)\n",
    "    # create counters\n",
    "    max_count = 0\n",
    "    temp_count = 0\n",
    "    # iterate through digits\n",
    "    for d in sn:\n",
    "        if (int(d) % 2) == 0:\n",
    "            temp_count += 1\n",
    "        else:\n",
    "            max_count = max(max_count, temp_count)\n",
    "            temp_count = 0\n",
    "    return max_count\n",
    "\n",
    "\n",
    "\n",
    "\n"
   ]
  },
  {
   "cell_type": "code",
   "execution_count": null,
   "id": "inclusive-composition",
   "metadata": {},
   "outputs": [],
   "source": [
    "max_div_seq(116, 1)"
   ]
  }
 ],
 "metadata": {},
 "nbformat": 4,
 "nbformat_minor": 5
}
