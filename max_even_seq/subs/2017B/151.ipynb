{
 "cells": [
  {
   "cell_type": "code",
   "execution_count": null,
   "id": "polyphonic-spell",
   "metadata": {},
   "outputs": [],
   "source": [
    "def max_even_seq(n):\n",
    "    evens = '24680'\n",
    "    maxseq = 0\n",
    "    curseq = 0\n",
    "    for s in str(n):\n",
    "        if s in evens:\n",
    "            curseq += 1\n",
    "        else:\n",
    "            maxseq = max(curseq, maxseq)\n",
    "            curseq = 0\n",
    "    return max(curseq, maxseq)\n",
    "            \n",
    "\n",
    "\n",
    "\n"
   ]
  },
  {
   "cell_type": "code",
   "execution_count": null,
   "id": "loving-numbers",
   "metadata": {},
   "outputs": [],
   "source": [
    "max_div_seq(116, 1)"
   ]
  }
 ],
 "metadata": {},
 "nbformat": 4,
 "nbformat_minor": 5
}
