{
 "cells": [
  {
   "cell_type": "code",
   "execution_count": null,
   "id": "surprising-contract",
   "metadata": {},
   "outputs": [],
   "source": [
    "def max_even_seq(n):\n",
    "\n",
    "    num= str(n)\n",
    "    count = 0\n",
    "    maxx = 0\n",
    "    lst = []\n",
    "    for item in num:    \n",
    "        if int(item)%2 ==0:\n",
    "            count = count + 1\n",
    "        else:\n",
    "            lst = lst+ [count]\n",
    "            count = 0\n",
    "    lst= lst + [count]\n",
    "\n",
    "    for x in lst:\n",
    "        if x > maxx:\n",
    "            maxx = x\n",
    "    return maxx\n",
    "\n"
   ]
  },
  {
   "cell_type": "code",
   "execution_count": null,
   "id": "corrected-rhythm",
   "metadata": {},
   "outputs": [],
   "source": [
    "max_div_seq(116, 1)"
   ]
  }
 ],
 "metadata": {},
 "nbformat": 4,
 "nbformat_minor": 5
}
