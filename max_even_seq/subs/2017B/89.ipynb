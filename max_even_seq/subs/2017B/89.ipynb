{
 "cells": [
  {
   "cell_type": "code",
   "execution_count": null,
   "id": "medieval-transition",
   "metadata": {},
   "outputs": [],
   "source": [
    "def max_even_seq(n):\n",
    "    longest, current = 0, 0\n",
    "    for evenp in map(lambda x: int(x)%2 == 0, str(n)):\n",
    "        if evenp:\n",
    "            current = current + 1\n",
    "        else:\n",
    "            current = 0\n",
    "        longest = max(longest, current)\n",
    "    return longest\n",
    "\n",
    "\n",
    "\n",
    "\n",
    "\n"
   ]
  },
  {
   "cell_type": "code",
   "execution_count": null,
   "id": "interim-africa",
   "metadata": {},
   "outputs": [],
   "source": [
    "max_div_seq(116, 1)"
   ]
  }
 ],
 "metadata": {},
 "nbformat": 4,
 "nbformat_minor": 5
}
