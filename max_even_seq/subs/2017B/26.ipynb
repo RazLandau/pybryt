{
 "cells": [
  {
   "cell_type": "code",
   "execution_count": null,
   "id": "interior-kuwait",
   "metadata": {},
   "outputs": [],
   "source": [
    "def max_even_seq(n):\n",
    "    max = 0\n",
    "    cur = 0\n",
    "    for s in str(n):\n",
    "        if int(s) % 2 == 0:\n",
    "            cur += 1\n",
    "        else:\n",
    "            cur = 0\n",
    "        if (cur > max):\n",
    "            max = cur\n",
    "    return max\n",
    "\n",
    "\n"
   ]
  },
  {
   "cell_type": "code",
   "execution_count": null,
   "id": "middle-youth",
   "metadata": {},
   "outputs": [],
   "source": [
    "max_div_seq(116, 1)"
   ]
  }
 ],
 "metadata": {},
 "nbformat": 4,
 "nbformat_minor": 5
}
