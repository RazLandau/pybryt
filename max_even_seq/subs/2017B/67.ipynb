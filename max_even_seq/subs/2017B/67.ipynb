{
 "cells": [
  {
   "cell_type": "code",
   "execution_count": null,
   "id": "specific-vietnamese",
   "metadata": {},
   "outputs": [],
   "source": [
    "def max_even_seq(n):\n",
    "    num_even=0\n",
    "    num_evenmax=0\n",
    "\n",
    "    while n>0:\n",
    "        if n%2==0:\n",
    "            num_even+=1\n",
    "            if  num_evenmax<num_even:\n",
    "                num_evenmax=num_even\n",
    "        else:\n",
    "            num_even=0\n",
    "        n=n//10\n",
    "    \n",
    "    return(num_evenmax)\n",
    "\n",
    "\n",
    "\n"
   ]
  },
  {
   "cell_type": "code",
   "execution_count": null,
   "id": "specialized-slave",
   "metadata": {},
   "outputs": [],
   "source": [
    "max_div_seq(116, 1)"
   ]
  }
 ],
 "metadata": {},
 "nbformat": 4,
 "nbformat_minor": 5
}
