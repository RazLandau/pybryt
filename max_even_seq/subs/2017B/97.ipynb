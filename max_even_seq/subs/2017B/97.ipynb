{
 "cells": [
  {
   "cell_type": "code",
   "execution_count": null,
   "id": "maritime-commander",
   "metadata": {},
   "outputs": [],
   "source": [
    "def max_even_seq(n):\n",
    "    evenseq = []\n",
    "    d = 0\n",
    "    while n>0:\n",
    "        while n%2 == 0 and n>0:\n",
    "            d += 1\n",
    "            n = n//10\n",
    "        evenseq.append(d)\n",
    "        d = 0\n",
    "        n = n//10\n",
    "    return max(evenseq)\n",
    "\n",
    "    \n",
    "\n",
    "\n",
    "\n",
    "    \n"
   ]
  },
  {
   "cell_type": "code",
   "execution_count": null,
   "id": "acquired-bottom",
   "metadata": {},
   "outputs": [],
   "source": [
    "max_div_seq(116, 1)"
   ]
  }
 ],
 "metadata": {},
 "nbformat": 4,
 "nbformat_minor": 5
}
