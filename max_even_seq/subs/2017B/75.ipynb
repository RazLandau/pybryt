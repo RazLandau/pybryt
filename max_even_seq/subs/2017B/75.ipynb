{
 "cells": [
  {
   "cell_type": "code",
   "execution_count": null,
   "id": "theoretical-illness",
   "metadata": {},
   "outputs": [],
   "source": [
    "def max_even_seq(n):\n",
    "  #  pass #replace with your implementation\n",
    " newnum=n\n",
    " max=0\n",
    " count=0\n",
    " while(newnum!=0):\n",
    "     if newnum%2==0:\n",
    "         count=count+1\n",
    "         if max<count:\n",
    "             max=count\n",
    "     else:\n",
    "         count=0\n",
    "     newnum//=10\n",
    " return max\n",
    "\n"
   ]
  },
  {
   "cell_type": "code",
   "execution_count": null,
   "id": "brown-billion",
   "metadata": {},
   "outputs": [],
   "source": [
    "max_div_seq(116, 1)"
   ]
  }
 ],
 "metadata": {},
 "nbformat": 4,
 "nbformat_minor": 5
}
