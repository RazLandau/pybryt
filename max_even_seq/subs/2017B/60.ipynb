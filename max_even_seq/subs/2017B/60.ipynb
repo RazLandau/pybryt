{
 "cells": [
  {
   "cell_type": "code",
   "execution_count": null,
   "id": "enabling-latvia",
   "metadata": {},
   "outputs": [],
   "source": [
    "def max_even_seq(n):\n",
    "\n",
    "    count = 0\n",
    "    maxx = 0\n",
    "    \n",
    "    while n>0 :\n",
    "        if ((n%10)%2 == 0):\n",
    "            count += 1\n",
    "        else:\n",
    "            if maxx < count :\n",
    "                maxx = count\n",
    "            count = 0\n",
    "        n = n//10\n",
    "\n",
    "    if (count<maxx):   \n",
    "        return(maxx)\n",
    "    else:\n",
    "        return(count)\n",
    "\n",
    "\n",
    "\n",
    "\n",
    "\n"
   ]
  },
  {
   "cell_type": "code",
   "execution_count": null,
   "id": "funded-wound",
   "metadata": {},
   "outputs": [],
   "source": [
    "max_div_seq(116, 1)"
   ]
  }
 ],
 "metadata": {},
 "nbformat": 4,
 "nbformat_minor": 5
}
