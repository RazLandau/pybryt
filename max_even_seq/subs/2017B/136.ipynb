{
 "cells": [
  {
   "cell_type": "code",
   "execution_count": null,
   "id": "effective-population",
   "metadata": {},
   "outputs": [],
   "source": [
    "def max_even_seq(n):\n",
    "    pass #replace with your implementation\n",
    "    count_high=0\n",
    "    count=0\n",
    "    n=str(n)\n",
    "    for i in range(0,len(n)):\n",
    "        if ((int(n[i]))%2==0):\n",
    "            count+=1\n",
    "        else:\n",
    "            if(count_high<count):\n",
    "                count_high=count  \n",
    "            count=0\n",
    "    if(count_high<count):\n",
    "        count_high=count\n",
    "    return count_high \n",
    "   \n",
    "\n"
   ]
  },
  {
   "cell_type": "code",
   "execution_count": null,
   "id": "skilled-leone",
   "metadata": {},
   "outputs": [],
   "source": [
    "max_div_seq(116, 1)"
   ]
  }
 ],
 "metadata": {},
 "nbformat": 4,
 "nbformat_minor": 5
}
