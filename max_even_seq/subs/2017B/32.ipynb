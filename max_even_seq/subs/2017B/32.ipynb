{
 "cells": [
  {
   "cell_type": "code",
   "execution_count": null,
   "id": "plastic-macedonia",
   "metadata": {},
   "outputs": [],
   "source": [
    "def max_even_seq(n):\n",
    "    snum = str(n)\n",
    "    max_seq = 0\n",
    "    cnt = 0\n",
    "\n",
    "    for digit in snum:\n",
    "        if int(digit) % 2 == 0:\n",
    "            cnt += 1\n",
    "        else:\n",
    "            max_seq = max(max_seq,cnt)\n",
    "            cnt = 0\n",
    "\n",
    "    return max(max_seq,cnt)\n",
    "\n",
    "\n"
   ]
  },
  {
   "cell_type": "code",
   "execution_count": null,
   "id": "continent-queensland",
   "metadata": {},
   "outputs": [],
   "source": [
    "max_div_seq(116, 1)"
   ]
  }
 ],
 "metadata": {},
 "nbformat": 4,
 "nbformat_minor": 5
}
