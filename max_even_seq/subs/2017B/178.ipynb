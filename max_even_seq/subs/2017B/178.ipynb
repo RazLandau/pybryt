{
 "cells": [
  {
   "cell_type": "code",
   "execution_count": null,
   "id": "rotary-march",
   "metadata": {},
   "outputs": [],
   "source": [
    "def max_even_seq(n):\n",
    "    high_score = 0\n",
    "    even_seq = 0\n",
    "    for c in str(n):\n",
    "        if int(c) % 2 == 0:\n",
    "            even_seq += 1\n",
    "        else:\n",
    "            high_score = max(high_score, even_seq)\n",
    "            even_seq = 0\n",
    "\n",
    "    return high_score\n",
    "\n"
   ]
  },
  {
   "cell_type": "code",
   "execution_count": null,
   "id": "cooked-hardware",
   "metadata": {},
   "outputs": [],
   "source": [
    "max_div_seq(116, 1)"
   ]
  }
 ],
 "metadata": {},
 "nbformat": 4,
 "nbformat_minor": 5
}
