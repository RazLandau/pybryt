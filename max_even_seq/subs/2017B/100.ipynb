{
 "cells": [
  {
   "cell_type": "code",
   "execution_count": null,
   "id": "perceived-novelty",
   "metadata": {},
   "outputs": [],
   "source": [
    "def max_even_seq(n):\n",
    "    \n",
    "    temp = \"\"\n",
    "    l1 = []\n",
    "    x=str(n)\n",
    "    for i in x:\n",
    "        y =int(i)\n",
    "        if y%2== 0: \n",
    "            temp= temp +i\n",
    "       \n",
    "        if y%2 != 0:\n",
    "            temp = \"\"\n",
    "        \n",
    "        biger = temp\n",
    "        l1.append(biger)\n",
    "    m= max(l1, key=len)\n",
    "    a= int(len(m))\n",
    "   \n",
    "    return(a)\n",
    "\n",
    "\n"
   ]
  },
  {
   "cell_type": "code",
   "execution_count": null,
   "id": "described-relevance",
   "metadata": {},
   "outputs": [],
   "source": [
    "max_div_seq(116, 1)"
   ]
  }
 ],
 "metadata": {},
 "nbformat": 4,
 "nbformat_minor": 5
}
