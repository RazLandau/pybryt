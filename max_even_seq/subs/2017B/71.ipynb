{
 "cells": [
  {
   "cell_type": "code",
   "execution_count": null,
   "id": "orange-planning",
   "metadata": {},
   "outputs": [],
   "source": [
    "def max_even_seq(n):\n",
    "    tempDigit=0\n",
    "    tempLen=0\n",
    "    maxLen=0\n",
    "    sequenceFlag=False\n",
    "\n",
    "    while n>0:\n",
    "        tempDigit=n%10\n",
    "        if (tempDigit%2==0):\n",
    "            tempLen=tempLen+1\n",
    "            if sequenceFlag==False:\n",
    "                sequenceFlag=True\n",
    "            if tempLen>maxLen:\n",
    "                maxLen=tempLen\n",
    "        else:\n",
    "            sequenceFlag=False\n",
    "            tempLen=0\n",
    "        n=n//10\n",
    "    print (maxLen)\n",
    "\n"
   ]
  },
  {
   "cell_type": "code",
   "execution_count": null,
   "id": "actual-content",
   "metadata": {},
   "outputs": [],
   "source": [
    "max_div_seq(116, 1)"
   ]
  }
 ],
 "metadata": {},
 "nbformat": 4,
 "nbformat_minor": 5
}
