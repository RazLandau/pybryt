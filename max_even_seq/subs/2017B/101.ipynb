{
 "cells": [
  {
   "cell_type": "code",
   "execution_count": null,
   "id": "silent-robinson",
   "metadata": {},
   "outputs": [],
   "source": [
    "def max_even_seq(n):\n",
    "    new=\"\"\n",
    "    result=\"\"\n",
    "    for k in str(n):\n",
    "        if int(k)%2==0:\n",
    "            new=new+str(k)\n",
    "        else:\n",
    "            new=new+\" \"\n",
    "    even_list= new.split(' ')\n",
    "    while \"\" in even_list:\n",
    "        even_list.remove(\"\")\n",
    "    if len(even_list)!=0:\n",
    "        for number in even_list:\n",
    "            if len(str(number))>len(str(result)):\n",
    "                result= len(number)\n",
    "    else:\n",
    "          result=0\n",
    "        \n",
    "    return(result)    \n",
    "\n",
    "                       \n",
    "        \n",
    "\n",
    "\n"
   ]
  },
  {
   "cell_type": "code",
   "execution_count": null,
   "id": "pursuant-entrepreneur",
   "metadata": {},
   "outputs": [],
   "source": [
    "max_div_seq(116, 1)"
   ]
  }
 ],
 "metadata": {},
 "nbformat": 4,
 "nbformat_minor": 5
}
