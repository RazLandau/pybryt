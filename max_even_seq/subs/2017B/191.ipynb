{
 "cells": [
  {
   "cell_type": "code",
   "execution_count": null,
   "id": "designed-amplifier",
   "metadata": {},
   "outputs": [],
   "source": [
    "def max_even_seq(n):\n",
    "    seq = [0]\n",
    "    num = str(n)\n",
    "    temp_seq = 0\n",
    "    for dial in num:\n",
    "        if int(dial)%2 == 0:\n",
    "            temp_seq = temp_seq + 1\n",
    "            num = num[1:]\n",
    "        else:\n",
    "            if int(temp_seq) > 0:\n",
    "                seq.append(temp_seq)\n",
    "            temp_seq = 0\n",
    "            num = num[1:]\n",
    "    seq.append(temp_seq)\n",
    "    return max(seq)\n",
    "            \n",
    "            \n",
    "\n",
    "\n",
    "\n",
    "\n",
    "\n"
   ]
  },
  {
   "cell_type": "code",
   "execution_count": null,
   "id": "global-glory",
   "metadata": {},
   "outputs": [],
   "source": [
    "max_div_seq(116, 1)"
   ]
  }
 ],
 "metadata": {},
 "nbformat": 4,
 "nbformat_minor": 5
}
