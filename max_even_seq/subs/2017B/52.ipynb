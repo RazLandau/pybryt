{
 "cells": [
  {
   "cell_type": "code",
   "execution_count": null,
   "id": "mathematical-consolidation",
   "metadata": {},
   "outputs": [],
   "source": [
    "def max_even_seq(n):\n",
    "    num = str(n)\n",
    "    list1 = []\n",
    "    list2 = []\n",
    "    list4 = []\n",
    "    for x in num:\n",
    "        list1.append(x)  \n",
    "    for z in list1:\n",
    "        y = int(z)\n",
    "        if y % 2 == 0:\n",
    "            list2.append(1)\n",
    "        else: list2.append(0)\n",
    "    newstring = \"\"\n",
    "    for m in list2:\n",
    "        newstring += str(m)\n",
    "    list3 = newstring.split(\"0\")\n",
    "    for p in list3:\n",
    "        f = len(p)\n",
    "        list4.append(f)\n",
    "    return max(list4)\n",
    "\n",
    "\n",
    "\n",
    "\n",
    "\n"
   ]
  },
  {
   "cell_type": "code",
   "execution_count": null,
   "id": "meaningful-subject",
   "metadata": {},
   "outputs": [],
   "source": [
    "max_div_seq(116, 1)"
   ]
  }
 ],
 "metadata": {},
 "nbformat": 4,
 "nbformat_minor": 5
}
