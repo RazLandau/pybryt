{
 "cells": [
  {
   "cell_type": "code",
   "execution_count": null,
   "id": "formal-tunnel",
   "metadata": {},
   "outputs": [],
   "source": [
    "def max_even_seq(n):\n",
    "\tcounter=0\n",
    "\tmx=0\n",
    "\tn=str(n)\n",
    "\tfor i in range(len(n)):\n",
    "\t\tif int(n[i])%2==0:\n",
    "\t\t\tcounter+=1\n",
    "\t\telse:\n",
    "\t\t\tcounter=0\n",
    "\t\tif counter>mx:\n",
    "\t\t\tmx=counter\n",
    "\n",
    "\treturn (mx)\n",
    "\t\n"
   ]
  },
  {
   "cell_type": "code",
   "execution_count": null,
   "id": "specialized-tooth",
   "metadata": {},
   "outputs": [],
   "source": [
    "max_div_seq(116, 1)"
   ]
  }
 ],
 "metadata": {},
 "nbformat": 4,
 "nbformat_minor": 5
}
