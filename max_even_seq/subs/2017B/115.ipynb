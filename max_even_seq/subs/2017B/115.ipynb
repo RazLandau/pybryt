{
 "cells": [
  {
   "cell_type": "code",
   "execution_count": null,
   "id": "solar-backup",
   "metadata": {},
   "outputs": [],
   "source": [
    "def max_even_seq(n):\n",
    "\n",
    "    strn = str(n)\n",
    "    cnt = 0\n",
    "    cmpr = 0\n",
    "    for digit in strn:\n",
    "        if int(digit)%2 == 0:\n",
    "            cnt +=1\n",
    "        else:\n",
    "            cmpr = max(cnt, cmpr)\n",
    "            cnt = 0\n",
    "    cmpr = max(cnt, cmpr)\n",
    "    return cmpr\n",
    "\n",
    "\n"
   ]
  },
  {
   "cell_type": "code",
   "execution_count": null,
   "id": "brave-modern",
   "metadata": {},
   "outputs": [],
   "source": [
    "max_div_seq(116, 1)"
   ]
  }
 ],
 "metadata": {},
 "nbformat": 4,
 "nbformat_minor": 5
}
