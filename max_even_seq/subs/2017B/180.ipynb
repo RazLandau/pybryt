{
 "cells": [
  {
   "cell_type": "code",
   "execution_count": null,
   "id": "standard-phase",
   "metadata": {},
   "outputs": [],
   "source": [
    "def max_even_seq(n):\n",
    "    cnt=0\n",
    "    maxim=0\n",
    "    string=str(n)\n",
    "    lasteven= False\n",
    "    for char in string:\n",
    "        if (int(char)%2==0):\n",
    "            lasteven=True\n",
    "            cnt+=1\n",
    "        else:\n",
    "            lasteven=False\n",
    "            maxim=max(maxim,cnt)\n",
    "            cnt=0\n",
    "    return max(maxim,cnt)\n",
    "\n",
    "\n",
    "\n",
    "\n",
    "\n"
   ]
  },
  {
   "cell_type": "code",
   "execution_count": null,
   "id": "standard-meditation",
   "metadata": {},
   "outputs": [],
   "source": [
    "max_div_seq(116, 1)"
   ]
  }
 ],
 "metadata": {},
 "nbformat": 4,
 "nbformat_minor": 5
}
