{
 "cells": [
  {
   "cell_type": "code",
   "execution_count": null,
   "id": "literary-frederick",
   "metadata": {},
   "outputs": [],
   "source": [
    "def max_even_seq(n):\n",
    "    pass #replace with your implementation\n",
    "    fcnt = 0\n",
    "    cnt = 0\n",
    "    while n>0:\n",
    "        le = n%10\n",
    "        if(cnt>fcnt):\n",
    "            fcnt=cnt\n",
    "        if(le%2 == 0):\n",
    "            cnt+=1\n",
    "        else:\n",
    "            cnt = 0\n",
    "        n=n//10\n",
    "    return fcnt\n",
    "\n",
    "\n",
    "\n",
    "\n"
   ]
  },
  {
   "cell_type": "code",
   "execution_count": null,
   "id": "facial-control",
   "metadata": {},
   "outputs": [],
   "source": [
    "max_div_seq(116, 1)"
   ]
  }
 ],
 "metadata": {},
 "nbformat": 4,
 "nbformat_minor": 5
}
