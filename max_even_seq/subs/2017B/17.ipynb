{
 "cells": [
  {
   "cell_type": "code",
   "execution_count": null,
   "id": "crude-killing",
   "metadata": {},
   "outputs": [],
   "source": [
    "def max_even_seq(n):\n",
    "    str_num = input(\"Please enter a positive integer:\") #str type\n",
    "    num = int(str_num)\n",
    "    length = (len(str_num)) #int type\n",
    "    list_odds = []\n",
    "\n",
    "    list_odds_index = []\n",
    "    rev_odds_index = list_odds_index.reverse()\n",
    "\n",
    "    j = 0\n",
    "    k = 0\n",
    "    for i in range(0 , length):\n",
    "        index = length - i\n",
    "        if num%2 != 0:\n",
    "            j = j+1\n",
    "            num = num//10\n",
    "            if num == 0:\n",
    "                list_odds.insert(k , j)\n",
    "                k = k+1\n",
    "                list_odds_index.insert(k , index-1)\n",
    "        elif num != 0 and num%2 == 0:\n",
    "            list_odds.insert(k , j)\n",
    "            k = k+1\n",
    "            list_odds_index.insert(k , index)\n",
    "            j = 0\n",
    "            num = num//10\n",
    "\n",
    "    list_odds.reverse()\n",
    "    list_odds_index.reverse()\n",
    "\n",
    "\n",
    "    length = max(list_odds)\n",
    "    start = list_odds_index[list_odds.index(length)]\n",
    "    seq = str_num[start:start + length]\n",
    "                                \n",
    "    if length > 0:\n",
    "        print(\"The maximal length is\" , length)\n",
    "        print(\"Sequence starts at\" , start)\n",
    "        print(\"Sequence is\" , seq)   \n",
    "\n",
    "\n"
   ]
  },
  {
   "cell_type": "code",
   "execution_count": null,
   "id": "regional-broadcast",
   "metadata": {},
   "outputs": [],
   "source": [
    "max_div_seq(116, 1)"
   ]
  }
 ],
 "metadata": {},
 "nbformat": 4,
 "nbformat_minor": 5
}
