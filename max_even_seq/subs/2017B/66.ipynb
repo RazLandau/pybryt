{
 "cells": [
  {
   "cell_type": "code",
   "execution_count": null,
   "id": "occupied-positive",
   "metadata": {},
   "outputs": [],
   "source": [
    "def max_even_seq(n):\n",
    "    max_even=0\n",
    "    counting_even=0\n",
    "    if n==0:\n",
    "        max_even=1\n",
    "    while n>0:\n",
    "        if (n%10)%2==0:\n",
    "            counting_even += 1\n",
    "        else:\n",
    "            counting_even=0\n",
    "        if counting_even>max_even:\n",
    "            max_even=counting_even\n",
    "        n=n//10\n",
    "    return max_even\n",
    "\n",
    "\n",
    "\n",
    "\n",
    "\n"
   ]
  },
  {
   "cell_type": "code",
   "execution_count": null,
   "id": "personal-plant",
   "metadata": {},
   "outputs": [],
   "source": [
    "max_div_seq(116, 1)"
   ]
  }
 ],
 "metadata": {},
 "nbformat": 4,
 "nbformat_minor": 5
}
