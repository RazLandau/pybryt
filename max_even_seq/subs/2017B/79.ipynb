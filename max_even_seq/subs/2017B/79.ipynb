{
 "cells": [
  {
   "cell_type": "code",
   "execution_count": null,
   "id": "stainless-expert",
   "metadata": {},
   "outputs": [],
   "source": [
    "def max_even_seq(n):\n",
    "\tcurr_cnt = 0\n",
    "\tlast_max = 0\n",
    "\tif n == 0:\n",
    "\t\treturn 1\n",
    "\twhile (n > 0):\n",
    "\t\tdigit = n % 10\n",
    "\t\tif (digit % 2 == 0):\n",
    "\t\t\tcurr_cnt += 1\n",
    "\t\telse:\n",
    "\t\t\tif (curr_cnt > last_max):\n",
    "\t\t\t\tlast_max = curr_cnt\n",
    "\t\t\tcurr_cnt = 0\n",
    "\t\tn = n // 10\n",
    "\treturn max (curr_cnt,last_max)\n",
    "\n"
   ]
  },
  {
   "cell_type": "code",
   "execution_count": null,
   "id": "charged-addiction",
   "metadata": {},
   "outputs": [],
   "source": [
    "max_div_seq(116, 1)"
   ]
  }
 ],
 "metadata": {},
 "nbformat": 4,
 "nbformat_minor": 5
}
