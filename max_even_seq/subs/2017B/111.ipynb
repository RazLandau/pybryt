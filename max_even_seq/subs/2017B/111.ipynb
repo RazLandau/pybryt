{
 "cells": [
  {
   "cell_type": "code",
   "execution_count": null,
   "id": "coordinated-amplifier",
   "metadata": {},
   "outputs": [],
   "source": [
    "def max_even_seq(n):\n",
    "    count = 0\n",
    "    max_count = 0\n",
    "\n",
    "    for i in str(n):\n",
    "        if int(i) % 2 == 0:\n",
    "            count += 1\n",
    "        else:\n",
    "            max_count = count\n",
    "            count = 0\n",
    "\n",
    "    return max(max_count, count)\n",
    "\n",
    "\n"
   ]
  },
  {
   "cell_type": "code",
   "execution_count": null,
   "id": "subjective-treasurer",
   "metadata": {},
   "outputs": [],
   "source": [
    "max_div_seq(116, 1)"
   ]
  }
 ],
 "metadata": {},
 "nbformat": 4,
 "nbformat_minor": 5
}
