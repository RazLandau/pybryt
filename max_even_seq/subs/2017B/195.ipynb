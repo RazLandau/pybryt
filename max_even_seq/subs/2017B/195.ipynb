{
 "cells": [
  {
   "cell_type": "code",
   "execution_count": null,
   "id": "level-choir",
   "metadata": {},
   "outputs": [],
   "source": [
    "def max_even_seq(n):\n",
    "    seq = 0\n",
    "    maxi = 0\n",
    "    for i in str(n):\n",
    "        if int(i)%2 == 0:\n",
    "            seq += 1\n",
    "            if seq > maxi:\n",
    "                maxi = seq\n",
    "        else:\n",
    "            seq = 0\n",
    "    return maxi\n",
    "    \n",
    "\n",
    "\n",
    "\n",
    "\n",
    "\n"
   ]
  },
  {
   "cell_type": "code",
   "execution_count": null,
   "id": "front-apple",
   "metadata": {},
   "outputs": [],
   "source": [
    "max_div_seq(116, 1)"
   ]
  }
 ],
 "metadata": {},
 "nbformat": 4,
 "nbformat_minor": 5
}
