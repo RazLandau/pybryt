{
 "cells": [
  {
   "cell_type": "code",
   "execution_count": null,
   "id": "after-straight",
   "metadata": {},
   "outputs": [],
   "source": [
    "def max_even_seq(n):\n",
    "    counter = 0\n",
    "    maxi = 0\n",
    "    for i in str(n):\n",
    "        if int(i)%2 == 0:\n",
    "            counter = counter + 1\n",
    "            if maxi < counter:\n",
    "                maxi = counter\n",
    "        else:\n",
    "            counter = 0\n",
    "    return(maxi)\n",
    "\n"
   ]
  },
  {
   "cell_type": "code",
   "execution_count": null,
   "id": "bigger-finland",
   "metadata": {},
   "outputs": [],
   "source": [
    "max_div_seq(116, 1)"
   ]
  }
 ],
 "metadata": {},
 "nbformat": 4,
 "nbformat_minor": 5
}
