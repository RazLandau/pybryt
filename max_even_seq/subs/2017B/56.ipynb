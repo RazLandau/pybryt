{
 "cells": [
  {
   "cell_type": "code",
   "execution_count": null,
   "id": "auburn-sheriff",
   "metadata": {},
   "outputs": [],
   "source": [
    "def max_even_seq(n):\n",
    "    maxseq = 0\n",
    "    length = 0\n",
    "    for digit in str(n):\n",
    "        if (int(digit)%2 == 0):\n",
    "            length += 1\n",
    "        else:\n",
    "            length = 0\n",
    "        if (length > maxseq):\n",
    "            maxseq = length\n",
    "    return maxseq\n",
    "\n",
    "\n",
    "\n",
    "\n"
   ]
  },
  {
   "cell_type": "code",
   "execution_count": null,
   "id": "indian-senate",
   "metadata": {},
   "outputs": [],
   "source": [
    "max_div_seq(116, 1)"
   ]
  }
 ],
 "metadata": {},
 "nbformat": 4,
 "nbformat_minor": 5
}
