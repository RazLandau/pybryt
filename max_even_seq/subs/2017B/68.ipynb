{
 "cells": [
  {
   "cell_type": "code",
   "execution_count": null,
   "id": "directed-adelaide",
   "metadata": {},
   "outputs": [],
   "source": [
    "def max_even_seq(n):\n",
    "    maxeven = 0\n",
    "    current = 0\n",
    "    for i in [int(x) for x in str(n)]:\n",
    "        if i%2==0:\n",
    "            current += 1\n",
    "        else:\n",
    "            current = 0\n",
    "        if maxeven < current:\n",
    "                maxeven = current\n",
    "    return maxeven\n",
    "\n",
    "\n"
   ]
  },
  {
   "cell_type": "code",
   "execution_count": null,
   "id": "combined-surgeon",
   "metadata": {},
   "outputs": [],
   "source": [
    "max_div_seq(116, 1)"
   ]
  }
 ],
 "metadata": {},
 "nbformat": 4,
 "nbformat_minor": 5
}
