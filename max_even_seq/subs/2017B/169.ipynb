{
 "cells": [
  {
   "cell_type": "code",
   "execution_count": null,
   "id": "adequate-original",
   "metadata": {},
   "outputs": [],
   "source": [
    "def max_even_seq(n):\n",
    "    pass #replace with your implementation\n",
    "    if n==0:\n",
    "        return 1\n",
    "    crntCnt = 0\n",
    "    maxCnt = 0\n",
    "    while n!=0:\n",
    "        if int(n) % 2 == 0:\n",
    "            crntCnt += 1\n",
    "        else:\n",
    "            crntCnt = 0\n",
    "        if crntCnt > maxCnt:\n",
    "            maxCnt = crntCnt\n",
    "        n //= 10\n",
    "    return maxCnt\n",
    "\n"
   ]
  },
  {
   "cell_type": "code",
   "execution_count": null,
   "id": "informed-revelation",
   "metadata": {},
   "outputs": [],
   "source": [
    "max_div_seq(116, 1)"
   ]
  }
 ],
 "metadata": {},
 "nbformat": 4,
 "nbformat_minor": 5
}
