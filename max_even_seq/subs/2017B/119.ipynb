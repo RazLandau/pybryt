{
 "cells": [
  {
   "cell_type": "code",
   "execution_count": null,
   "id": "grand-phrase",
   "metadata": {},
   "outputs": [],
   "source": [
    "def max_even_seq(n):\n",
    "    max_len = 0\n",
    "    while n > 0:\n",
    "        if n%2 == 0:\n",
    "            cnt += 1\n",
    "            n = n//10\n",
    "            if cnt>max_len:\n",
    "                max_len=cnt\n",
    "        else:\n",
    "            cnt = 0\n",
    "            n = n//10\n",
    "    return(max_len)\n",
    "\n",
    "\n",
    "\n",
    "\n"
   ]
  },
  {
   "cell_type": "code",
   "execution_count": null,
   "id": "filled-radical",
   "metadata": {},
   "outputs": [],
   "source": [
    "max_div_seq(116, 1)"
   ]
  }
 ],
 "metadata": {},
 "nbformat": 4,
 "nbformat_minor": 5
}
