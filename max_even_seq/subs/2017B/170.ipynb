{
 "cells": [
  {
   "cell_type": "code",
   "execution_count": null,
   "id": "martial-raise",
   "metadata": {},
   "outputs": [],
   "source": [
    "def max_even_seq(n):\n",
    "    pass #replace with your implementation\n",
    "    max1 = 0\n",
    "    count = 0\n",
    "    for digit in str(n):\n",
    "        \n",
    "        if int(digit) % 2 == 0:\n",
    "            count += 1\n",
    "        else:\n",
    "            count = 0\n",
    "        if count > max1:\n",
    "            max1 = count\n",
    "         \n",
    "    return max1\n",
    "\n",
    "\n",
    "\n"
   ]
  },
  {
   "cell_type": "code",
   "execution_count": null,
   "id": "turkish-northeast",
   "metadata": {},
   "outputs": [],
   "source": [
    "max_div_seq(116, 1)"
   ]
  }
 ],
 "metadata": {},
 "nbformat": 4,
 "nbformat_minor": 5
}
