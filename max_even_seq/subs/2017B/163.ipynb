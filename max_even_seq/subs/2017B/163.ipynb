{
 "cells": [
  {
   "cell_type": "code",
   "execution_count": null,
   "id": "answering-coast",
   "metadata": {},
   "outputs": [],
   "source": [
    "def max_even_seq(n):\n",
    "    count=0\n",
    "    max_count=0\n",
    "    num=str(n)\n",
    "    for c in num:\n",
    "        if int(c)%2==0:\n",
    "            count+=1\n",
    "        else:\n",
    "            if(count>=max_count):\n",
    "                max_count=count\n",
    "            count=0\n",
    "    print (max_count)          \n",
    "             \n",
    "\n",
    "\n",
    "\n",
    "    \n"
   ]
  },
  {
   "cell_type": "code",
   "execution_count": null,
   "id": "mental-steal",
   "metadata": {},
   "outputs": [],
   "source": [
    "max_div_seq(116, 1)"
   ]
  }
 ],
 "metadata": {},
 "nbformat": 4,
 "nbformat_minor": 5
}
