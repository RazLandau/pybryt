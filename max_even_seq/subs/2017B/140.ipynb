{
 "cells": [
  {
   "cell_type": "code",
   "execution_count": null,
   "id": "occupational-wisdom",
   "metadata": {},
   "outputs": [],
   "source": [
    "def max_even_seq(n):\n",
    "    cnt = 0\n",
    "    lst = []\n",
    "    for i in str(n):\n",
    "        if int(i)%2 == 0:\n",
    "            cnt = cnt + 1\n",
    "            lst.append(cnt)\n",
    "        else:\n",
    "            cnt = cnt*0\n",
    "            lst.append(cnt)\n",
    "\n",
    "    return max(lst)\n",
    "\n",
    "\n"
   ]
  },
  {
   "cell_type": "code",
   "execution_count": null,
   "id": "intensive-result",
   "metadata": {},
   "outputs": [],
   "source": [
    "max_div_seq(116, 1)"
   ]
  }
 ],
 "metadata": {},
 "nbformat": 4,
 "nbformat_minor": 5
}
