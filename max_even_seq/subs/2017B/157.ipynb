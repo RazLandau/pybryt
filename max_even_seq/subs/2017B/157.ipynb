{
 "cells": [
  {
   "cell_type": "code",
   "execution_count": null,
   "id": "criminal-worker",
   "metadata": {},
   "outputs": [],
   "source": [
    "def max_even_seq(n):\n",
    "    str_n = str(n)\n",
    "    cur_seq = 0\n",
    "    max_seq = 0\n",
    "    for i in str_n:\n",
    "        if (int(i) % 2) == 0:\n",
    "            cur_seq += 1\n",
    "            if cur_seq > max_seq:\n",
    "                max_seq = cur_seq\n",
    "        elif int(i) % 2 != 0:\n",
    "            cur_seq = 0\n",
    "    return max_seq\n",
    "\n",
    "\n",
    "\n",
    "\n"
   ]
  },
  {
   "cell_type": "code",
   "execution_count": null,
   "id": "exotic-nurse",
   "metadata": {},
   "outputs": [],
   "source": [
    "max_div_seq(116, 1)"
   ]
  }
 ],
 "metadata": {},
 "nbformat": 4,
 "nbformat_minor": 5
}
