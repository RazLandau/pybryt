{
 "cells": [
  {
   "cell_type": "code",
   "execution_count": null,
   "id": "related-passenger",
   "metadata": {},
   "outputs": [],
   "source": [
    "def max_even_seq(n):\n",
    "    # Vars\n",
    "    c = 0;\n",
    "    cMax = c;\n",
    "    \n",
    "    # Positify\n",
    "    n = str(abs(n))\n",
    "    # Going over the digits\n",
    "    for char in n :\n",
    "        # If this is an even digit\n",
    "        if int(char) % 2 == 0:\n",
    "            # Raise the counter\n",
    "            c = c + 1;\n",
    "        # If this is an odd digit\n",
    "        else:\n",
    "            # Reset the counter\n",
    "            c = 0;\n",
    "        # If current count is higher than max count\n",
    "        if c>cMax:\n",
    "            # Save current count value\n",
    "            cMax = c;\n",
    "    # Print count\n",
    "    print (cMax);\n",
    "        \n",
    "\n"
   ]
  },
  {
   "cell_type": "code",
   "execution_count": null,
   "id": "adapted-belly",
   "metadata": {},
   "outputs": [],
   "source": [
    "max_div_seq(116, 1)"
   ]
  }
 ],
 "metadata": {},
 "nbformat": 4,
 "nbformat_minor": 5
}
