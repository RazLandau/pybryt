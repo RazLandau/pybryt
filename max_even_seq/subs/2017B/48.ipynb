{
 "cells": [
  {
   "cell_type": "code",
   "execution_count": null,
   "id": "potential-butterfly",
   "metadata": {},
   "outputs": [],
   "source": [
    "def max_even_seq(n):\n",
    "    sn=str(n)\n",
    "\tlst=[]\n",
    "\tl=[]\n",
    "\tfor i in range(len(sn)):\n",
    "\t\tlst.append(sn[i])\n",
    "\tfor j in range(len(lst)):\n",
    "\t\tif eval(lst[j])%2==0:\n",
    "\t\t\tl.append(eval(lst[j]))\n",
    "\t\telse:\n",
    "\t\t\tl.append(\"e\")\n",
    "\treturn l\n",
    "\n",
    "\n",
    "\n",
    "    \n",
    "\n",
    "\n",
    "\n",
    "\n"
   ]
  },
  {
   "cell_type": "code",
   "execution_count": null,
   "id": "velvet-question",
   "metadata": {},
   "outputs": [],
   "source": [
    "max_div_seq(116, 1)"
   ]
  }
 ],
 "metadata": {},
 "nbformat": 4,
 "nbformat_minor": 5
}
