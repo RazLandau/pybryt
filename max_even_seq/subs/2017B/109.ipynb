{
 "cells": [
  {
   "cell_type": "code",
   "execution_count": null,
   "id": "supported-relaxation",
   "metadata": {},
   "outputs": [],
   "source": [
    "def max_even_seq(n):\n",
    "    cnt = 0\n",
    "    max_cnt = 0\n",
    "    num = str(n)\n",
    "    for i in num:\n",
    "        if int(i) % 2 == 0:\n",
    "            cnt += 1\n",
    "            if cnt > max_cnt:\n",
    "                max_cnt = cnt\n",
    "        else:\n",
    "            cnt = 0\n",
    "            \n",
    "    return max_cnt\n",
    "\n",
    "\n",
    "\n",
    "\n"
   ]
  },
  {
   "cell_type": "code",
   "execution_count": null,
   "id": "imposed-african",
   "metadata": {},
   "outputs": [],
   "source": [
    "max_div_seq(116, 1)"
   ]
  }
 ],
 "metadata": {},
 "nbformat": 4,
 "nbformat_minor": 5
}
