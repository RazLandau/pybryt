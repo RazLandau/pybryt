{
 "cells": [
  {
   "cell_type": "code",
   "execution_count": null,
   "id": "certain-baking",
   "metadata": {},
   "outputs": [],
   "source": [
    "def max_even_seq(n):\n",
    "    num_str = str(n)\n",
    "    cnt = m = 0 \n",
    "    for i in num_str:\n",
    "        num1 = int(i) \n",
    "       \n",
    "        if num1 % 2 == 0:\n",
    "            cnt += 1  \n",
    "\n",
    "        else:\n",
    "            m = max(m, cnt) # m receives the longest sequence so far \n",
    "            cnt = 0\n",
    "    return max(m, cnt) \n",
    "        \n",
    "        \n",
    "\n",
    "\n",
    "\n"
   ]
  },
  {
   "cell_type": "code",
   "execution_count": null,
   "id": "driven-genesis",
   "metadata": {},
   "outputs": [],
   "source": [
    "max_div_seq(116, 1)"
   ]
  }
 ],
 "metadata": {},
 "nbformat": 4,
 "nbformat_minor": 5
}
