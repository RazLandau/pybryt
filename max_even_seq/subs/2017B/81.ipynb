{
 "cells": [
  {
   "cell_type": "code",
   "execution_count": null,
   "id": "vocal-frame",
   "metadata": {},
   "outputs": [],
   "source": [
    "def max_even_seq(n):\n",
    "    maxseq=0\n",
    "    if n==0:\n",
    "        maxseq=1\n",
    "    else:\n",
    "        while n>0: \n",
    "            cnt=0 # temporary counter for number of even consecutive digits\n",
    "            while (n%10)%2==0 and n>0: # increase count as long as the the last digit is even\n",
    "                cnt=cnt+1\n",
    "                n=n//10 # remove last digit\n",
    "            if cnt > maxseq: # check if the temporary even number sequence is longer than the current max\n",
    "                maxseq=cnt \n",
    "            n=n//10\n",
    "    return maxseq\n",
    "\n",
    "\n",
    "\n"
   ]
  },
  {
   "cell_type": "code",
   "execution_count": null,
   "id": "rotary-antibody",
   "metadata": {},
   "outputs": [],
   "source": [
    "max_div_seq(116, 1)"
   ]
  }
 ],
 "metadata": {},
 "nbformat": 4,
 "nbformat_minor": 5
}
