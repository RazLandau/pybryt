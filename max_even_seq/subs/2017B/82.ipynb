{
 "cells": [
  {
   "cell_type": "code",
   "execution_count": null,
   "id": "bridal-baseball",
   "metadata": {},
   "outputs": [],
   "source": [
    "def max_even_seq(n):\n",
    "    # Check if int is given\n",
    "    if type(n) == int:\n",
    "        cnt_max = 0\n",
    "        data_list = []\n",
    "        \n",
    "        if n == 0:\n",
    "            return 1\n",
    "        else:\n",
    "            # Convert n to string\n",
    "            num = str(n)\n",
    "            \n",
    "            for i in num:\n",
    "                # Check if even\n",
    "                if int(i)%2 == 0:\n",
    "                    cnt_max += 1\n",
    "                    \n",
    "                # Check if cnt_max != 0 (i is odd)\n",
    "                elif cnt_max:\n",
    "                    data_list.append(cnt_max)\n",
    "                    # Restart counter\n",
    "                    cnt_max = 0\n",
    "                    \n",
    "            data_list.append(cnt_max)\n",
    "            return max(data_list)\n",
    "\n",
    "\n"
   ]
  },
  {
   "cell_type": "code",
   "execution_count": null,
   "id": "herbal-malpractice",
   "metadata": {},
   "outputs": [],
   "source": [
    "max_div_seq(116, 1)"
   ]
  }
 ],
 "metadata": {},
 "nbformat": 4,
 "nbformat_minor": 5
}
