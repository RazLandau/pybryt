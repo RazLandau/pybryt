{
 "cells": [
  {
   "cell_type": "code",
   "execution_count": null,
   "id": "bizarre-maintenance",
   "metadata": {},
   "outputs": [],
   "source": [
    "def max_even_seq(n):\n",
    "    # Cast n to a string, then replace each odd number with a space character using the str.translate method\n",
    "    oddless_n = str(n).translate(str.maketrans('13579', ' ' * 5))\n",
    "    # Split the now oddless n string by space characters into a list\n",
    "    even_sequences = oddless_n.split()\n",
    "    # If the list is empty, n had no even sequences\n",
    "    if not even_sequences:\n",
    "        return 0\n",
    "    # Create a list of even sequence lengths using a list comprehension\n",
    "    even_sequence_lens = [len(even_sequence) for even_sequence in even_sequences]\n",
    "    # Return the largest sequence length in the length list\n",
    "    return max(even_sequence_lens)\n",
    "\n",
    "\n",
    "\n",
    "\n"
   ]
  },
  {
   "cell_type": "code",
   "execution_count": null,
   "id": "valued-coral",
   "metadata": {},
   "outputs": [],
   "source": [
    "max_div_seq(116, 1)"
   ]
  }
 ],
 "metadata": {},
 "nbformat": 4,
 "nbformat_minor": 5
}
