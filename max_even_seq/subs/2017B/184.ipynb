{
 "cells": [
  {
   "cell_type": "code",
   "execution_count": null,
   "id": "based-blanket",
   "metadata": {},
   "outputs": [],
   "source": [
    "def max_even_seq(n):\n",
    "    sn = str(n)\n",
    "    max_seq = 0\n",
    "    for index in range(len(sn)):\n",
    "        seq_cnt = 0\n",
    "        seq_in = index\n",
    "        endSeq = False\n",
    "        while seq_in in range(index, len(sn)) and not endSeq:\n",
    "            if int(sn[seq_in]) % 2 == 0:\n",
    "                seq_cnt += 1\n",
    "                seq_in += 1\n",
    "            else:\n",
    "                endSeq = True\n",
    "                \n",
    "        if seq_cnt > max_seq:\n",
    "            max_seq = seq_cnt\n",
    "    return max_seq\n",
    "\n",
    "\n",
    "\n",
    "\n",
    "\n"
   ]
  },
  {
   "cell_type": "code",
   "execution_count": null,
   "id": "purple-outside",
   "metadata": {},
   "outputs": [],
   "source": [
    "max_div_seq(116, 1)"
   ]
  }
 ],
 "metadata": {},
 "nbformat": 4,
 "nbformat_minor": 5
}
