{
 "cells": [
  {
   "cell_type": "code",
   "execution_count": null,
   "id": "efficient-contribution",
   "metadata": {},
   "outputs": [],
   "source": [
    "def max_even_seq(n):\n",
    "\tmax = 0\n",
    "\tcurrent_sequance = 0\n",
    "\tfor digit in str(n):\n",
    "\t\tif int(digit)%2 == 0:\n",
    "\t\t\tcurrent_sequance += 1\n",
    "\t\t\tif current_sequance > max:\n",
    "\t\t\t\tmax = current_sequance\n",
    "\t\telse:\n",
    "\t\t\tcurrent_sequance = 0\n",
    "\treturn max\n",
    "\n"
   ]
  },
  {
   "cell_type": "code",
   "execution_count": null,
   "id": "sensitive-legend",
   "metadata": {},
   "outputs": [],
   "source": [
    "max_div_seq(116, 1)"
   ]
  }
 ],
 "metadata": {},
 "nbformat": 4,
 "nbformat_minor": 5
}
