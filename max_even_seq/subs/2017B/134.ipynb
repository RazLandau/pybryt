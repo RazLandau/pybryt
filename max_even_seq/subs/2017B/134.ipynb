{
 "cells": [
  {
   "cell_type": "code",
   "execution_count": null,
   "id": "noble-armenia",
   "metadata": {},
   "outputs": [],
   "source": [
    "def max_even_seq(n):\n",
    "    max_even = 0\n",
    "    temp=0\n",
    "    while n>0:\n",
    "        if(n%10)%2!=0:\n",
    "            temp=0\n",
    "        else:\n",
    "            temp = temp+1\n",
    "            if temp>max_even:\n",
    "                max_even=temp\n",
    "        n=n//10\n",
    "    return(max_even)\n"
   ]
  },
  {
   "cell_type": "code",
   "execution_count": null,
   "id": "bibliographic-blink",
   "metadata": {},
   "outputs": [],
   "source": [
    "max_div_seq(116, 1)"
   ]
  }
 ],
 "metadata": {},
 "nbformat": 4,
 "nbformat_minor": 5
}
