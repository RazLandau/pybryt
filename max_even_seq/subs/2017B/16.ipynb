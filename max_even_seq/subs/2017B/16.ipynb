{
 "cells": [
  {
   "cell_type": "code",
   "execution_count": null,
   "id": "promising-parks",
   "metadata": {},
   "outputs": [],
   "source": [
    "def max_even_seq(n):\n",
    "    if n==0 :\n",
    "        return (1)\n",
    "    else:\n",
    "        b = n%10\n",
    "        c = 0\n",
    "        a = 0\n",
    "        while n!=0:\n",
    "            if b%2==0 :\n",
    "                c=c+1\n",
    "                n=n//10\n",
    "                b=n%10\n",
    "                if c>a :\n",
    "                    a=c\n",
    "                else :\n",
    "                    pass\n",
    "            else :\n",
    "                c = 0\n",
    "                n=n//10\n",
    "                b=n%10\n",
    "        return (a)\n",
    "\n",
    "\n"
   ]
  },
  {
   "cell_type": "code",
   "execution_count": null,
   "id": "interior-spectacular",
   "metadata": {},
   "outputs": [],
   "source": [
    "max_div_seq(116, 1)"
   ]
  }
 ],
 "metadata": {},
 "nbformat": 4,
 "nbformat_minor": 5
}
