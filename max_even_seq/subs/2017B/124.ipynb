{
 "cells": [
  {
   "cell_type": "code",
   "execution_count": null,
   "id": "asian-briefs",
   "metadata": {},
   "outputs": [],
   "source": [
    "def max_even_seq(n):\n",
    "    cnt=0\n",
    "    mid_cnt=0   \n",
    "    for i in str(n):\n",
    "        if (n%10)%2==0:\n",
    "            mid_cnt+=1\n",
    "            if mid_cnt>cnt:\n",
    "                cnt=mid_cnt\n",
    "            n=n//10\n",
    "        else:\n",
    "            mid_cnt=0\n",
    "            n=n//10\n",
    "    return(cnt)\n",
    "\n",
    "\n",
    "\n",
    "\n",
    "\n"
   ]
  },
  {
   "cell_type": "code",
   "execution_count": null,
   "id": "engaging-mistake",
   "metadata": {},
   "outputs": [],
   "source": [
    "max_div_seq(116, 1)"
   ]
  }
 ],
 "metadata": {},
 "nbformat": 4,
 "nbformat_minor": 5
}
