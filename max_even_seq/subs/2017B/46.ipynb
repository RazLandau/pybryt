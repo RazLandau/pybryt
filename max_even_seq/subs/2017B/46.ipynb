{
 "cells": [
  {
   "cell_type": "code",
   "execution_count": null,
   "id": "central-privilege",
   "metadata": {},
   "outputs": [],
   "source": [
    "def max_even_seq(n):\n",
    "    cnt=0\n",
    "    lst=[]\n",
    "    strn=str(n)\n",
    "    for x in strn:\n",
    "        if int(x)%2==1:\n",
    "            lst.insert(0,cnt)\n",
    "            cnt=0\n",
    "        else:\n",
    "            cnt=cnt+1\n",
    "            lst.insert(0,cnt)\n",
    "    print(max(lst))\n",
    "\n",
    "        \n",
    "        \n",
    "\n",
    "\n"
   ]
  },
  {
   "cell_type": "code",
   "execution_count": null,
   "id": "virgin-discovery",
   "metadata": {},
   "outputs": [],
   "source": [
    "max_div_seq(116, 1)"
   ]
  }
 ],
 "metadata": {},
 "nbformat": 4,
 "nbformat_minor": 5
}
