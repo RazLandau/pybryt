{
 "cells": [
  {
   "cell_type": "code",
   "execution_count": null,
   "id": "intermediate-visiting",
   "metadata": {},
   "outputs": [],
   "source": [
    "def max_even_seq(n):\n",
    "    counter=0\n",
    "    max_counter=0\n",
    "    while n!=0:\n",
    "        if (n%10)%2==0:\n",
    "        \n",
    "            counter=counter+1\n",
    "            if max_counter<counter:\n",
    "                max_counter=counter     \n",
    "        else:\n",
    "            counter=0\n",
    "\n",
    "        n=n//10\n",
    "                  \n",
    "\n",
    "    return max_counter\n",
    "\n",
    "\n",
    "\n",
    "\n",
    "\n"
   ]
  },
  {
   "cell_type": "code",
   "execution_count": null,
   "id": "norwegian-thinking",
   "metadata": {},
   "outputs": [],
   "source": [
    "max_div_seq(116, 1)"
   ]
  }
 ],
 "metadata": {},
 "nbformat": 4,
 "nbformat_minor": 5
}
