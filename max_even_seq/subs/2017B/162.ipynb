{
 "cells": [
  {
   "cell_type": "code",
   "execution_count": null,
   "id": "center-coach",
   "metadata": {},
   "outputs": [],
   "source": [
    "def max_even_seq(n):\n",
    "    max_seq=0\n",
    "    countCurrSeq=0\n",
    "    while n>0:\n",
    "        if (n%10)%2==0:\n",
    "            countCurrSeq+=1\n",
    "            if countCurrSeq>max_seq:\n",
    "                max_seq=countCurrSeq\n",
    "        else:\n",
    "            countCurrSeq=0\n",
    "        n //= 10\n",
    "    return max_seq\n",
    "\n",
    "\n"
   ]
  },
  {
   "cell_type": "code",
   "execution_count": null,
   "id": "severe-celebrity",
   "metadata": {},
   "outputs": [],
   "source": [
    "max_div_seq(116, 1)"
   ]
  }
 ],
 "metadata": {},
 "nbformat": 4,
 "nbformat_minor": 5
}
