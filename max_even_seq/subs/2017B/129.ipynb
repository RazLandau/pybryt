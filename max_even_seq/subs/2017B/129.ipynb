{
 "cells": [
  {
   "cell_type": "code",
   "execution_count": null,
   "id": "dressed-superior",
   "metadata": {},
   "outputs": [],
   "source": [
    "def max_even_seq(n):\n",
    "    if n > 0:\n",
    "        even_nums = list() \n",
    "        counter = 0\n",
    "        num = 0\n",
    "        for i in str(n):\n",
    "            if int(i)%2 == 0:\n",
    "                num = counter + 1\n",
    "                counter += 1\n",
    "            else: \n",
    "                even_nums.append(num)\n",
    "                counter = 0\n",
    "        even_nums.append(num)\n",
    "        return (max(even_nums))\n",
    "    else:\n",
    "        print (\"Invalid number.\")\n",
    "        \n"
   ]
  },
  {
   "cell_type": "code",
   "execution_count": null,
   "id": "square-solomon",
   "metadata": {},
   "outputs": [],
   "source": [
    "max_div_seq(116, 1)"
   ]
  }
 ],
 "metadata": {},
 "nbformat": 4,
 "nbformat_minor": 5
}
