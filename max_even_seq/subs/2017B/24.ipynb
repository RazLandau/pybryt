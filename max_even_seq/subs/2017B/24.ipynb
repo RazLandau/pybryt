{
 "cells": [
  {
   "cell_type": "code",
   "execution_count": null,
   "id": "unlikely-computer",
   "metadata": {},
   "outputs": [],
   "source": [
    "def max_even_seq(n):\n",
    "    if (type(n)!=int): return print(\"n must be integer\")\n",
    "    num = str(n)\n",
    "    count=0\n",
    "    max_even=0\n",
    "    for i in num:\n",
    "        if(int(i)%2==0):\n",
    "            count += 1 # i is even, count goes 1 up\n",
    "        else:\n",
    "            max_even = max(count,max_even) # max_even is not the max sequence\n",
    "            count = 0 #reset the count\n",
    "    max_even = max(count,max_even)\n",
    "    return max_even\n",
    "\n",
    "       \n",
    "\n"
   ]
  },
  {
   "cell_type": "code",
   "execution_count": null,
   "id": "veterinary-chambers",
   "metadata": {},
   "outputs": [],
   "source": [
    "max_div_seq(116, 1)"
   ]
  }
 ],
 "metadata": {},
 "nbformat": 4,
 "nbformat_minor": 5
}
