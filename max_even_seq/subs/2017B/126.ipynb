{
 "cells": [
  {
   "cell_type": "code",
   "execution_count": null,
   "id": "varying-screen",
   "metadata": {},
   "outputs": [],
   "source": [
    "def max_even_seq(n):\n",
    "    cnt = 0\n",
    "    cnt_max = 0\n",
    "    ns = str(n)\n",
    "    for i in ns:\n",
    "        if int(i)%2 == 0:\n",
    "            cnt = cnt + 1\n",
    "            if cnt > cnt_max:\n",
    "                cnt_max = cnt\n",
    "        else:\n",
    "            cnt = 0\n",
    "    return (cnt_max)\n",
    "\n"
   ]
  },
  {
   "cell_type": "code",
   "execution_count": null,
   "id": "absent-updating",
   "metadata": {},
   "outputs": [],
   "source": [
    "max_div_seq(116, 1)"
   ]
  }
 ],
 "metadata": {},
 "nbformat": 4,
 "nbformat_minor": 5
}
