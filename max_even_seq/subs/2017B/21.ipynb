{
 "cells": [
  {
   "cell_type": "code",
   "execution_count": null,
   "id": "fourth-england",
   "metadata": {},
   "outputs": [],
   "source": [
    "def max_even_seq(n):\n",
    "    tempEven = 0  # will be used to save the length new sequence while iterating\n",
    "    longstEven = 0  # the length longest even sequence untill now\n",
    "    for i in str(n):  # iterating (n) as a string\n",
    "        if int(i) % 2 == 0:  # checks if the cuurent number is even\n",
    "            tempEven += 1  # counts the lengh of the current seque\n",
    "        elif tempEven != 0:  # if the number is odd, and tempEven is not = 0, then tempEven = 0.\n",
    "            tempEven = 0\n",
    "        if tempEven > longstEven:  # if a longer sequence is found, it's length is saved\n",
    "            longstEven = tempEven\n",
    "    return longstEven\n",
    "\n",
    "\n"
   ]
  },
  {
   "cell_type": "code",
   "execution_count": null,
   "id": "figured-major",
   "metadata": {},
   "outputs": [],
   "source": [
    "max_div_seq(116, 1)"
   ]
  }
 ],
 "metadata": {},
 "nbformat": 4,
 "nbformat_minor": 5
}
