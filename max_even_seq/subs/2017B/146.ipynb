{
 "cells": [
  {
   "cell_type": "code",
   "execution_count": null,
   "id": "short-wyoming",
   "metadata": {},
   "outputs": [],
   "source": [
    "def max_even_seq(n):\n",
    "    count=0\n",
    "    ln=[]\n",
    "    for i in str(n):\n",
    "        if int(i)%2==0:\n",
    "            count+=1\n",
    "        else:\n",
    "            ln.append(count)\n",
    "            count=0\n",
    "    if (int(str(n)[-1]))%2==0:\n",
    "        ln.append(count)\n",
    "    return max(ln)\n",
    "        \n"
   ]
  },
  {
   "cell_type": "code",
   "execution_count": null,
   "id": "noticed-israeli",
   "metadata": {},
   "outputs": [],
   "source": [
    "max_div_seq(116, 1)"
   ]
  }
 ],
 "metadata": {},
 "nbformat": 4,
 "nbformat_minor": 5
}
