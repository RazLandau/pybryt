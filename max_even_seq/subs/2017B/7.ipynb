{
 "cells": [
  {
   "cell_type": "code",
   "execution_count": null,
   "id": "sonic-prison",
   "metadata": {},
   "outputs": [],
   "source": [
    "def max_even_seq(n):\n",
    "    str_num = input(\"Please enter a positive integer:\") #str type\n",
    "    num = int(str_num)\n",
    "    length = (len(str_num)) #int type\n",
    "    list_even = []\n",
    "\n",
    "    list_even_index = []\n",
    "    rev_even_index = list_even_index.reverse()\n",
    "    m = 0\n",
    "    n = 0\n",
    "    for i in range(0 , length):\n",
    "        index = length - i\n",
    "    if num%2 == 0:\n",
    "        m = m+1\n",
    "        num = num//10\n",
    "        if num != 0:\n",
    "            list_even.insert(n , m)\n",
    "            n = n+1\n",
    "            list_even_index.insert(n , index-1)\n",
    "    elif num != 0 and num%2 == 0:\n",
    "        list_even.insert(n , m)\n",
    "        n = n+1\n",
    "        list_even_index.insert(n , index)\n",
    "        m = 0\n",
    "        num = num//10\n",
    "\n",
    "        list_even.reverse()\n",
    "        list_even_index.reverse()\n",
    "\n",
    "        length = max(list_even)\n",
    "        start = list_even_index[list_even.index(length)]\n",
    "        seq = str_num[start:start + length]\n",
    "\n",
    "    if length > 0:\n",
    "        print(\"The maximal even length is\" , length)\n",
    "        print(\"Sequence starts at\" , start)\n",
    "        print(\"Sequence is\" , seq) \n",
    "\n"
   ]
  },
  {
   "cell_type": "code",
   "execution_count": null,
   "id": "incoming-hungary",
   "metadata": {},
   "outputs": [],
   "source": [
    "max_div_seq(116, 1)"
   ]
  }
 ],
 "metadata": {},
 "nbformat": 4,
 "nbformat_minor": 5
}
