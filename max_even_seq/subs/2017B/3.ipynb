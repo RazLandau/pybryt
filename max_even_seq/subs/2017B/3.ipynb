{
 "cells": [
  {
   "cell_type": "code",
   "execution_count": null,
   "id": "bizarre-colony",
   "metadata": {},
   "outputs": [],
   "source": [
    "def max_even_seq(n):\n",
    "    cnt=0\n",
    "    seq=0\n",
    "    for i in str(n):\n",
    "        if int(i)%2==0:\n",
    "            cnt=cnt+1\n",
    "            if seq<cnt:\n",
    "                seq=cnt\n",
    "        else:\n",
    "            cnt=0\n",
    "    return(seq)\n",
    "\n",
    "\n",
    "\n"
   ]
  },
  {
   "cell_type": "code",
   "execution_count": null,
   "id": "circular-venue",
   "metadata": {},
   "outputs": [],
   "source": [
    "max_div_seq(116, 1)"
   ]
  }
 ],
 "metadata": {},
 "nbformat": 4,
 "nbformat_minor": 5
}
