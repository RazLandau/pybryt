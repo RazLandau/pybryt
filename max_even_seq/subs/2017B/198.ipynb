{
 "cells": [
  {
   "cell_type": "code",
   "execution_count": null,
   "id": "employed-bangkok",
   "metadata": {},
   "outputs": [],
   "source": [
    "def max_even_seq(n):\n",
    "    \"\"\"\n",
    "    the function cauculate how many even\n",
    "    numbers in a row are in the number\n",
    "    gets the number n int to check the even numbers \n",
    "    \"\"\"\n",
    "    str_n = str(n)\n",
    "    cnt = 0\n",
    "    best_cnt = 0\n",
    "    for num in str_n:\n",
    "        #check if the number is even\n",
    "        if eval(num+\"%2==0\"):\n",
    "           cnt+=1\n",
    "           #check if its the best even numbers in a row\n",
    "           if cnt>best_cnt:\n",
    "               best_cnt = cnt\n",
    "        else:\n",
    "            cnt=0\n",
    "    return best_cnt\n",
    "\n",
    "\n",
    "\n",
    "\n"
   ]
  },
  {
   "cell_type": "code",
   "execution_count": null,
   "id": "dried-arkansas",
   "metadata": {},
   "outputs": [],
   "source": [
    "max_div_seq(116, 1)"
   ]
  }
 ],
 "metadata": {},
 "nbformat": 4,
 "nbformat_minor": 5
}
