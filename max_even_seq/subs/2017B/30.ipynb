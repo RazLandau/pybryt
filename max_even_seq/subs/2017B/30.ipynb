{
 "cells": [
  {
   "cell_type": "code",
   "execution_count": null,
   "id": "unavailable-astrology",
   "metadata": {},
   "outputs": [],
   "source": [
    "def max_even_seq(n):\n",
    "    nStr = str(n)\n",
    "    cnt = 0\n",
    "    maxEven = 0\n",
    "    for dig in nStr:\n",
    "        if int(dig)%2!=0:\n",
    "            cnt=0\n",
    "        else:\n",
    "            cnt += 1\n",
    "            maxEven = max(cnt, maxEven)\n",
    "    return (maxEven)\n",
    "\n",
    "\n",
    "\n",
    "\n"
   ]
  },
  {
   "cell_type": "code",
   "execution_count": null,
   "id": "recent-canvas",
   "metadata": {},
   "outputs": [],
   "source": [
    "max_div_seq(116, 1)"
   ]
  }
 ],
 "metadata": {},
 "nbformat": 4,
 "nbformat_minor": 5
}
