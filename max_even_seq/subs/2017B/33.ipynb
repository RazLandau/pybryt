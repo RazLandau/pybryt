{
 "cells": [
  {
   "cell_type": "code",
   "execution_count": null,
   "id": "strange-worcester",
   "metadata": {},
   "outputs": [],
   "source": [
    "def max_even_seq(n):\n",
    "    count = 0\n",
    "    res = 0\n",
    "    if n==0:\n",
    "        return('0')\n",
    "    else:\n",
    "        while n > 0:\n",
    "            num = n % 10\n",
    "            if num % 2 == 0:\n",
    "                count += 1\n",
    "            else:\n",
    "                count = 0\n",
    "            n = n//10\n",
    "            res = max(res,count)\n",
    "    return(res)\n",
    "\n",
    "\n",
    "\n",
    "\n"
   ]
  },
  {
   "cell_type": "code",
   "execution_count": null,
   "id": "nasty-generator",
   "metadata": {},
   "outputs": [],
   "source": [
    "max_div_seq(116, 1)"
   ]
  }
 ],
 "metadata": {},
 "nbformat": 4,
 "nbformat_minor": 5
}
