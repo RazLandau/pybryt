{
 "cells": [
  {
   "cell_type": "code",
   "execution_count": null,
   "id": "mysterious-lancaster",
   "metadata": {},
   "outputs": [],
   "source": [
    "def max_even_seq(n):\n",
    "    n = str(n)\n",
    "\n",
    "    lst = []\n",
    "    cnt = 0\n",
    "    maxc = 0\n",
    "    \n",
    "    for i in range(0,len(n)):\n",
    "        if int(n[i])%2 !=0:\n",
    "            cnt = 0\n",
    "        elif int(n[i])%2 ==0:\n",
    "            cnt += 1\n",
    "        if maxc < cnt:\n",
    "            maxc = cnt\n",
    "    return maxc\n",
    "\n",
    "\n",
    "\n",
    "\n"
   ]
  },
  {
   "cell_type": "code",
   "execution_count": null,
   "id": "incoming-permission",
   "metadata": {},
   "outputs": [],
   "source": [
    "max_div_seq(116, 1)"
   ]
  }
 ],
 "metadata": {},
 "nbformat": 4,
 "nbformat_minor": 5
}
