{
 "cells": [
  {
   "cell_type": "code",
   "execution_count": null,
   "id": "floral-longitude",
   "metadata": {},
   "outputs": [],
   "source": [
    "def max_even_seq(n):\n",
    "    # we're gonna cast n to string and replace every odd number with a space, this way every viable sequeance of even number\n",
    "    # will be seperated by at least space. we then split the string and return the max length\n",
    "    my_string = str(n)\n",
    "    for i in range(1,10,2):\n",
    "\t    my_string = my_string.replace(str(i), \" \")\n",
    "    if my_string == \" \"*len(str(n)):\n",
    "            return 0\n",
    "    return max([len(seq) for seq in my_string.split()])\n",
    "\n"
   ]
  },
  {
   "cell_type": "code",
   "execution_count": null,
   "id": "broken-scene",
   "metadata": {},
   "outputs": [],
   "source": [
    "max_div_seq(116, 1)"
   ]
  }
 ],
 "metadata": {},
 "nbformat": 4,
 "nbformat_minor": 5
}
