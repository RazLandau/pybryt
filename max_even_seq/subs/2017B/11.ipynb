{
 "cells": [
  {
   "cell_type": "code",
   "execution_count": null,
   "id": "recorded-auditor",
   "metadata": {},
   "outputs": [],
   "source": [
    "def max_even_seq(n):\n",
    "    count = 0\n",
    "    max_digit = 0\n",
    "    lst = [int(i) for i in str(n)]\n",
    "    # print(lst)\n",
    "    num = int(n) % 10\n",
    "    n = n // 10\n",
    "    while num != 0:\n",
    "        if num % 2 == 0:\n",
    "            count += 1\n",
    "        elif count > max_digit:\n",
    "            max_digit = count\n",
    "            count = 0\n",
    "        num = num % 10\n",
    "        n = n // 10\n",
    "    if count > max_digit:\n",
    "        max_digit = count\n",
    "    return max_digit\n",
    "\n",
    "\n"
   ]
  },
  {
   "cell_type": "code",
   "execution_count": null,
   "id": "caring-ridge",
   "metadata": {},
   "outputs": [],
   "source": [
    "max_div_seq(116, 1)"
   ]
  }
 ],
 "metadata": {},
 "nbformat": 4,
 "nbformat_minor": 5
}
