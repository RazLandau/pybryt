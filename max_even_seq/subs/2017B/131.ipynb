{
 "cells": [
  {
   "cell_type": "code",
   "execution_count": null,
   "id": "comfortable-cabinet",
   "metadata": {},
   "outputs": [],
   "source": [
    "def max_even_seq(n):\n",
    "    zugi=[\"0\",\"2\",\"4\",\"6\",\"8\"]\n",
    "    \n",
    "    count=0\n",
    "    rezef=[]\n",
    "    for i in str(n):\n",
    "        if i in zugi:\n",
    "            count+=1\n",
    "        else:\n",
    "            rezef.append(count)\n",
    "            count=0\n",
    "    return max(rezef)\n",
    "    \n",
    "\n",
    "\n"
   ]
  },
  {
   "cell_type": "code",
   "execution_count": null,
   "id": "military-research",
   "metadata": {},
   "outputs": [],
   "source": [
    "max_div_seq(116, 1)"
   ]
  }
 ],
 "metadata": {},
 "nbformat": 4,
 "nbformat_minor": 5
}
