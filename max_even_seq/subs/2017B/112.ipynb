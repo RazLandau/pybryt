{
 "cells": [
  {
   "cell_type": "code",
   "execution_count": null,
   "id": "speaking-madison",
   "metadata": {},
   "outputs": [],
   "source": [
    "def max_even_seq(n):\n",
    "    cnt = 0\n",
    "    seq = [0]\n",
    "    if n == 0:\n",
    "        return 1 # 0 has one sequence\n",
    "    while n>0:\n",
    "        if n%2 == 0:\n",
    "            cnt = cnt+1\n",
    "        else: # if even sequence finishes, record the counter and nullify\n",
    "            seq.append(cnt)\n",
    "            cnt = 0\n",
    "        n = n//10\n",
    "    if n ==0:\n",
    "        seq.append(cnt)\n",
    "    seq.sort() # to get the maximal element of the list, sort it and return the last one\n",
    "    return seq[-1]\n",
    "    \n",
    "\n",
    "\n",
    "\n",
    "\n",
    "\n"
   ]
  },
  {
   "cell_type": "code",
   "execution_count": null,
   "id": "assured-blake",
   "metadata": {},
   "outputs": [],
   "source": [
    "max_div_seq(116, 1)"
   ]
  }
 ],
 "metadata": {},
 "nbformat": 4,
 "nbformat_minor": 5
}
