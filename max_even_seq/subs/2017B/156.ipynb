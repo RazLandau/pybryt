{
 "cells": [
  {
   "cell_type": "code",
   "execution_count": null,
   "id": "communist-mayor",
   "metadata": {},
   "outputs": [],
   "source": [
    "def max_even_seq(n):\n",
    "    max1=0\n",
    "    count=0\n",
    "    num=n\n",
    "    flag=0\n",
    "    if num==0:\n",
    "        return 1\n",
    "    while num >0: \n",
    "        if num<10 and num%2==0:\n",
    "            return max(count+1, max1)\n",
    "            \n",
    "        if (num%10)%2==0: \n",
    "            count=count+1\n",
    "            flag=1\n",
    "        else:\n",
    "            if flag==1:\n",
    "                if count>max1:\n",
    "                    max1=count\n",
    "                count=0\n",
    "                flag=0\n",
    "        num=num//10\n",
    "    return max1\n",
    "\n",
    "\n",
    "\n",
    "\n",
    "\n"
   ]
  },
  {
   "cell_type": "code",
   "execution_count": null,
   "id": "introductory-agent",
   "metadata": {},
   "outputs": [],
   "source": [
    "max_div_seq(116, 1)"
   ]
  }
 ],
 "metadata": {},
 "nbformat": 4,
 "nbformat_minor": 5
}
