{
 "cells": [
  {
   "cell_type": "code",
   "execution_count": null,
   "id": "compact-helping",
   "metadata": {},
   "outputs": [],
   "source": [
    "def max_even_seq(n):\n",
    "    snum = str(n)\n",
    "    val = 0\n",
    "    cnt = 0\n",
    "    for i in snum:\n",
    "        num_i = int(i)\n",
    "        if num_i %2 == 0 :\n",
    "            cnt = cnt+1\n",
    "        else:\n",
    "            cnt = 0\n",
    "        if cnt>val :\n",
    "            val = cnt\n",
    "        else:\n",
    "            val = val\n",
    "    return val\n",
    "\n",
    "\n",
    "\n",
    "\n"
   ]
  },
  {
   "cell_type": "code",
   "execution_count": null,
   "id": "eight-narrative",
   "metadata": {},
   "outputs": [],
   "source": [
    "max_div_seq(116, 1)"
   ]
  }
 ],
 "metadata": {},
 "nbformat": 4,
 "nbformat_minor": 5
}
