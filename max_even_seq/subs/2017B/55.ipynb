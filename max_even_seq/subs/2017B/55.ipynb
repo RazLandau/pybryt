{
 "cells": [
  {
   "cell_type": "code",
   "execution_count": null,
   "id": "convertible-wallace",
   "metadata": {},
   "outputs": [],
   "source": [
    "def max_even_seq(n):\n",
    "    long_seq=0\n",
    "    max_seq=[]\n",
    "    for i in str(n):\n",
    "      if int(i)%2 ==0:\n",
    "        long_seq=long_seq+1\n",
    "        max_seq.append(long_seq)  \n",
    "      else:\n",
    "        long_seq=0\n",
    "        max_seq.append(long_seq)  \n",
    "     \n",
    "    return (max(max_seq))\n",
    "\n",
    "\n",
    "\n",
    "\n",
    "\n"
   ]
  },
  {
   "cell_type": "code",
   "execution_count": null,
   "id": "instrumental-princess",
   "metadata": {},
   "outputs": [],
   "source": [
    "max_div_seq(116, 1)"
   ]
  }
 ],
 "metadata": {},
 "nbformat": 4,
 "nbformat_minor": 5
}
