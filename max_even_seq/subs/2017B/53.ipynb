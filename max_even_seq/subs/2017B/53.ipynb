{
 "cells": [
  {
   "cell_type": "code",
   "execution_count": null,
   "id": "palestinian-medicare",
   "metadata": {},
   "outputs": [],
   "source": [
    "def max_even_seq(n):\n",
    "    maximum = 0\n",
    "    temp = 0\n",
    "    for i in range(len(str(n))):\n",
    "        if (n%10)%2 == 0:\n",
    "            temp += 1\n",
    "        else:\n",
    "            temp = 0\n",
    "        if maximum < temp:\n",
    "            maximum = temp      \n",
    "        n = n//10\n",
    "    return maximum\n",
    "\n",
    "\n",
    "\n",
    "\n",
    "\n"
   ]
  },
  {
   "cell_type": "code",
   "execution_count": null,
   "id": "express-pulse",
   "metadata": {},
   "outputs": [],
   "source": [
    "max_div_seq(116, 1)"
   ]
  }
 ],
 "metadata": {},
 "nbformat": 4,
 "nbformat_minor": 5
}
