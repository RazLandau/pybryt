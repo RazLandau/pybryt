{
 "cells": [
  {
   "cell_type": "code",
   "execution_count": null,
   "id": "architectural-friend",
   "metadata": {},
   "outputs": [],
   "source": [
    "def max_even_seq(n):\n",
    "   pt=str(n)\n",
    "   pt=pt[::-1]\n",
    "   n=int(pt)\n",
    "   cnt=0\n",
    "   max1=0\n",
    "   for i in pt:\n",
    "    i=int(i)\n",
    "    if (i%2==0):\n",
    "        cnt=cnt+1\n",
    "        if (cnt>max1):\n",
    "            max1=cnt\n",
    "    elif(i%2!=0):\n",
    "        cnt=0\n",
    "   return (max1)\n",
    "        \n",
    "\n",
    "\n",
    "\n",
    "\n"
   ]
  },
  {
   "cell_type": "code",
   "execution_count": null,
   "id": "competent-stress",
   "metadata": {},
   "outputs": [],
   "source": [
    "max_div_seq(116, 1)"
   ]
  }
 ],
 "metadata": {},
 "nbformat": 4,
 "nbformat_minor": 5
}
