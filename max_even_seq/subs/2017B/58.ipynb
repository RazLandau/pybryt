{
 "cells": [
  {
   "cell_type": "code",
   "execution_count": null,
   "id": "floral-installation",
   "metadata": {},
   "outputs": [],
   "source": [
    "def max_even_seq(n):\n",
    "\t\tn = str(n)\n",
    "\t\tm = 0\n",
    "\t\tcnt = 0\n",
    "\t\tfor i in n:\n",
    "\t\t\tif int(i) % 2 == 0:\n",
    "\t\t\t\t\tcnt = cnt + 1\n",
    "\t\t\t\t\tm = max(m,cnt)\n",
    "\t\t\telse:\n",
    "\t\t\t\t\tcnt = 0\n",
    "\t\treturn(m)\n",
    "\n",
    "\n",
    "\n",
    "\n",
    "\n",
    "\n"
   ]
  },
  {
   "cell_type": "code",
   "execution_count": null,
   "id": "charming-wedding",
   "metadata": {},
   "outputs": [],
   "source": [
    "max_div_seq(116, 1)"
   ]
  }
 ],
 "metadata": {},
 "nbformat": 4,
 "nbformat_minor": 5
}
