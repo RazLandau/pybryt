{
 "cells": [
  {
   "cell_type": "code",
   "execution_count": null,
   "id": "integral-handle",
   "metadata": {},
   "outputs": [],
   "source": [
    "def max_even_seq(n):\n",
    "    count = 0\n",
    "    max_count=0\n",
    "    for i in str(n):\n",
    "        if (int(i)%2!=0 and count>0):\n",
    "            if(count>max_count):\n",
    "                max_count=count\n",
    "            count=0\n",
    "        elif int(i)%2==0:\n",
    "            count=count+1\n",
    "    if(count>max_count):\n",
    "        max_count=count\n",
    "    return max_count\n"
   ]
  },
  {
   "cell_type": "code",
   "execution_count": null,
   "id": "hearing-nudist",
   "metadata": {},
   "outputs": [],
   "source": [
    "max_div_seq(116, 1)"
   ]
  }
 ],
 "metadata": {},
 "nbformat": 4,
 "nbformat_minor": 5
}
