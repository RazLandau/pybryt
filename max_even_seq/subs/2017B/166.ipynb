{
 "cells": [
  {
   "cell_type": "code",
   "execution_count": null,
   "id": "egyptian-wright",
   "metadata": {},
   "outputs": [],
   "source": [
    "def max_even_seq(n):\n",
    "    MaxEven=0\n",
    "    TempMax=0\n",
    "    int_num=int(n)\n",
    "    if (int_num==0):\n",
    "        MaxEven=1\n",
    "    else:\n",
    "        while (int_num!=0):\n",
    "            while (((int_num%10)%2)==0 and int_num!=0): \n",
    "                TempMax+=1\n",
    "                int_num//=10\n",
    "            if MaxEven<TempMax :\n",
    "                MaxEven=TempMax    \n",
    "            TempMax=0\n",
    "            int_num//=10\n",
    "            \n",
    "    return(MaxEven)\n",
    "\n",
    "\n",
    "\n"
   ]
  },
  {
   "cell_type": "code",
   "execution_count": null,
   "id": "existing-current",
   "metadata": {},
   "outputs": [],
   "source": [
    "max_div_seq(116, 1)"
   ]
  }
 ],
 "metadata": {},
 "nbformat": 4,
 "nbformat_minor": 5
}
