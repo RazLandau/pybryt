{
 "cells": [
  {
   "cell_type": "code",
   "execution_count": null,
   "id": "religious-calvin",
   "metadata": {},
   "outputs": [],
   "source": [
    "def max_even_seq(n):\n",
    "    string_n = str(n)\n",
    "    max_even = 0 #\"local\" maximum lenght of evens\n",
    "    max_max_even = 0 #\"global\" maximum lenght of evens\n",
    "    cnt_even = 0\n",
    "    for digit in string_n:\n",
    "        if(int(digit)%2==0):\n",
    "            cnt_even+=1\n",
    "        else:\n",
    "            max_even = cnt_even\n",
    "            cnt_even = 0\n",
    "        if(max_even > max_max_even):\n",
    "            max_max_even = max_even\n",
    "    return max_max_even\n",
    "\n",
    "\n",
    "\n",
    "\n"
   ]
  },
  {
   "cell_type": "code",
   "execution_count": null,
   "id": "faced-scenario",
   "metadata": {},
   "outputs": [],
   "source": [
    "max_div_seq(116, 1)"
   ]
  }
 ],
 "metadata": {},
 "nbformat": 4,
 "nbformat_minor": 5
}
