{
 "cells": [
  {
   "cell_type": "code",
   "execution_count": null,
   "id": "assured-farmer",
   "metadata": {},
   "outputs": [],
   "source": [
    "def max_even_seq(n):\n",
    "    length = 0\n",
    "    templength = 0\n",
    "    for digit in str(n):\n",
    "        if int(digit) % 2 == 0:\n",
    "            templength = templength + 1\n",
    "            if templength > length:\n",
    "                length = templength\n",
    "        else:\n",
    "            templength = 0\n",
    "    print(length)\n",
    "        \n",
    "\n",
    "\n",
    "\n",
    "\n",
    "\n"
   ]
  },
  {
   "cell_type": "code",
   "execution_count": null,
   "id": "supreme-appliance",
   "metadata": {},
   "outputs": [],
   "source": [
    "max_div_seq(116, 1)"
   ]
  }
 ],
 "metadata": {},
 "nbformat": 4,
 "nbformat_minor": 5
}
