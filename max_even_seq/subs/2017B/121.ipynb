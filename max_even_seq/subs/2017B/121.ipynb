{
 "cells": [
  {
   "cell_type": "code",
   "execution_count": null,
   "id": "expensive-scheme",
   "metadata": {},
   "outputs": [],
   "source": [
    "def max_even_seq(n):\n",
    "    max_even = 0\n",
    "    count = 0\n",
    "    for digit in str(n):\n",
    "        if int(digit)%2 ==0:\n",
    "            count += 1\n",
    "        else:\n",
    "            max_even = max(count, max_even)\n",
    "            count = 0\n",
    "    max_even = max(count,max_even) \n",
    "    return (max_even)\n",
    "\n"
   ]
  },
  {
   "cell_type": "code",
   "execution_count": null,
   "id": "discrete-checkout",
   "metadata": {},
   "outputs": [],
   "source": [
    "max_div_seq(116, 1)"
   ]
  }
 ],
 "metadata": {},
 "nbformat": 4,
 "nbformat_minor": 5
}
