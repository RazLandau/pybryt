{
 "cells": [
  {
   "cell_type": "code",
   "execution_count": null,
   "id": "comparative-olympus",
   "metadata": {},
   "outputs": [],
   "source": [
    "def max_even_seq(n):\n",
    "    max_res = 0\n",
    "    cnt = 0\n",
    "    while n > 0:\n",
    "        dig = n % 10\n",
    "        if dig % 2 == 0:\n",
    "            cnt = cnt + 1\n",
    "            if cnt > max_res:\n",
    "                max_res = cnt\n",
    "        else:\n",
    "            if cnt > max_res:\n",
    "                max_res = cnt\n",
    "            cnt = 0\n",
    "        n = n // 10\n",
    "    return max_res\n",
    "\n"
   ]
  },
  {
   "cell_type": "code",
   "execution_count": null,
   "id": "statutory-photographer",
   "metadata": {},
   "outputs": [],
   "source": [
    "max_div_seq(116, 1)"
   ]
  }
 ],
 "metadata": {},
 "nbformat": 4,
 "nbformat_minor": 5
}
