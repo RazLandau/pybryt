{
 "cells": [
  {
   "cell_type": "code",
   "execution_count": null,
   "id": "banner-characterization",
   "metadata": {},
   "outputs": [],
   "source": [
    "def max_even_seq(n):\n",
    "    res=0\n",
    "    cnt=0\n",
    "    n=abs(n)\n",
    "    num=str(n)\n",
    "    for char in num:\n",
    "        if int(char)%2==0:\n",
    "            cnt = cnt+1\n",
    "        else:\n",
    "            if cnt > res:\n",
    "                res=cnt\n",
    "            cnt = 0\n",
    "    if cnt > res:\n",
    "        res = cnt\n",
    "    return res\n",
    "\n",
    "\n",
    "\n",
    "\n",
    "\n"
   ]
  },
  {
   "cell_type": "code",
   "execution_count": null,
   "id": "severe-failure",
   "metadata": {},
   "outputs": [],
   "source": [
    "max_div_seq(116, 1)"
   ]
  }
 ],
 "metadata": {},
 "nbformat": 4,
 "nbformat_minor": 5
}
