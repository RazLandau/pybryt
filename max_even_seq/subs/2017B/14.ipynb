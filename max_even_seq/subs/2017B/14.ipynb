{
 "cells": [
  {
   "cell_type": "code",
   "execution_count": null,
   "id": "direct-northwest",
   "metadata": {},
   "outputs": [],
   "source": [
    "def max_even_seq(n):\n",
    "    max1=0\n",
    "    cnt=0\n",
    "    if(n==0):\n",
    "        print (\"1\")\n",
    "    else:\n",
    "        while(n>0):\n",
    "            if(n%2==0):\n",
    "                cnt+=1\n",
    "            else:\n",
    "                if(cnt>max1):\n",
    "                    max1=cnt\n",
    "                cnt=0\n",
    "            n//=10\n",
    "        if(cnt>max1):\n",
    "            max1=cnt\n",
    "        return max1\n",
    "\n",
    "\n",
    "\n",
    "\n",
    "\n"
   ]
  },
  {
   "cell_type": "code",
   "execution_count": null,
   "id": "rural-version",
   "metadata": {},
   "outputs": [],
   "source": [
    "max_div_seq(116, 1)"
   ]
  }
 ],
 "metadata": {},
 "nbformat": 4,
 "nbformat_minor": 5
}
