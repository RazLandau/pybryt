{
 "cells": [
  {
   "cell_type": "code",
   "execution_count": null,
   "id": "imperial-brunei",
   "metadata": {},
   "outputs": [],
   "source": [
    "def max_even_seq(n):\n",
    "    cnt=\" \"\n",
    "    for x in str(n):\n",
    "        if int(x)%2==0:\n",
    "            cnt=cnt+\"1\"\n",
    "        else:\n",
    "            cnt=cnt+\"  \"\n",
    "    a=str.split(cnt)\n",
    "    if a==[]:\n",
    "        return 0\n",
    "    else:\n",
    "        return (len(max(a)))\n",
    "   \n",
    "   \n",
    "   \n",
    "    \n",
    "\n",
    "\n",
    "\n",
    "\n",
    "\n"
   ]
  },
  {
   "cell_type": "code",
   "execution_count": null,
   "id": "moderate-lesbian",
   "metadata": {},
   "outputs": [],
   "source": [
    "max_div_seq(116, 1)"
   ]
  }
 ],
 "metadata": {},
 "nbformat": 4,
 "nbformat_minor": 5
}
