{
 "cells": [
  {
   "cell_type": "code",
   "execution_count": null,
   "id": "olympic-library",
   "metadata": {},
   "outputs": [],
   "source": [
    "def max_even_seq(n):\n",
    "    n_list = [int(num) for num in str(n)] # list of numbers in n\n",
    "    counter = 0\n",
    "    seq_even = []\n",
    "    i = 0\n",
    "    \n",
    "    for i in range(0, len(n_list)):\n",
    "        #check if even and end of list\n",
    "        if (n_list[i]%2 == 0) and (i == len(n_list)-1):\n",
    "            counter += 1\n",
    "            seq_even.append(counter)\n",
    "\n",
    "        if (n_list[i]%2 == 0):\n",
    "            counter += 1\n",
    "            \n",
    "        else:\n",
    "            seq_even.append(counter)\n",
    "            counter = 0\n",
    "\n",
    "    return(max(seq_even))\n",
    "\n",
    "\n",
    "\n",
    "\n"
   ]
  },
  {
   "cell_type": "code",
   "execution_count": null,
   "id": "prompt-stanford",
   "metadata": {},
   "outputs": [],
   "source": [
    "max_div_seq(116, 1)"
   ]
  }
 ],
 "metadata": {},
 "nbformat": 4,
 "nbformat_minor": 5
}
