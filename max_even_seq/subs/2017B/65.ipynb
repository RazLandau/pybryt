{
 "cells": [
  {
   "cell_type": "code",
   "execution_count": null,
   "id": "compound-garlic",
   "metadata": {},
   "outputs": [],
   "source": [
    "def max_even_seq(n):\n",
    "    pass odd=0\n",
    "    temp=0\n",
    "    op=len(str(n))\n",
    "    for i in range(1,op+1):\n",
    "        num=n%10\n",
    "        n=n//10\n",
    "        if num%2!=0:\n",
    "            if temp>odd:\n",
    "                odd=temp\n",
    "            temp=0    \n",
    "        if num%2==0:\n",
    "            temp=temp+1\n",
    "            if i==op and odd<temp:\n",
    "                odd=temp\n",
    "    return odd        \n",
    "\n",
    "\n"
   ]
  },
  {
   "cell_type": "code",
   "execution_count": null,
   "id": "political-going",
   "metadata": {},
   "outputs": [],
   "source": [
    "max_div_seq(116, 1)"
   ]
  }
 ],
 "metadata": {},
 "nbformat": 4,
 "nbformat_minor": 5
}
