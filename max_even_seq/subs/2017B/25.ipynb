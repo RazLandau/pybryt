{
 "cells": [
  {
   "cell_type": "code",
   "execution_count": null,
   "id": "related-involvement",
   "metadata": {},
   "outputs": [],
   "source": [
    "def max_even_seq(n):\n",
    "    n_str = str(n)\n",
    "    bigger_seq = 0\n",
    "    actual_seq = 0\n",
    "    for i in range(len(n_str)):\n",
    "        if (int(n_str[i])%2 == 0): # if even\n",
    "            actual_seq = actual_seq + 1\n",
    "        else:\n",
    "            if (actual_seq > bigger_seq):\n",
    "                bigger_seq = actual_seq #this is the new bigger sequence\n",
    "                actual_seq = 0 #zero and search for new sequence\n",
    "    #last check\n",
    "    if (actual_seq > bigger_seq):\n",
    "        bigger_seq = actual_seq #this is the new bigger sequence\n",
    "        actual_seq = 0 #zero and search for new sequence\n",
    "    return bigger_seq\n",
    "            \n",
    "\n",
    "\n",
    "\n",
    "\n",
    "\n"
   ]
  },
  {
   "cell_type": "code",
   "execution_count": null,
   "id": "alternate-nepal",
   "metadata": {},
   "outputs": [],
   "source": [
    "max_div_seq(116, 1)"
   ]
  }
 ],
 "metadata": {},
 "nbformat": 4,
 "nbformat_minor": 5
}
