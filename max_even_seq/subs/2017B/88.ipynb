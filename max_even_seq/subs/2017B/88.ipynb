{
 "cells": [
  {
   "cell_type": "code",
   "execution_count": null,
   "id": "surprised-counter",
   "metadata": {},
   "outputs": [],
   "source": [
    "def max_even_seq(n):\n",
    "    cnt = 0\n",
    "    h_cnt = cnt\n",
    "    d = str(n)\n",
    "    for digit in d:\n",
    "        if int(digit) % 2 == 0:\n",
    "            cnt = cnt + 1\n",
    "        elif cnt >= h_cnt :\n",
    "            h_cnt = cnt\n",
    "            cnt = 0\n",
    "        else:\n",
    "            cnt = 0\n",
    "    int_cnt = int(h_cnt)\n",
    "    return (int_cnt)\n",
    "    print (int_cnt)\n",
    "\n",
    "\n",
    "\n",
    "\n",
    "\n"
   ]
  },
  {
   "cell_type": "code",
   "execution_count": null,
   "id": "meaningful-support",
   "metadata": {},
   "outputs": [],
   "source": [
    "max_div_seq(116, 1)"
   ]
  }
 ],
 "metadata": {},
 "nbformat": 4,
 "nbformat_minor": 5
}
