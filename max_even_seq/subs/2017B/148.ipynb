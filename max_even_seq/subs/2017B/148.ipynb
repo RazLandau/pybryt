{
 "cells": [
  {
   "cell_type": "code",
   "execution_count": null,
   "id": "colored-synthesis",
   "metadata": {},
   "outputs": [],
   "source": [
    "def max_even_seq(n):\n",
    "    a = str (n)\n",
    "    b = len (a)\n",
    "    max = 0\n",
    "    temp = 0\n",
    "    for i in range (b):\n",
    "        temp = 0\n",
    "    \n",
    "        while i<b and int(a[i])%2 ==0  :\n",
    "            temp = temp + 1\n",
    "            i = i+1\n",
    "        if temp > max:\n",
    "            max = temp\n",
    "\n",
    "    return max\n",
    "        \n",
    "\n",
    "\n",
    "\n",
    "\n",
    "\n"
   ]
  },
  {
   "cell_type": "code",
   "execution_count": null,
   "id": "seventh-description",
   "metadata": {},
   "outputs": [],
   "source": [
    "max_div_seq(116, 1)"
   ]
  }
 ],
 "metadata": {},
 "nbformat": 4,
 "nbformat_minor": 5
}
