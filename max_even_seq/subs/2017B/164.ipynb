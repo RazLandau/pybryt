{
 "cells": [
  {
   "cell_type": "code",
   "execution_count": null,
   "id": "scientific-mambo",
   "metadata": {},
   "outputs": [],
   "source": [
    "def max_even_seq(n):\n",
    "    tmax= 0\n",
    "    seq = 0 \n",
    "    for i in str(n):\n",
    "        if int(i)%2==0 and str(n)[-1]==i:\n",
    "            seq = seq + 1\n",
    "            if seq > tmax:\n",
    "                tmax = seq\n",
    "        elif int(i)%2==0:\n",
    "            seq = seq + 1\n",
    "        else:\n",
    "            if seq > tmax:\n",
    "                tmax = seq\n",
    "            else:\n",
    "               pass\n",
    "            seq = 0\n",
    "    return(tmax)\n",
    "\n",
    "\n"
   ]
  },
  {
   "cell_type": "code",
   "execution_count": null,
   "id": "sufficient-adrian",
   "metadata": {},
   "outputs": [],
   "source": [
    "max_div_seq(116, 1)"
   ]
  }
 ],
 "metadata": {},
 "nbformat": 4,
 "nbformat_minor": 5
}
