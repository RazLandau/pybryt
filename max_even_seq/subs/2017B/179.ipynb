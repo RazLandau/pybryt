{
 "cells": [
  {
   "cell_type": "code",
   "execution_count": null,
   "id": "curious-madness",
   "metadata": {},
   "outputs": [],
   "source": [
    "def max_even_seq(n):\n",
    "    max_even_seq = 0\n",
    "    num_even_seq = 0\n",
    "    str_n = str(n)\n",
    "    digit_is_even = False\n",
    "    for digit in str_n:\n",
    "        if int(digit) % 2 == 0:\n",
    "            digit_is_even = True\n",
    "            num_even_seq += 1      \n",
    "        else:\n",
    "            digit_is_even = False\n",
    "            if num_even_seq > max_even_seq:\n",
    "                max_even_seq = num_even_seq\n",
    "            num_even_seq = 0\n",
    "    if (digit_is_even == True):\n",
    "        max_even_seq = num_even_seq\n",
    "    return max_even_seq\n",
    "\n",
    "\n",
    "\n"
   ]
  },
  {
   "cell_type": "code",
   "execution_count": null,
   "id": "vietnamese-marriage",
   "metadata": {},
   "outputs": [],
   "source": [
    "max_div_seq(116, 1)"
   ]
  }
 ],
 "metadata": {},
 "nbformat": 4,
 "nbformat_minor": 5
}
