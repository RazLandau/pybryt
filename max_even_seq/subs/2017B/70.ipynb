{
 "cells": [
  {
   "cell_type": "code",
   "execution_count": null,
   "id": "fifteen-principal",
   "metadata": {},
   "outputs": [],
   "source": [
    "def max_even_seq(n):\n",
    "       maxE=0\n",
    "       temp=0\n",
    "       while n>0:\n",
    "           if n%2==0:\n",
    "                  temp=temp+1\n",
    "                  if temp>maxE:\n",
    "                         maxE=temp\n",
    "           else:\n",
    "                  temp=0\n",
    "           n=n//10       \n",
    "       return maxE              \n",
    "\n"
   ]
  },
  {
   "cell_type": "code",
   "execution_count": null,
   "id": "independent-gibson",
   "metadata": {},
   "outputs": [],
   "source": [
    "max_div_seq(116, 1)"
   ]
  }
 ],
 "metadata": {},
 "nbformat": 4,
 "nbformat_minor": 5
}
