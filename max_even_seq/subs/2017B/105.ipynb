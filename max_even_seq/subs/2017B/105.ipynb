{
 "cells": [
  {
   "cell_type": "code",
   "execution_count": null,
   "id": "wound-simulation",
   "metadata": {},
   "outputs": [],
   "source": [
    "def max_even_seq(n):\n",
    "    tempseq=0 #temporary sequence counter\n",
    "    finalseq=0\n",
    "    for deg in str(n):\n",
    "        if int(deg)%2==0:\n",
    "            tempseq=tempseq+1\n",
    "        else:\n",
    "            if tempseq>finalseq:\n",
    "                finalseq=tempseq\n",
    "                tempseq=0\n",
    "            else:\n",
    "                tempseq=0\n",
    "    if tempseq>finalseq:\n",
    "        return tempseq\n",
    "    else:\n",
    "        return finalseq\n",
    "\n",
    "\n",
    "\n",
    "\n",
    "\n"
   ]
  },
  {
   "cell_type": "code",
   "execution_count": null,
   "id": "secret-saint",
   "metadata": {},
   "outputs": [],
   "source": [
    "max_div_seq(116, 1)"
   ]
  }
 ],
 "metadata": {},
 "nbformat": 4,
 "nbformat_minor": 5
}
