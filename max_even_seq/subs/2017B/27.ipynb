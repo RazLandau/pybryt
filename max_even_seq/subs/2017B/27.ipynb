{
 "cells": [
  {
   "cell_type": "code",
   "execution_count": null,
   "id": "meaningful-magazine",
   "metadata": {},
   "outputs": [],
   "source": [
    "def max_even_seq(n):\n",
    "    max_seq = 0\n",
    "    counter = 0\n",
    "    for i in str(n):\n",
    "        i = int(i)\n",
    "        if i % 2 == 0:\n",
    "            counter += 1\n",
    "        else:\n",
    "            max_seq = max(counter, max_seq)\n",
    "            counter = 0\n",
    "    max_seq = max(counter, max_seq)\n",
    "    return max_seq\n",
    "\n",
    "\n",
    "\n",
    "\n",
    "\n"
   ]
  },
  {
   "cell_type": "code",
   "execution_count": null,
   "id": "finished-fruit",
   "metadata": {},
   "outputs": [],
   "source": [
    "max_div_seq(116, 1)"
   ]
  }
 ],
 "metadata": {},
 "nbformat": 4,
 "nbformat_minor": 5
}
