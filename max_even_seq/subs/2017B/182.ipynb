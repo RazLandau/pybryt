{
 "cells": [
  {
   "cell_type": "code",
   "execution_count": null,
   "id": "patient-orbit",
   "metadata": {},
   "outputs": [],
   "source": [
    "def max_even_seq(n):\n",
    "    if n==0:\n",
    "        return 1\n",
    "    count=0\n",
    "    max_sequence=0\n",
    "    while n!=0:\n",
    "        if n%2==0:\n",
    "            count=count+1\n",
    "        else:\n",
    "            max_sequence=max(max_sequence, count)\n",
    "            count=0\n",
    "        n=n//10\n",
    "    return max_sequence\n",
    "\n",
    "\n",
    "\n",
    "\n"
   ]
  },
  {
   "cell_type": "code",
   "execution_count": null,
   "id": "interesting-overall",
   "metadata": {},
   "outputs": [],
   "source": [
    "max_div_seq(116, 1)"
   ]
  }
 ],
 "metadata": {},
 "nbformat": 4,
 "nbformat_minor": 5
}
