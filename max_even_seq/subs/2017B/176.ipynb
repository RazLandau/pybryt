{
 "cells": [
  {
   "cell_type": "code",
   "execution_count": null,
   "id": "lesser-arizona",
   "metadata": {},
   "outputs": [],
   "source": [
    "def max_even_seq(n):\n",
    "    num = str(n)\n",
    "    even_seq_list = []\n",
    "    cnt = 1\n",
    "    for i in range(len(num)):\n",
    "        if (int(num[i]))%2 == 0 and (int(num[i-1]))%2 == 0:\n",
    "            cnt += 1\n",
    "        elif (int(num[i]))%2 != 0 or i == len(num)-1:\n",
    "            even_seq_list.append(cnt)\n",
    "            cnt = 1\n",
    "    if max(even_seq_list) > 1:\n",
    "        return max(even_seq_list)\n",
    "    else:\n",
    "        if ('0' or '2' or '4' or '6' or '8') in num:\n",
    "            return 1\n",
    "        else:\n",
    "            return 0\n",
    "    \n",
    "                \n",
    "\n",
    "\n"
   ]
  },
  {
   "cell_type": "code",
   "execution_count": null,
   "id": "architectural-accommodation",
   "metadata": {},
   "outputs": [],
   "source": [
    "max_div_seq(116, 1)"
   ]
  }
 ],
 "metadata": {},
 "nbformat": 4,
 "nbformat_minor": 5
}
