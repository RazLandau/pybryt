{
 "cells": [
  {
   "cell_type": "code",
   "execution_count": null,
   "id": "suitable-stuff",
   "metadata": {},
   "outputs": [],
   "source": [
    "def max_even_seq(n):   \n",
    "    if n == 0:\n",
    "        return 1\n",
    "\n",
    "    max_len = 0\n",
    "    count = 0\n",
    "    while n > 0:\n",
    "        if (n % 10) % 2 == 0:\n",
    "            count += 1\n",
    "        elif count != 0:\n",
    "            max_len = max([max_len, count])\n",
    "            count = 0\n",
    "        n //= 10\n",
    "\n",
    "    return max_len\n",
    "\n",
    "\n",
    "\n",
    "\n",
    "\n"
   ]
  },
  {
   "cell_type": "code",
   "execution_count": null,
   "id": "contemporary-director",
   "metadata": {},
   "outputs": [],
   "source": [
    "max_div_seq(116, 1)"
   ]
  }
 ],
 "metadata": {},
 "nbformat": 4,
 "nbformat_minor": 5
}
