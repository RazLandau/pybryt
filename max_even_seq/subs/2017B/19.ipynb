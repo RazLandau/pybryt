{
 "cells": [
  {
   "cell_type": "code",
   "execution_count": null,
   "id": "blessed-beads",
   "metadata": {},
   "outputs": [],
   "source": [
    "def max_even_seq(n):\n",
    "    cnt=0\n",
    "    sofi=0\n",
    "    for i in str(n):\n",
    "        if int(i)%2==0:\n",
    "            cnt=cnt+1\n",
    "            if sofi<cnt:\n",
    "                sofi=cnt\n",
    "        else:\n",
    "            cnt=0\n",
    "    return(sofi)\n",
    "    \n",
    "\n",
    "\n",
    "\n",
    "\n",
    "\n"
   ]
  },
  {
   "cell_type": "code",
   "execution_count": null,
   "id": "ambient-toyota",
   "metadata": {},
   "outputs": [],
   "source": [
    "max_div_seq(116, 1)"
   ]
  }
 ],
 "metadata": {},
 "nbformat": 4,
 "nbformat_minor": 5
}
