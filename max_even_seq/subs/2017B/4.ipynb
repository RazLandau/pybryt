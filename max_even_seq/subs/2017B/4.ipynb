{
 "cells": [
  {
   "cell_type": "code",
   "execution_count": null,
   "id": "nominated-belgium",
   "metadata": {},
   "outputs": [],
   "source": [
    "def max_even_seq(n):\n",
    "    even_dig = 0\n",
    "    maximum = 0\n",
    "    for i in str(n):\n",
    "        if int(i)%2 == 0:\n",
    "            even_dig = even_dig + 1\n",
    "            if even_dig > maximum:\n",
    "                maximum = even_dig\n",
    "        else:\n",
    "            even_dig = 0\n",
    "    return maximum\n",
    "\n",
    "\n",
    "        \n",
    "            \n",
    "            \n",
    "\n",
    "\n",
    "\n",
    "\n"
   ]
  },
  {
   "cell_type": "code",
   "execution_count": null,
   "id": "reserved-edition",
   "metadata": {},
   "outputs": [],
   "source": [
    "max_div_seq(116, 1)"
   ]
  }
 ],
 "metadata": {},
 "nbformat": 4,
 "nbformat_minor": 5
}
