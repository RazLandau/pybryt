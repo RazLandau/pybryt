{
 "cells": [
  {
   "cell_type": "code",
   "execution_count": null,
   "id": "widespread-brown",
   "metadata": {},
   "outputs": [],
   "source": [
    "def max_div_seq(n, k):\n",
    "    maxi=0\n",
    "    c=0\n",
    "    lst=list(str(n))\n",
    "    for i in range(len(lst)):\n",
    "        if int(lst[i])%k==0:\n",
    "            c+=1\n",
    "        else:\n",
    "            if c>maxi:\n",
    "                maxi=c\n",
    "            c=0\n",
    "    if c>maxi:\n",
    "        maxi=c\n",
    "    return maxi"
   ]
  },
  {
   "cell_type": "code",
   "execution_count": null,
   "id": "varied-craps",
   "metadata": {},
   "outputs": [],
   "source": [
    "max_div_seq(116, 1)"
   ]
  }
 ],
 "metadata": {},
 "nbformat": 4,
 "nbformat_minor": 5
}
