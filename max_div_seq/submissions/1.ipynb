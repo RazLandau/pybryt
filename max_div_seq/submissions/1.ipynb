{
 "cells": [
  {
   "cell_type": "code",
   "execution_count": null,
   "id": "numeric-filter",
   "metadata": {},
   "outputs": [],
   "source": [
    "def max_div_seq(n, k):\n",
    "    cnt_chk = 0\n",
    "    cnt_max = 0\n",
    "    n_to_str = str(n)\n",
    "    for i in n_to_str:\n",
    "        if int(i) % k == 0:\n",
    "            cnt_chk += 1\n",
    "            cnt_max = max(cnt_chk, cnt_max)\n",
    "        else:\n",
    "            cnt_chk = 0\n",
    "\n",
    "    return cnt_max"
   ]
  },
  {
   "cell_type": "code",
   "execution_count": null,
   "id": "opposed-customer",
   "metadata": {},
   "outputs": [],
   "source": [
    "max_div_seq(116, 1)"
   ]
  }
 ],
 "metadata": {},
 "nbformat": 4,
 "nbformat_minor": 5
}
