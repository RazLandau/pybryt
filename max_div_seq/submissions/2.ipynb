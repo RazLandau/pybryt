{
 "cells": [
  {
   "cell_type": "code",
   "execution_count": null,
   "id": "attempted-sword",
   "metadata": {},
   "outputs": [],
   "source": [
    "def max_div_seq(n,k):\n",
    "    str_n = str(n)\n",
    "    max_div = []\n",
    "    i = 0\n",
    "    for num in str_n:\n",
    "        if int(num) % k == 0:\n",
    "            i += 1\n",
    "        else:\n",
    "            max_div.append(i)\n",
    "            i = 0\n",
    "    max_div.append(i)\n",
    "    return (max(max_div))"
   ]
  },
  {
   "cell_type": "code",
   "execution_count": null,
   "id": "adjacent-sunday",
   "metadata": {},
   "outputs": [],
   "source": [
    "max_div_seq(116, 1)"
   ]
  }
 ],
 "metadata": {},
 "nbformat": 4,
 "nbformat_minor": 5
}
