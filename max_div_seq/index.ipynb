{
 "cells": [
  {
   "cell_type": "markdown",
   "metadata": {},
   "source": [
    "# max_div_seq Runner"
   ]
  },
  {
   "cell_type": "code",
   "execution_count": 1,
   "metadata": {},
   "outputs": [],
   "source": [
    "import pybryt"
   ]
  },
  {
   "cell_type": "markdown",
   "metadata": {},
   "source": [
    "## Reference Implementations"
   ]
  },
  {
   "cell_type": "code",
   "execution_count": 2,
   "metadata": {},
   "outputs": [],
   "source": [
    "ref = pybryt.ReferenceImplementation.compile(\"max_div_seq.ipynb\")\n",
    "ref.dump(\"max_div_seq-ref.pkl\")"
   ]
  },
  {
   "cell_type": "code",
   "execution_count": 3,
   "metadata": {},
   "outputs": [],
   "source": [
    "ref = pybryt.ReferenceImplementation.load(\"max_div_seq-ref.pkl\")\n"
   ]
  },
  {
   "cell_type": "markdown",
   "metadata": {},
   "source": [
    "## Assessing Submissions"
   ]
  },
  {
   "cell_type": "code",
   "execution_count": 4,
   "metadata": {},
   "outputs": [
    {
     "data": {
      "text/plain": "['submissions/2.py', 'submissions/3.py', 'submissions/1.py']"
     },
     "execution_count": 4,
     "metadata": {},
     "output_type": "execute_result"
    }
   ],
   "source": [
    "from glob import glob\n",
    "subms = glob(\"submissions/*.py\")\n",
    "subms"
   ]
  },
  {
   "cell_type": "code",
   "execution_count": 5,
   "metadata": {
    "pycharm": {
     "name": "#%%\n"
    }
   },
   "outputs": [
    {
     "name": "stderr",
     "output_type": "stream",
     "text": [
      "/Users/razlandau/Documents/Code/python/lib/python3.7/site-packages/IPython/nbformat.py:13: ShimWarning: The `IPython.nbformat` package has been deprecated since IPython 4.0. You should import from nbformat instead.\n",
      "  \"You should import from nbformat instead.\", ShimWarning)\n"
     ]
    }
   ],
   "source": [
    "import IPython.nbformat  as nbf\n",
    "from pathlib import Path\n",
    "\n",
    "notebooks = []\n",
    "\n",
    "for sub in subms:\n",
    "\n",
    "    code = Path(sub).read_text()\n",
    "\n",
    "    cells = []\n",
    "\n",
    "    cell = nbf.v4.new_code_cell(source=code)\n",
    "    cells.append(cell)\n",
    "    cell = nbf.v4.new_code_cell(source=\"max_div_seq(116, 1)\")\n",
    "    cells.append(cell)\n",
    "\n",
    "    nb = nbf.v4.new_notebook(cells = cells)\n",
    "\n",
    "    pre, ext = os.path.splitext(sub)\n",
    "    notebook = pre + '.ipynb'\n",
    "    with open(notebook, 'w') as f:\n",
    "\n",
    "            nbf.write(nb, f, 4)\n",
    "    notebooks.append(notebook)"
   ]
  },
  {
   "cell_type": "code",
   "execution_count": 6,
   "metadata": {},
   "outputs": [
    {
     "data": {
      "text/plain": "[<pybryt.student.StudentImplementation at 0x7ff2f3c263c8>,\n <pybryt.student.StudentImplementation at 0x7ff2f3c3e048>,\n <pybryt.student.StudentImplementation at 0x7ff2f341dba8>]"
     },
     "execution_count": 6,
     "metadata": {},
     "output_type": "execute_result"
    }
   ],
   "source": [
    "student_impls = []\n",
    "for subm in notebooks:\n",
    "    student_impls.append(pybryt.StudentImplementation(subm))\n",
    "\n",
    "student_impls"
   ]
  },
  {
   "cell_type": "code",
   "execution_count": 7,
   "metadata": {},
   "outputs": [
    {
     "data": {
      "text/plain": "[ReferenceResult([\n   AnnotationResult(satisfied=False, annotation=pybryt.NotAnnotation)\n ]),\n ReferenceResult([\n   AnnotationResult(satisfied=True, annotation=pybryt.NotAnnotation)\n ]),\n ReferenceResult([\n   AnnotationResult(satisfied=True, annotation=pybryt.NotAnnotation)\n ])]"
     },
     "execution_count": 7,
     "metadata": {},
     "output_type": "execute_result"
    }
   ],
   "source": [
    "results = []\n",
    "for si in student_impls:\n",
    "    results.append(si.check(ref))\n",
    "\n",
    "results"
   ]
  },
  {
   "cell_type": "code",
   "execution_count": 8,
   "metadata": {},
   "outputs": [
    {
     "name": "stdout",
     "output_type": "stream",
     "text": [
      "SUBMISSION: submissions/2.py\n",
      "  SATISFIED: False\n",
      "  MESSAGES:\n",
      "    - don't use a list!\n",
      "\n",
      "\n",
      "SUBMISSION: submissions/3.py\n",
      "  SATISFIED: True\n",
      "  MESSAGES:\n",
      "\n",
      "\n",
      "\n",
      "SUBMISSION: submissions/1.py\n",
      "  SATISFIED: True\n",
      "  MESSAGES:\n",
      "\n",
      "\n",
      "\n"
     ]
    }
   ],
   "source": [
    "from textwrap import indent\n",
    "for sp, res in zip(subms, results):\n",
    "    print(f\"SUBMISSION: {sp}\")\n",
    "    # res.messages is a list of messages returned by the reference during grading\n",
    "    messages = \"\\n\".join(res.messages) \n",
    "    \n",
    "    # res.correct is a boolean for whether the reference was satisfied\n",
    "    message = f\"SATISFIED: {res.correct}\\nMESSAGES:\\n{indent(messages, '  - ')}\"\n",
    "    \n",
    "    # some pretty-printing\n",
    "    print(indent(message, \"  \"))\n",
    "    print(\"\\n\")"
   ]
  }
 ],
 "metadata": {
  "@webio": {
   "lastCommId": null,
   "lastKernelId": null
  },
  "kernelspec": {
   "display_name": "Python 3",
   "language": "python",
   "name": "python3"
  },
  "language_info": {
   "codemirror_mode": {
    "name": "ipython",
    "version": 3
   },
   "file_extension": ".py",
   "mimetype": "text/x-python",
   "name": "python",
   "nbconvert_exporter": "python",
   "pygments_lexer": "ipython3",
   "version": "3.7.3"
  }
 },
 "nbformat": 4,
 "nbformat_minor": 4
}